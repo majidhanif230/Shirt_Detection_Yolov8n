{
  "cells": [
    {
      "cell_type": "code",
      "execution_count": 1,
      "metadata": {
        "colab": {
          "base_uri": "https://localhost:8080/"
        },
        "id": "zx-pArFbRUUb",
        "outputId": "81693ade-4263-46f0-edfe-9088d455ab10"
      },
      "outputs": [
        {
          "name": "stdout",
          "output_type": "stream",
          "text": [
            "Archive:  data.zip\n",
            "   creating: /content/data/\n",
            "   creating: /content/data/images/\n",
            "   creating: /content/data/images/train/\n",
            "  inflating: /content/data/images/train/black_100.jpg  \n",
            "  inflating: /content/data/images/train/black_101.jpg  \n",
            "  inflating: /content/data/images/train/black_102.jpg  \n",
            "  inflating: /content/data/images/train/black_103.jpg  \n",
            "  inflating: /content/data/images/train/black_104.jpg  \n",
            "  inflating: /content/data/images/train/black_105.jpg  \n",
            "  inflating: /content/data/images/train/black_106.jpg  \n",
            "  inflating: /content/data/images/train/black_107.jpg  \n",
            "  inflating: /content/data/images/train/black_108.jpg  \n",
            "  inflating: /content/data/images/train/black_109.jpg  \n",
            "  inflating: /content/data/images/train/black_110.jpg  \n",
            "  inflating: /content/data/images/train/black_111.jpg  \n",
            "  inflating: /content/data/images/train/black_112.jpg  \n",
            "  inflating: /content/data/images/train/black_113.jpg  \n",
            "  inflating: /content/data/images/train/black_114.jpg  \n",
            "  inflating: /content/data/images/train/black_115.jpg  \n",
            "  inflating: /content/data/images/train/black_116.jpg  \n",
            "  inflating: /content/data/images/train/black_117.jpg  \n",
            "  inflating: /content/data/images/train/black_118.jpg  \n",
            "  inflating: /content/data/images/train/black_119.jpg  \n",
            "  inflating: /content/data/images/train/black_120.jpg  \n",
            "  inflating: /content/data/images/train/black_121.jpg  \n",
            "  inflating: /content/data/images/train/black_122.jpg  \n",
            "  inflating: /content/data/images/train/black_123.jpg  \n",
            "  inflating: /content/data/images/train/black_124.jpg  \n",
            "  inflating: /content/data/images/train/black_125.jpg  \n",
            "  inflating: /content/data/images/train/black_126.jpg  \n",
            "  inflating: /content/data/images/train/black_127.jpg  \n",
            "  inflating: /content/data/images/train/black_128.jpg  \n",
            "  inflating: /content/data/images/train/black_129.jpg  \n",
            "  inflating: /content/data/images/train/black_130.jpg  \n",
            "  inflating: /content/data/images/train/black_131.jpg  \n",
            "  inflating: /content/data/images/train/black_132.jpg  \n",
            "  inflating: /content/data/images/train/black_133.jpg  \n",
            "  inflating: /content/data/images/train/black_134.jpg  \n",
            "  inflating: /content/data/images/train/black_135.jpg  \n",
            "  inflating: /content/data/images/train/black_136.jpg  \n",
            "  inflating: /content/data/images/train/black_137.jpg  \n",
            "  inflating: /content/data/images/train/black_138.jpg  \n",
            "  inflating: /content/data/images/train/black_139.jpg  \n",
            "  inflating: /content/data/images/train/black_140.jpg  \n",
            "  inflating: /content/data/images/train/black_141.jpg  \n",
            "  inflating: /content/data/images/train/black_142.jpg  \n",
            "  inflating: /content/data/images/train/black_143.jpg  \n",
            "  inflating: /content/data/images/train/black_144.jpg  \n",
            "  inflating: /content/data/images/train/black_145.jpg  \n",
            "  inflating: /content/data/images/train/black_146.jpg  \n",
            "  inflating: /content/data/images/train/black_147.jpg  \n",
            "  inflating: /content/data/images/train/black_148.jpg  \n",
            "  inflating: /content/data/images/train/black_149.jpg  \n",
            "  inflating: /content/data/images/train/black_150.jpg  \n",
            "  inflating: /content/data/images/train/black_31.jpg  \n",
            "  inflating: /content/data/images/train/black_32.jpg  \n",
            "  inflating: /content/data/images/train/black_33.jpg  \n",
            "  inflating: /content/data/images/train/black_34.jpg  \n",
            "  inflating: /content/data/images/train/black_35.jpg  \n",
            "  inflating: /content/data/images/train/black_36.jpg  \n",
            "  inflating: /content/data/images/train/black_37.jpg  \n",
            "  inflating: /content/data/images/train/black_38.jpg  \n",
            "  inflating: /content/data/images/train/black_39.jpg  \n",
            "  inflating: /content/data/images/train/black_40.jpg  \n",
            "  inflating: /content/data/images/train/black_41.jpg  \n",
            "  inflating: /content/data/images/train/black_42.jpg  \n",
            "  inflating: /content/data/images/train/black_43.jpg  \n",
            "  inflating: /content/data/images/train/black_44.jpg  \n",
            "  inflating: /content/data/images/train/black_45.jpg  \n",
            "  inflating: /content/data/images/train/black_46.jpg  \n",
            "  inflating: /content/data/images/train/black_47.jpg  \n",
            "  inflating: /content/data/images/train/black_48.jpg  \n",
            "  inflating: /content/data/images/train/black_49.jpg  \n",
            "  inflating: /content/data/images/train/black_50.jpg  \n",
            "  inflating: /content/data/images/train/black_51.jpg  \n",
            "  inflating: /content/data/images/train/black_52.jpg  \n",
            "  inflating: /content/data/images/train/black_53.jpg  \n",
            "  inflating: /content/data/images/train/black_54.jpg  \n",
            "  inflating: /content/data/images/train/black_55.jpg  \n",
            "  inflating: /content/data/images/train/black_56.jpg  \n",
            "  inflating: /content/data/images/train/black_57.jpg  \n",
            "  inflating: /content/data/images/train/black_58.jpg  \n",
            "  inflating: /content/data/images/train/black_59.jpg  \n",
            "  inflating: /content/data/images/train/black_60.jpg  \n",
            "  inflating: /content/data/images/train/black_61.jpg  \n",
            "  inflating: /content/data/images/train/black_62.jpg  \n",
            "  inflating: /content/data/images/train/black_63.jpg  \n",
            "  inflating: /content/data/images/train/black_64.jpg  \n",
            "  inflating: /content/data/images/train/black_65.jpg  \n",
            "  inflating: /content/data/images/train/black_66.jpg  \n",
            "  inflating: /content/data/images/train/black_67.jpg  \n",
            "  inflating: /content/data/images/train/black_68.jpg  \n",
            "  inflating: /content/data/images/train/black_69.jpg  \n",
            "  inflating: /content/data/images/train/black_70.jpg  \n",
            "  inflating: /content/data/images/train/black_71.jpg  \n",
            "  inflating: /content/data/images/train/black_72.jpg  \n",
            "  inflating: /content/data/images/train/black_73.jpg  \n",
            "  inflating: /content/data/images/train/black_74.jpg  \n",
            "  inflating: /content/data/images/train/black_75.jpg  \n",
            "  inflating: /content/data/images/train/black_76.jpg  \n",
            "  inflating: /content/data/images/train/black_77.jpg  \n",
            "  inflating: /content/data/images/train/black_78.jpg  \n",
            "  inflating: /content/data/images/train/black_79.jpg  \n",
            "  inflating: /content/data/images/train/black_80.jpg  \n",
            "  inflating: /content/data/images/train/black_81.jpg  \n",
            "  inflating: /content/data/images/train/black_82.jpg  \n",
            "  inflating: /content/data/images/train/black_83.jpg  \n",
            "  inflating: /content/data/images/train/black_84.jpg  \n",
            "  inflating: /content/data/images/train/black_85.jpg  \n",
            "  inflating: /content/data/images/train/black_86.jpg  \n",
            "  inflating: /content/data/images/train/black_87.jpg  \n",
            "  inflating: /content/data/images/train/black_88.jpg  \n",
            "  inflating: /content/data/images/train/black_89.jpg  \n",
            "  inflating: /content/data/images/train/black_90.jpg  \n",
            "  inflating: /content/data/images/train/black_91.jpg  \n",
            "  inflating: /content/data/images/train/black_92.jpg  \n",
            "  inflating: /content/data/images/train/black_93.jpg  \n",
            "  inflating: /content/data/images/train/black_94.jpg  \n",
            "  inflating: /content/data/images/train/black_95.jpg  \n",
            "  inflating: /content/data/images/train/black_96.jpg  \n",
            "  inflating: /content/data/images/train/black_97.jpg  \n",
            "  inflating: /content/data/images/train/black_98.jpg  \n",
            "  inflating: /content/data/images/train/black_99.jpg  \n",
            "  inflating: /content/data/images/train/blue_100.jpg  \n",
            "  inflating: /content/data/images/train/blue_101.jpg  \n",
            "  inflating: /content/data/images/train/blue_102.jpg  \n",
            "  inflating: /content/data/images/train/blue_103.jpg  \n",
            "  inflating: /content/data/images/train/blue_104.jpg  \n",
            "  inflating: /content/data/images/train/blue_105.jpg  \n",
            "  inflating: /content/data/images/train/blue_106.jpg  \n",
            "  inflating: /content/data/images/train/blue_107.jpg  \n",
            "  inflating: /content/data/images/train/blue_108.jpg  \n",
            "  inflating: /content/data/images/train/blue_109.jpg  \n",
            "  inflating: /content/data/images/train/blue_110.jpg  \n",
            "  inflating: /content/data/images/train/blue_111.jpg  \n",
            "  inflating: /content/data/images/train/blue_112.jpg  \n",
            "  inflating: /content/data/images/train/blue_113.jpg  \n",
            "  inflating: /content/data/images/train/blue_114.jpg  \n",
            "  inflating: /content/data/images/train/blue_115.jpg  \n",
            "  inflating: /content/data/images/train/blue_116.jpg  \n",
            "  inflating: /content/data/images/train/blue_117.jpg  \n",
            "  inflating: /content/data/images/train/blue_118.jpg  \n",
            "  inflating: /content/data/images/train/blue_119.jpg  \n",
            "  inflating: /content/data/images/train/blue_120.jpg  \n",
            "  inflating: /content/data/images/train/blue_121.jpg  \n",
            "  inflating: /content/data/images/train/blue_122.jpg  \n",
            "  inflating: /content/data/images/train/blue_123.jpg  \n",
            "  inflating: /content/data/images/train/blue_124.jpg  \n",
            "  inflating: /content/data/images/train/blue_125.jpg  \n",
            "  inflating: /content/data/images/train/blue_126.jpg  \n",
            "  inflating: /content/data/images/train/blue_127.jpg  \n",
            "  inflating: /content/data/images/train/blue_128.jpg  \n",
            "  inflating: /content/data/images/train/blue_129.jpg  \n",
            "  inflating: /content/data/images/train/blue_130.jpg  \n",
            "  inflating: /content/data/images/train/blue_131.jpg  \n",
            "  inflating: /content/data/images/train/blue_132.jpg  \n",
            "  inflating: /content/data/images/train/blue_133.jpg  \n",
            "  inflating: /content/data/images/train/blue_134.jpg  \n",
            "  inflating: /content/data/images/train/blue_135.jpg  \n",
            "  inflating: /content/data/images/train/blue_136.jpg  \n",
            "  inflating: /content/data/images/train/blue_137.jpg  \n",
            "  inflating: /content/data/images/train/blue_138.jpg  \n",
            "  inflating: /content/data/images/train/blue_139.jpg  \n",
            "  inflating: /content/data/images/train/blue_140.jpg  \n",
            "  inflating: /content/data/images/train/blue_141.jpg  \n",
            "  inflating: /content/data/images/train/blue_142.jpg  \n",
            "  inflating: /content/data/images/train/blue_143.jpg  \n",
            "  inflating: /content/data/images/train/blue_144.jpg  \n",
            "  inflating: /content/data/images/train/blue_145.jpg  \n",
            "  inflating: /content/data/images/train/blue_146.jpg  \n",
            "  inflating: /content/data/images/train/blue_147.jpg  \n",
            "  inflating: /content/data/images/train/blue_148.jpg  \n",
            "  inflating: /content/data/images/train/blue_31.jpg  \n",
            "  inflating: /content/data/images/train/blue_32.jpg  \n",
            "  inflating: /content/data/images/train/blue_33.jpg  \n",
            "  inflating: /content/data/images/train/blue_34.jpg  \n",
            "  inflating: /content/data/images/train/blue_35.jpg  \n",
            "  inflating: /content/data/images/train/blue_36.jpg  \n",
            "  inflating: /content/data/images/train/blue_37.jpg  \n",
            "  inflating: /content/data/images/train/blue_38.jpg  \n",
            "  inflating: /content/data/images/train/blue_39.jpg  \n",
            "  inflating: /content/data/images/train/blue_40.jpg  \n",
            "  inflating: /content/data/images/train/blue_41.jpg  \n",
            "  inflating: /content/data/images/train/blue_42.jpg  \n",
            "  inflating: /content/data/images/train/blue_43.jpg  \n",
            "  inflating: /content/data/images/train/blue_44.jpg  \n",
            "  inflating: /content/data/images/train/blue_45.jpg  \n",
            "  inflating: /content/data/images/train/blue_46.jpg  \n",
            "  inflating: /content/data/images/train/blue_47.jpg  \n",
            "  inflating: /content/data/images/train/blue_48.jpg  \n",
            "  inflating: /content/data/images/train/blue_49.jpg  \n",
            "  inflating: /content/data/images/train/blue_50.jpg  \n",
            "  inflating: /content/data/images/train/blue_51.jpg  \n",
            "  inflating: /content/data/images/train/blue_52.jpg  \n",
            "  inflating: /content/data/images/train/blue_53.jpg  \n",
            "  inflating: /content/data/images/train/blue_54.jpg  \n",
            "  inflating: /content/data/images/train/blue_55.jpg  \n",
            "  inflating: /content/data/images/train/blue_56.jpg  \n",
            "  inflating: /content/data/images/train/blue_57.jpg  \n",
            "  inflating: /content/data/images/train/blue_58.jpg  \n",
            "  inflating: /content/data/images/train/blue_59.jpg  \n",
            "  inflating: /content/data/images/train/blue_60.jpg  \n",
            "  inflating: /content/data/images/train/blue_61.jpg  \n",
            "  inflating: /content/data/images/train/blue_62.jpg  \n",
            "  inflating: /content/data/images/train/blue_63.jpg  \n",
            "  inflating: /content/data/images/train/blue_64.jpg  \n",
            "  inflating: /content/data/images/train/blue_65.jpg  \n",
            "  inflating: /content/data/images/train/blue_66.jpg  \n",
            "  inflating: /content/data/images/train/blue_67.jpg  \n",
            "  inflating: /content/data/images/train/blue_68.jpg  \n",
            "  inflating: /content/data/images/train/blue_69.jpg  \n",
            "  inflating: /content/data/images/train/blue_70.jpg  \n",
            "  inflating: /content/data/images/train/blue_71.jpg  \n",
            "  inflating: /content/data/images/train/blue_72.jpg  \n",
            "  inflating: /content/data/images/train/blue_73.jpg  \n",
            "  inflating: /content/data/images/train/blue_74.jpg  \n",
            "  inflating: /content/data/images/train/blue_75.jpg  \n",
            "  inflating: /content/data/images/train/blue_76.jpg  \n",
            "  inflating: /content/data/images/train/blue_77.jpg  \n",
            "  inflating: /content/data/images/train/blue_78.jpg  \n",
            "  inflating: /content/data/images/train/blue_79.jpg  \n",
            "  inflating: /content/data/images/train/blue_80.jpg  \n",
            "  inflating: /content/data/images/train/blue_81.jpg  \n",
            "  inflating: /content/data/images/train/blue_82.jpg  \n",
            "  inflating: /content/data/images/train/blue_83.jpg  \n",
            "  inflating: /content/data/images/train/blue_84.jpg  \n",
            "  inflating: /content/data/images/train/blue_85.jpg  \n",
            "  inflating: /content/data/images/train/blue_86.jpg  \n",
            "  inflating: /content/data/images/train/blue_87.jpg  \n",
            "  inflating: /content/data/images/train/blue_88.jpg  \n",
            "  inflating: /content/data/images/train/blue_89.jpg  \n",
            "  inflating: /content/data/images/train/blue_90.jpg  \n",
            "  inflating: /content/data/images/train/blue_91.jpg  \n",
            "  inflating: /content/data/images/train/blue_92.jpg  \n",
            "  inflating: /content/data/images/train/blue_93.jpg  \n",
            "  inflating: /content/data/images/train/blue_94.jpg  \n",
            "  inflating: /content/data/images/train/blue_95.jpg  \n",
            "  inflating: /content/data/images/train/blue_96.jpg  \n",
            "  inflating: /content/data/images/train/blue_97.jpg  \n",
            "  inflating: /content/data/images/train/blue_98.jpg  \n",
            "  inflating: /content/data/images/train/blue_99.jpg  \n",
            "  inflating: /content/data/images/train/gray_100.jpeg  \n",
            "  inflating: /content/data/images/train/gray_101.jpeg  \n",
            "  inflating: /content/data/images/train/gray_102.jpeg  \n",
            "  inflating: /content/data/images/train/gray_103.jpeg  \n",
            "  inflating: /content/data/images/train/gray_104.jpeg  \n",
            "  inflating: /content/data/images/train/gray_105.jpeg  \n",
            "  inflating: /content/data/images/train/gray_106.jpeg  \n",
            "  inflating: /content/data/images/train/gray_107.jpeg  \n",
            "  inflating: /content/data/images/train/gray_108.jpeg  \n",
            "  inflating: /content/data/images/train/gray_109.jpeg  \n",
            "  inflating: /content/data/images/train/gray_110.jpeg  \n",
            "  inflating: /content/data/images/train/gray_111.jpeg  \n",
            "  inflating: /content/data/images/train/gray_112.jpeg  \n",
            "  inflating: /content/data/images/train/gray_113.jpeg  \n",
            "  inflating: /content/data/images/train/gray_114.jpeg  \n",
            "  inflating: /content/data/images/train/gray_115.jpeg  \n",
            "  inflating: /content/data/images/train/gray_116.jpeg  \n",
            "  inflating: /content/data/images/train/gray_117.jpeg  \n",
            "  inflating: /content/data/images/train/gray_118.jpeg  \n",
            "  inflating: /content/data/images/train/gray_119.jpeg  \n",
            "  inflating: /content/data/images/train/gray_120.jpeg  \n",
            "  inflating: /content/data/images/train/gray_121.jpeg  \n",
            "  inflating: /content/data/images/train/gray_122.jpeg  \n",
            "  inflating: /content/data/images/train/gray_123.jpeg  \n",
            "  inflating: /content/data/images/train/gray_124.jpeg  \n",
            "  inflating: /content/data/images/train/gray_125.jpeg  \n",
            "  inflating: /content/data/images/train/gray_126.jpeg  \n",
            "  inflating: /content/data/images/train/gray_127.jpeg  \n",
            "  inflating: /content/data/images/train/gray_128.jpeg  \n",
            "  inflating: /content/data/images/train/gray_129.jpeg  \n",
            "  inflating: /content/data/images/train/gray_130.jpg  \n",
            "  inflating: /content/data/images/train/gray_131.jpg  \n",
            "  inflating: /content/data/images/train/gray_132.jpg  \n",
            "  inflating: /content/data/images/train/gray_133.jpg  \n",
            "  inflating: /content/data/images/train/gray_134.jpg  \n",
            "  inflating: /content/data/images/train/gray_135.jpg  \n",
            "  inflating: /content/data/images/train/gray_136.jpg  \n",
            "  inflating: /content/data/images/train/gray_137.jpg  \n",
            "  inflating: /content/data/images/train/gray_138.jpg  \n",
            "  inflating: /content/data/images/train/gray_139.jpg  \n",
            "  inflating: /content/data/images/train/gray_140.jpg  \n",
            "  inflating: /content/data/images/train/gray_141.jpg  \n",
            "  inflating: /content/data/images/train/gray_142.jpg  \n",
            "  inflating: /content/data/images/train/gray_143.jpg  \n",
            "  inflating: /content/data/images/train/gray_144.jpg  \n",
            "  inflating: /content/data/images/train/gray_145.jpg  \n",
            "  inflating: /content/data/images/train/gray_146.jpg  \n",
            "  inflating: /content/data/images/train/gray_147.jpg  \n",
            "  inflating: /content/data/images/train/gray_148.jpg  \n",
            "  inflating: /content/data/images/train/gray_149.jpg  \n",
            "  inflating: /content/data/images/train/gray_31.jpg  \n",
            "  inflating: /content/data/images/train/gray_32.jpg  \n",
            "  inflating: /content/data/images/train/gray_33.jpg  \n",
            "  inflating: /content/data/images/train/gray_34.jpg  \n",
            "  inflating: /content/data/images/train/gray_35.jpeg  \n",
            "  inflating: /content/data/images/train/gray_36.jpeg  \n",
            "  inflating: /content/data/images/train/gray_37.jpeg  \n",
            "  inflating: /content/data/images/train/gray_38.jpeg  \n",
            "  inflating: /content/data/images/train/gray_39.jpeg  \n",
            "  inflating: /content/data/images/train/gray_40.jpeg  \n",
            "  inflating: /content/data/images/train/gray_41.jpeg  \n",
            "  inflating: /content/data/images/train/gray_42.jpeg  \n",
            "  inflating: /content/data/images/train/gray_43.jpeg  \n",
            "  inflating: /content/data/images/train/gray_44.jpeg  \n",
            "  inflating: /content/data/images/train/gray_45.jpeg  \n",
            "  inflating: /content/data/images/train/gray_46.jpeg  \n",
            "  inflating: /content/data/images/train/gray_47.jpeg  \n",
            "  inflating: /content/data/images/train/gray_48.jpeg  \n",
            "  inflating: /content/data/images/train/gray_49.jpeg  \n",
            "  inflating: /content/data/images/train/gray_50.jpeg  \n",
            "  inflating: /content/data/images/train/gray_51.jpeg  \n",
            "  inflating: /content/data/images/train/gray_52.jpeg  \n",
            "  inflating: /content/data/images/train/gray_53.jpeg  \n",
            "  inflating: /content/data/images/train/gray_54.jpeg  \n",
            "  inflating: /content/data/images/train/gray_55.jpeg  \n",
            "  inflating: /content/data/images/train/gray_56.jpeg  \n",
            "  inflating: /content/data/images/train/gray_57.jpeg  \n",
            "  inflating: /content/data/images/train/gray_58.jpeg  \n",
            "  inflating: /content/data/images/train/gray_59.jpeg  \n",
            "  inflating: /content/data/images/train/gray_60.jpeg  \n",
            "  inflating: /content/data/images/train/gray_61.jpeg  \n",
            "  inflating: /content/data/images/train/gray_62.jpeg  \n",
            "  inflating: /content/data/images/train/gray_63.jpeg  \n",
            "  inflating: /content/data/images/train/gray_64.jpeg  \n",
            "  inflating: /content/data/images/train/gray_65.jpeg  \n",
            "  inflating: /content/data/images/train/gray_66.jpeg  \n",
            "  inflating: /content/data/images/train/gray_67.jpeg  \n",
            "  inflating: /content/data/images/train/gray_68.jpeg  \n",
            "  inflating: /content/data/images/train/gray_69.jpeg  \n",
            "  inflating: /content/data/images/train/gray_70.jpeg  \n",
            "  inflating: /content/data/images/train/gray_71.jpeg  \n",
            "  inflating: /content/data/images/train/gray_72.jpeg  \n",
            "  inflating: /content/data/images/train/gray_73.jpeg  \n",
            "  inflating: /content/data/images/train/gray_74.jpeg  \n",
            "  inflating: /content/data/images/train/gray_75.jpeg  \n",
            "  inflating: /content/data/images/train/gray_76.jpeg  \n",
            "  inflating: /content/data/images/train/gray_77.jpeg  \n",
            "  inflating: /content/data/images/train/gray_78.jpeg  \n",
            "  inflating: /content/data/images/train/gray_79.jpeg  \n",
            "  inflating: /content/data/images/train/gray_80.jpeg  \n",
            "  inflating: /content/data/images/train/gray_81.jpeg  \n",
            "  inflating: /content/data/images/train/gray_82.jpeg  \n",
            "  inflating: /content/data/images/train/gray_83.jpeg  \n",
            "  inflating: /content/data/images/train/gray_84.jpeg  \n",
            "  inflating: /content/data/images/train/gray_85.jpeg  \n",
            "  inflating: /content/data/images/train/gray_86.jpeg  \n",
            "  inflating: /content/data/images/train/gray_87.jpeg  \n",
            "  inflating: /content/data/images/train/gray_88.jpeg  \n",
            "  inflating: /content/data/images/train/gray_89.jpeg  \n",
            "  inflating: /content/data/images/train/gray_90.jpeg  \n",
            "  inflating: /content/data/images/train/gray_91.jpeg  \n",
            "  inflating: /content/data/images/train/gray_92.jpeg  \n",
            "  inflating: /content/data/images/train/gray_93.jpeg  \n",
            "  inflating: /content/data/images/train/gray_94.jpeg  \n",
            "  inflating: /content/data/images/train/gray_95.jpeg  \n",
            "  inflating: /content/data/images/train/gray_96.jpeg  \n",
            "  inflating: /content/data/images/train/gray_97.jpeg  \n",
            "  inflating: /content/data/images/train/gray_98.jpeg  \n",
            "  inflating: /content/data/images/train/gray_99.jpeg  \n",
            "  inflating: /content/data/images/train/white_100.jpeg  \n",
            "  inflating: /content/data/images/train/white_101.jpeg  \n",
            "  inflating: /content/data/images/train/white_102.jpeg  \n",
            "  inflating: /content/data/images/train/white_103.jpeg  \n",
            "  inflating: /content/data/images/train/white_104.jpeg  \n",
            "  inflating: /content/data/images/train/white_105.jpeg  \n",
            "  inflating: /content/data/images/train/white_106.jpeg  \n",
            "  inflating: /content/data/images/train/white_107.jpeg  \n",
            "  inflating: /content/data/images/train/white_108.jpeg  \n",
            "  inflating: /content/data/images/train/white_109.jpeg  \n",
            "  inflating: /content/data/images/train/white_110.jpeg  \n",
            "  inflating: /content/data/images/train/white_111.jpeg  \n",
            "  inflating: /content/data/images/train/white_112.jpeg  \n",
            "  inflating: /content/data/images/train/white_113.jpeg  \n",
            "  inflating: /content/data/images/train/white_114.jpeg  \n",
            "  inflating: /content/data/images/train/white_115.jpeg  \n",
            "  inflating: /content/data/images/train/white_116.jpeg  \n",
            "  inflating: /content/data/images/train/white_117.jpeg  \n",
            "  inflating: /content/data/images/train/white_118.jpeg  \n",
            "  inflating: /content/data/images/train/white_119.jpeg  \n",
            "  inflating: /content/data/images/train/white_120.jpeg  \n",
            "  inflating: /content/data/images/train/white_121.jpeg  \n",
            "  inflating: /content/data/images/train/white_122.jpeg  \n",
            "  inflating: /content/data/images/train/white_123.jpeg  \n",
            "  inflating: /content/data/images/train/white_124.jpg  \n",
            "  inflating: /content/data/images/train/white_125.jpg  \n",
            "  inflating: /content/data/images/train/white_126.jpg  \n",
            "  inflating: /content/data/images/train/white_127.jpg  \n",
            "  inflating: /content/data/images/train/white_128.jpg  \n",
            "  inflating: /content/data/images/train/white_129.jpg  \n",
            "  inflating: /content/data/images/train/white_130.jpg  \n",
            "  inflating: /content/data/images/train/white_131.jpg  \n",
            "  inflating: /content/data/images/train/white_132.jpg  \n",
            "  inflating: /content/data/images/train/white_133.jpg  \n",
            "  inflating: /content/data/images/train/white_134.jpg  \n",
            "  inflating: /content/data/images/train/white_135.jpg  \n",
            "  inflating: /content/data/images/train/white_136.jpg  \n",
            "  inflating: /content/data/images/train/white_137.jpg  \n",
            "  inflating: /content/data/images/train/white_138.jpg  \n",
            "  inflating: /content/data/images/train/white_139.jpg  \n",
            "  inflating: /content/data/images/train/white_140.jpg  \n",
            "  inflating: /content/data/images/train/white_141.jpg  \n",
            "  inflating: /content/data/images/train/white_142.jpg  \n",
            "  inflating: /content/data/images/train/white_143.jpg  \n",
            "  inflating: /content/data/images/train/white_144.jpg  \n",
            "  inflating: /content/data/images/train/white_145.jpg  \n",
            "  inflating: /content/data/images/train/white_146.jpg  \n",
            "  inflating: /content/data/images/train/white_147.jpg  \n",
            "  inflating: /content/data/images/train/white_148.jpg  \n",
            "  inflating: /content/data/images/train/white_149.jpg  \n",
            "  inflating: /content/data/images/train/white_150.jpg  \n",
            "  inflating: /content/data/images/train/white_31.jpeg  \n",
            "  inflating: /content/data/images/train/white_32.jpeg  \n",
            "  inflating: /content/data/images/train/white_33.jpeg  \n",
            "  inflating: /content/data/images/train/white_34.jpeg  \n",
            "  inflating: /content/data/images/train/white_35.jpeg  \n",
            "  inflating: /content/data/images/train/white_36.jpeg  \n",
            "  inflating: /content/data/images/train/white_37.jpeg  \n",
            "  inflating: /content/data/images/train/white_38.jpeg  \n",
            "  inflating: /content/data/images/train/white_39.jpeg  \n",
            "  inflating: /content/data/images/train/white_40.jpeg  \n",
            "  inflating: /content/data/images/train/white_41.jpeg  \n",
            "  inflating: /content/data/images/train/white_42.jpeg  \n",
            "  inflating: /content/data/images/train/white_43.jpeg  \n",
            "  inflating: /content/data/images/train/white_44.jpeg  \n",
            "  inflating: /content/data/images/train/white_45.jpeg  \n",
            "  inflating: /content/data/images/train/white_46.jpeg  \n",
            "  inflating: /content/data/images/train/white_47.jpeg  \n",
            "  inflating: /content/data/images/train/white_48.jpeg  \n",
            "  inflating: /content/data/images/train/white_49.jpeg  \n",
            "  inflating: /content/data/images/train/white_50.jpeg  \n",
            "  inflating: /content/data/images/train/white_51.jpeg  \n",
            "  inflating: /content/data/images/train/white_52.jpeg  \n",
            "  inflating: /content/data/images/train/white_53.jpeg  \n",
            "  inflating: /content/data/images/train/white_54.jpeg  \n",
            "  inflating: /content/data/images/train/white_55.jpeg  \n",
            "  inflating: /content/data/images/train/white_56.jpeg  \n",
            "  inflating: /content/data/images/train/white_57.jpeg  \n",
            "  inflating: /content/data/images/train/white_58.jpeg  \n",
            "  inflating: /content/data/images/train/white_59.jpeg  \n",
            "  inflating: /content/data/images/train/white_60.jpeg  \n",
            "  inflating: /content/data/images/train/white_61.jpeg  \n",
            "  inflating: /content/data/images/train/white_62.jpeg  \n",
            "  inflating: /content/data/images/train/white_63.jpeg  \n",
            "  inflating: /content/data/images/train/white_64.jpeg  \n",
            "  inflating: /content/data/images/train/white_65.jpeg  \n",
            "  inflating: /content/data/images/train/white_66.jpeg  \n",
            "  inflating: /content/data/images/train/white_67.jpeg  \n",
            "  inflating: /content/data/images/train/white_68.jpeg  \n",
            "  inflating: /content/data/images/train/white_69.jpeg  \n",
            "  inflating: /content/data/images/train/white_70.jpeg  \n",
            "  inflating: /content/data/images/train/white_71.jpeg  \n",
            "  inflating: /content/data/images/train/white_72.jpeg  \n",
            "  inflating: /content/data/images/train/white_73.jpeg  \n",
            "  inflating: /content/data/images/train/white_74.jpeg  \n",
            "  inflating: /content/data/images/train/white_75.jpeg  \n",
            "  inflating: /content/data/images/train/white_76.jpeg  \n",
            "  inflating: /content/data/images/train/white_77.jpeg  \n",
            "  inflating: /content/data/images/train/white_78.jpeg  \n",
            "  inflating: /content/data/images/train/white_79.jpeg  \n",
            "  inflating: /content/data/images/train/white_80.jpeg  \n",
            "  inflating: /content/data/images/train/white_81.jpeg  \n",
            "  inflating: /content/data/images/train/white_82.jpeg  \n",
            "  inflating: /content/data/images/train/white_83.jpeg  \n",
            "  inflating: /content/data/images/train/white_84.jpeg  \n",
            "  inflating: /content/data/images/train/white_85.jpeg  \n",
            "  inflating: /content/data/images/train/white_86.jpeg  \n",
            "  inflating: /content/data/images/train/white_87.jpeg  \n",
            "  inflating: /content/data/images/train/white_88.jpeg  \n",
            "  inflating: /content/data/images/train/white_89.jpeg  \n",
            "  inflating: /content/data/images/train/white_90.jpeg  \n",
            "  inflating: /content/data/images/train/white_91.jpeg  \n",
            "  inflating: /content/data/images/train/white_92.jpeg  \n",
            "  inflating: /content/data/images/train/white_93.jpeg  \n",
            "  inflating: /content/data/images/train/white_94.jpeg  \n",
            "  inflating: /content/data/images/train/white_95.jpeg  \n",
            "  inflating: /content/data/images/train/white_96.jpeg  \n",
            "  inflating: /content/data/images/train/white_97.jpeg  \n",
            "  inflating: /content/data/images/train/white_98.jpeg  \n",
            "  inflating: /content/data/images/train/white_99.jpeg  \n",
            "   creating: /content/data/images/val/\n",
            "  inflating: /content/data/images/val/black_1.jpg  \n",
            "  inflating: /content/data/images/val/black_10.jpg  \n",
            "  inflating: /content/data/images/val/black_11.jpg  \n",
            "  inflating: /content/data/images/val/black_12.jpg  \n",
            "  inflating: /content/data/images/val/black_13.jpg  \n",
            "  inflating: /content/data/images/val/black_14.jpg  \n",
            "  inflating: /content/data/images/val/black_15.jpg  \n",
            "  inflating: /content/data/images/val/black_16.jpg  \n",
            "  inflating: /content/data/images/val/black_17.jpg  \n",
            "  inflating: /content/data/images/val/black_18.jpg  \n",
            "  inflating: /content/data/images/val/black_19.jpg  \n",
            "  inflating: /content/data/images/val/black_2.jpg  \n",
            "  inflating: /content/data/images/val/black_20.jpg  \n",
            "  inflating: /content/data/images/val/black_21.jpg  \n",
            "  inflating: /content/data/images/val/black_22.jpg  \n",
            "  inflating: /content/data/images/val/black_23.jpg  \n",
            "  inflating: /content/data/images/val/black_24.jpg  \n",
            "  inflating: /content/data/images/val/black_25.jpg  \n",
            "  inflating: /content/data/images/val/black_26.jpg  \n",
            "  inflating: /content/data/images/val/black_27.jpg  \n",
            "  inflating: /content/data/images/val/black_28.jpg  \n",
            "  inflating: /content/data/images/val/black_29.jpg  \n",
            "  inflating: /content/data/images/val/black_3.jpg  \n",
            "  inflating: /content/data/images/val/black_30.jpg  \n",
            "  inflating: /content/data/images/val/black_4.jpg  \n",
            "  inflating: /content/data/images/val/black_5.jpg  \n",
            "  inflating: /content/data/images/val/black_6.jpg  \n",
            "  inflating: /content/data/images/val/black_7.jpg  \n",
            "  inflating: /content/data/images/val/black_8.jpg  \n",
            "  inflating: /content/data/images/val/black_9.jpg  \n",
            "  inflating: /content/data/images/val/blue_1.jpg  \n",
            "  inflating: /content/data/images/val/blue_10.jpg  \n",
            "  inflating: /content/data/images/val/blue_11.jpg  \n",
            "  inflating: /content/data/images/val/blue_12.jpg  \n",
            "  inflating: /content/data/images/val/blue_13.jpg  \n",
            "  inflating: /content/data/images/val/blue_14.jpg  \n",
            "  inflating: /content/data/images/val/blue_15.jpg  \n",
            "  inflating: /content/data/images/val/blue_16.jpg  \n",
            "  inflating: /content/data/images/val/blue_17.jpg  \n",
            "  inflating: /content/data/images/val/blue_18.jpg  \n",
            "  inflating: /content/data/images/val/blue_19.jpg  \n",
            "  inflating: /content/data/images/val/blue_2.jpg  \n",
            "  inflating: /content/data/images/val/blue_20.jpg  \n",
            "  inflating: /content/data/images/val/blue_21.jpg  \n",
            "  inflating: /content/data/images/val/blue_22.jpg  \n",
            "  inflating: /content/data/images/val/blue_23.jpg  \n",
            "  inflating: /content/data/images/val/blue_24.jpg  \n",
            "  inflating: /content/data/images/val/blue_25.jpg  \n",
            "  inflating: /content/data/images/val/blue_26.jpg  \n",
            "  inflating: /content/data/images/val/blue_27.jpg  \n",
            "  inflating: /content/data/images/val/blue_28.jpg  \n",
            "  inflating: /content/data/images/val/blue_29.jpg  \n",
            "  inflating: /content/data/images/val/blue_3.jpg  \n",
            "  inflating: /content/data/images/val/blue_30.jpg  \n",
            "  inflating: /content/data/images/val/blue_4.jpg  \n",
            "  inflating: /content/data/images/val/blue_5.jpg  \n",
            "  inflating: /content/data/images/val/blue_6.jpg  \n",
            "  inflating: /content/data/images/val/blue_7.jpg  \n",
            "  inflating: /content/data/images/val/blue_8.jpg  \n",
            "  inflating: /content/data/images/val/blue_9.jpg  \n",
            "  inflating: /content/data/images/val/gray_1.jpeg  \n",
            "  inflating: /content/data/images/val/gray_10.jpg  \n",
            "  inflating: /content/data/images/val/gray_11.jpg  \n",
            "  inflating: /content/data/images/val/gray_12.jpg  \n",
            "  inflating: /content/data/images/val/gray_13.jpeg  \n",
            "  inflating: /content/data/images/val/gray_14.jpeg  \n",
            "  inflating: /content/data/images/val/gray_15.jpeg  \n",
            "  inflating: /content/data/images/val/gray_16.jpeg  \n",
            "  inflating: /content/data/images/val/gray_17.jpg  \n",
            "  inflating: /content/data/images/val/gray_18.jpg  \n",
            "  inflating: /content/data/images/val/gray_19.jpg  \n",
            "  inflating: /content/data/images/val/gray_2.jpg  \n",
            "  inflating: /content/data/images/val/gray_20.jpg  \n",
            "  inflating: /content/data/images/val/gray_21.jpg  \n",
            "  inflating: /content/data/images/val/gray_22.jpg  \n",
            "  inflating: /content/data/images/val/gray_23.jpg  \n",
            "  inflating: /content/data/images/val/gray_24.jpg  \n",
            "  inflating: /content/data/images/val/gray_25.jpg  \n",
            "  inflating: /content/data/images/val/gray_26.jpg  \n",
            "  inflating: /content/data/images/val/gray_27.jpg  \n",
            "  inflating: /content/data/images/val/gray_28.jpg  \n",
            "  inflating: /content/data/images/val/gray_29.jpg  \n",
            "  inflating: /content/data/images/val/gray_3.jpg  \n",
            "  inflating: /content/data/images/val/gray_30.jpg  \n",
            "  inflating: /content/data/images/val/gray_4.jpg  \n",
            "  inflating: /content/data/images/val/gray_5.jpg  \n",
            "  inflating: /content/data/images/val/gray_6.jpg  \n",
            "  inflating: /content/data/images/val/gray_7.jpg  \n",
            "  inflating: /content/data/images/val/gray_8.jpg  \n",
            "  inflating: /content/data/images/val/gray_9.jpg  \n",
            "  inflating: /content/data/images/val/white_1.jpg  \n",
            "  inflating: /content/data/images/val/white_10.jpg  \n",
            "  inflating: /content/data/images/val/white_11.jpg  \n",
            "  inflating: /content/data/images/val/white_12.jpg  \n",
            "  inflating: /content/data/images/val/white_13.jpg  \n",
            "  inflating: /content/data/images/val/white_14.jpg  \n",
            "  inflating: /content/data/images/val/white_15.jpg  \n",
            "  inflating: /content/data/images/val/white_16.jpg  \n",
            "  inflating: /content/data/images/val/white_17.jpg  \n",
            "  inflating: /content/data/images/val/white_18.jpg  \n",
            "  inflating: /content/data/images/val/white_19.jpg  \n",
            "  inflating: /content/data/images/val/white_2.jpg  \n",
            "  inflating: /content/data/images/val/white_20.jpg  \n",
            "  inflating: /content/data/images/val/white_21.jpg  \n",
            "  inflating: /content/data/images/val/white_22.jpg  \n",
            "  inflating: /content/data/images/val/white_23.jpg  \n",
            "  inflating: /content/data/images/val/white_24.jpeg  \n",
            "  inflating: /content/data/images/val/white_25.jpeg  \n",
            "  inflating: /content/data/images/val/white_26.jpeg  \n",
            "  inflating: /content/data/images/val/white_27.jpeg  \n",
            "  inflating: /content/data/images/val/white_28.jpeg  \n",
            "  inflating: /content/data/images/val/white_29.jpeg  \n",
            "  inflating: /content/data/images/val/white_3.jpg  \n",
            "  inflating: /content/data/images/val/white_30.jpeg  \n",
            "  inflating: /content/data/images/val/white_4.jpg  \n",
            "  inflating: /content/data/images/val/white_5.jpg  \n",
            "  inflating: /content/data/images/val/white_6.jpg  \n",
            "  inflating: /content/data/images/val/white_7.jpg  \n",
            "  inflating: /content/data/images/val/white_8.jpg  \n",
            "  inflating: /content/data/images/val/white_9.jpg  \n",
            "   creating: /content/data/labels/\n",
            "   creating: /content/data/labels/train/\n",
            " extracting: /content/data/labels/train/black_100.txt  \n",
            "  inflating: /content/data/labels/train/black_101.txt  \n",
            "  inflating: /content/data/labels/train/black_102.txt  \n",
            " extracting: /content/data/labels/train/black_103.txt  \n",
            "  inflating: /content/data/labels/train/black_104.txt  \n",
            " extracting: /content/data/labels/train/black_105.txt  \n",
            "  inflating: /content/data/labels/train/black_106.txt  \n",
            " extracting: /content/data/labels/train/black_107.txt  \n",
            "  inflating: /content/data/labels/train/black_108.txt  \n",
            " extracting: /content/data/labels/train/black_109.txt  \n",
            "  inflating: /content/data/labels/train/black_110.txt  \n",
            "  inflating: /content/data/labels/train/black_111.txt  \n",
            " extracting: /content/data/labels/train/black_112.txt  \n",
            " extracting: /content/data/labels/train/black_113.txt  \n",
            "  inflating: /content/data/labels/train/black_114.txt  \n",
            " extracting: /content/data/labels/train/black_115.txt  \n",
            " extracting: /content/data/labels/train/black_116.txt  \n",
            " extracting: /content/data/labels/train/black_117.txt  \n",
            " extracting: /content/data/labels/train/black_118.txt  \n",
            " extracting: /content/data/labels/train/black_119.txt  \n",
            "  inflating: /content/data/labels/train/black_120.txt  \n",
            "  inflating: /content/data/labels/train/black_121.txt  \n",
            " extracting: /content/data/labels/train/black_122.txt  \n",
            " extracting: /content/data/labels/train/black_123.txt  \n",
            " extracting: /content/data/labels/train/black_124.txt  \n",
            " extracting: /content/data/labels/train/black_125.txt  \n",
            " extracting: /content/data/labels/train/black_126.txt  \n",
            " extracting: /content/data/labels/train/black_127.txt  \n",
            "  inflating: /content/data/labels/train/black_128.txt  \n",
            " extracting: /content/data/labels/train/black_129.txt  \n",
            "  inflating: /content/data/labels/train/black_130.txt  \n",
            " extracting: /content/data/labels/train/black_131.txt  \n",
            "  inflating: /content/data/labels/train/black_132.txt  \n",
            " extracting: /content/data/labels/train/black_133.txt  \n",
            " extracting: /content/data/labels/train/black_134.txt  \n",
            " extracting: /content/data/labels/train/black_135.txt  \n",
            " extracting: /content/data/labels/train/black_136.txt  \n",
            " extracting: /content/data/labels/train/black_137.txt  \n",
            " extracting: /content/data/labels/train/black_138.txt  \n",
            " extracting: /content/data/labels/train/black_139.txt  \n",
            " extracting: /content/data/labels/train/black_140.txt  \n",
            " extracting: /content/data/labels/train/black_141.txt  \n",
            " extracting: /content/data/labels/train/black_142.txt  \n",
            " extracting: /content/data/labels/train/black_143.txt  \n",
            " extracting: /content/data/labels/train/black_144.txt  \n",
            " extracting: /content/data/labels/train/black_145.txt  \n",
            " extracting: /content/data/labels/train/black_146.txt  \n",
            "  inflating: /content/data/labels/train/black_147.txt  \n",
            " extracting: /content/data/labels/train/black_148.txt  \n",
            "  inflating: /content/data/labels/train/black_149.txt  \n",
            " extracting: /content/data/labels/train/black_150.txt  \n",
            " extracting: /content/data/labels/train/black_31.txt  \n",
            " extracting: /content/data/labels/train/black_32.txt  \n",
            "  inflating: /content/data/labels/train/black_33.txt  \n",
            " extracting: /content/data/labels/train/black_34.txt  \n",
            "  inflating: /content/data/labels/train/black_35.txt  \n",
            " extracting: /content/data/labels/train/black_36.txt  \n",
            " extracting: /content/data/labels/train/black_37.txt  \n",
            " extracting: /content/data/labels/train/black_38.txt  \n",
            " extracting: /content/data/labels/train/black_39.txt  \n",
            " extracting: /content/data/labels/train/black_40.txt  \n",
            " extracting: /content/data/labels/train/black_41.txt  \n",
            " extracting: /content/data/labels/train/black_42.txt  \n",
            " extracting: /content/data/labels/train/black_43.txt  \n",
            "  inflating: /content/data/labels/train/black_44.txt  \n",
            "  inflating: /content/data/labels/train/black_45.txt  \n",
            "  inflating: /content/data/labels/train/black_46.txt  \n",
            "  inflating: /content/data/labels/train/black_47.txt  \n",
            " extracting: /content/data/labels/train/black_48.txt  \n",
            " extracting: /content/data/labels/train/black_49.txt  \n",
            "  inflating: /content/data/labels/train/black_50.txt  \n",
            " extracting: /content/data/labels/train/black_51.txt  \n",
            "  inflating: /content/data/labels/train/black_52.txt  \n",
            " extracting: /content/data/labels/train/black_53.txt  \n",
            "  inflating: /content/data/labels/train/black_54.txt  \n",
            " extracting: /content/data/labels/train/black_55.txt  \n",
            "  inflating: /content/data/labels/train/black_56.txt  \n",
            "  inflating: /content/data/labels/train/black_57.txt  \n",
            "  inflating: /content/data/labels/train/black_58.txt  \n",
            " extracting: /content/data/labels/train/black_59.txt  \n",
            " extracting: /content/data/labels/train/black_60.txt  \n",
            "  inflating: /content/data/labels/train/black_61.txt  \n",
            " extracting: /content/data/labels/train/black_62.txt  \n",
            " extracting: /content/data/labels/train/black_63.txt  \n",
            " extracting: /content/data/labels/train/black_64.txt  \n",
            " extracting: /content/data/labels/train/black_65.txt  \n",
            "  inflating: /content/data/labels/train/black_66.txt  \n",
            " extracting: /content/data/labels/train/black_67.txt  \n",
            "  inflating: /content/data/labels/train/black_68.txt  \n",
            " extracting: /content/data/labels/train/black_69.txt  \n",
            "  inflating: /content/data/labels/train/black_70.txt  \n",
            " extracting: /content/data/labels/train/black_71.txt  \n",
            " extracting: /content/data/labels/train/black_72.txt  \n",
            " extracting: /content/data/labels/train/black_73.txt  \n",
            " extracting: /content/data/labels/train/black_74.txt  \n",
            "  inflating: /content/data/labels/train/black_75.txt  \n",
            " extracting: /content/data/labels/train/black_76.txt  \n",
            " extracting: /content/data/labels/train/black_77.txt  \n",
            " extracting: /content/data/labels/train/black_78.txt  \n",
            " extracting: /content/data/labels/train/black_79.txt  \n",
            " extracting: /content/data/labels/train/black_80.txt  \n",
            " extracting: /content/data/labels/train/black_81.txt  \n",
            " extracting: /content/data/labels/train/black_82.txt  \n",
            "  inflating: /content/data/labels/train/black_83.txt  \n",
            " extracting: /content/data/labels/train/black_84.txt  \n",
            "  inflating: /content/data/labels/train/black_85.txt  \n",
            "  inflating: /content/data/labels/train/black_86.txt  \n",
            " extracting: /content/data/labels/train/black_87.txt  \n",
            "  inflating: /content/data/labels/train/black_88.txt  \n",
            " extracting: /content/data/labels/train/black_89.txt  \n",
            "  inflating: /content/data/labels/train/black_90.txt  \n",
            " extracting: /content/data/labels/train/black_91.txt  \n",
            "  inflating: /content/data/labels/train/black_92.txt  \n",
            " extracting: /content/data/labels/train/black_93.txt  \n",
            "  inflating: /content/data/labels/train/black_94.txt  \n",
            "  inflating: /content/data/labels/train/black_95.txt  \n",
            " extracting: /content/data/labels/train/black_96.txt  \n",
            "  inflating: /content/data/labels/train/black_97.txt  \n",
            "  inflating: /content/data/labels/train/black_98.txt  \n",
            " extracting: /content/data/labels/train/black_99.txt  \n",
            " extracting: /content/data/labels/train/blue_100.txt  \n",
            " extracting: /content/data/labels/train/blue_101.txt  \n",
            " extracting: /content/data/labels/train/blue_102.txt  \n",
            " extracting: /content/data/labels/train/blue_103.txt  \n",
            " extracting: /content/data/labels/train/blue_104.txt  \n",
            "  inflating: /content/data/labels/train/blue_105.txt  \n",
            " extracting: /content/data/labels/train/blue_106.txt  \n",
            "  inflating: /content/data/labels/train/blue_107.txt  \n",
            " extracting: /content/data/labels/train/blue_108.txt  \n",
            " extracting: /content/data/labels/train/blue_109.txt  \n",
            "  inflating: /content/data/labels/train/blue_110.txt  \n",
            " extracting: /content/data/labels/train/blue_111.txt  \n",
            "  inflating: /content/data/labels/train/blue_112.txt  \n",
            "  inflating: /content/data/labels/train/blue_113.txt  \n",
            " extracting: /content/data/labels/train/blue_114.txt  \n",
            "  inflating: /content/data/labels/train/blue_115.txt  \n",
            " extracting: /content/data/labels/train/blue_116.txt  \n",
            " extracting: /content/data/labels/train/blue_117.txt  \n",
            " extracting: /content/data/labels/train/blue_118.txt  \n",
            " extracting: /content/data/labels/train/blue_119.txt  \n",
            " extracting: /content/data/labels/train/blue_120.txt  \n",
            " extracting: /content/data/labels/train/blue_121.txt  \n",
            " extracting: /content/data/labels/train/blue_122.txt  \n",
            " extracting: /content/data/labels/train/blue_123.txt  \n",
            "  inflating: /content/data/labels/train/blue_124.txt  \n",
            " extracting: /content/data/labels/train/blue_125.txt  \n",
            " extracting: /content/data/labels/train/blue_126.txt  \n",
            " extracting: /content/data/labels/train/blue_127.txt  \n",
            " extracting: /content/data/labels/train/blue_128.txt  \n",
            " extracting: /content/data/labels/train/blue_129.txt  \n",
            " extracting: /content/data/labels/train/blue_130.txt  \n",
            " extracting: /content/data/labels/train/blue_131.txt  \n",
            " extracting: /content/data/labels/train/blue_132.txt  \n",
            " extracting: /content/data/labels/train/blue_133.txt  \n",
            "  inflating: /content/data/labels/train/blue_134.txt  \n",
            " extracting: /content/data/labels/train/blue_135.txt  \n",
            "  inflating: /content/data/labels/train/blue_136.txt  \n",
            " extracting: /content/data/labels/train/blue_137.txt  \n",
            " extracting: /content/data/labels/train/blue_138.txt  \n",
            "  inflating: /content/data/labels/train/blue_139.txt  \n",
            " extracting: /content/data/labels/train/blue_140.txt  \n",
            " extracting: /content/data/labels/train/blue_141.txt  \n",
            "  inflating: /content/data/labels/train/blue_142.txt  \n",
            " extracting: /content/data/labels/train/blue_143.txt  \n",
            " extracting: /content/data/labels/train/blue_144.txt  \n",
            " extracting: /content/data/labels/train/blue_145.txt  \n",
            " extracting: /content/data/labels/train/blue_146.txt  \n",
            "  inflating: /content/data/labels/train/blue_147.txt  \n",
            " extracting: /content/data/labels/train/blue_148.txt  \n",
            " extracting: /content/data/labels/train/blue_31.txt  \n",
            " extracting: /content/data/labels/train/blue_32.txt  \n",
            " extracting: /content/data/labels/train/blue_33.txt  \n",
            " extracting: /content/data/labels/train/blue_34.txt  \n",
            " extracting: /content/data/labels/train/blue_35.txt  \n",
            " extracting: /content/data/labels/train/blue_36.txt  \n",
            " extracting: /content/data/labels/train/blue_37.txt  \n",
            " extracting: /content/data/labels/train/blue_38.txt  \n",
            "  inflating: /content/data/labels/train/blue_39.txt  \n",
            "  inflating: /content/data/labels/train/blue_40.txt  \n",
            " extracting: /content/data/labels/train/blue_41.txt  \n",
            " extracting: /content/data/labels/train/blue_42.txt  \n",
            " extracting: /content/data/labels/train/blue_43.txt  \n",
            " extracting: /content/data/labels/train/blue_44.txt  \n",
            "  inflating: /content/data/labels/train/blue_45.txt  \n",
            " extracting: /content/data/labels/train/blue_46.txt  \n",
            " extracting: /content/data/labels/train/blue_47.txt  \n",
            " extracting: /content/data/labels/train/blue_48.txt  \n",
            " extracting: /content/data/labels/train/blue_49.txt  \n",
            " extracting: /content/data/labels/train/blue_50.txt  \n",
            " extracting: /content/data/labels/train/blue_51.txt  \n",
            " extracting: /content/data/labels/train/blue_52.txt  \n",
            "  inflating: /content/data/labels/train/blue_53.txt  \n",
            "  inflating: /content/data/labels/train/blue_54.txt  \n",
            " extracting: /content/data/labels/train/blue_55.txt  \n",
            " extracting: /content/data/labels/train/blue_56.txt  \n",
            " extracting: /content/data/labels/train/blue_57.txt  \n",
            "  inflating: /content/data/labels/train/blue_58.txt  \n",
            " extracting: /content/data/labels/train/blue_59.txt  \n",
            " extracting: /content/data/labels/train/blue_60.txt  \n",
            "  inflating: /content/data/labels/train/blue_61.txt  \n",
            " extracting: /content/data/labels/train/blue_62.txt  \n",
            " extracting: /content/data/labels/train/blue_63.txt  \n",
            " extracting: /content/data/labels/train/blue_64.txt  \n",
            " extracting: /content/data/labels/train/blue_65.txt  \n",
            "  inflating: /content/data/labels/train/blue_66.txt  \n",
            " extracting: /content/data/labels/train/blue_67.txt  \n",
            " extracting: /content/data/labels/train/blue_68.txt  \n",
            " extracting: /content/data/labels/train/blue_69.txt  \n",
            "  inflating: /content/data/labels/train/blue_70.txt  \n",
            " extracting: /content/data/labels/train/blue_71.txt  \n",
            " extracting: /content/data/labels/train/blue_72.txt  \n",
            "  inflating: /content/data/labels/train/blue_73.txt  \n",
            " extracting: /content/data/labels/train/blue_74.txt  \n",
            " extracting: /content/data/labels/train/blue_75.txt  \n",
            " extracting: /content/data/labels/train/blue_76.txt  \n",
            "  inflating: /content/data/labels/train/blue_77.txt  \n",
            "  inflating: /content/data/labels/train/blue_78.txt  \n",
            " extracting: /content/data/labels/train/blue_79.txt  \n",
            "  inflating: /content/data/labels/train/blue_80.txt  \n",
            " extracting: /content/data/labels/train/blue_81.txt  \n",
            " extracting: /content/data/labels/train/blue_82.txt  \n",
            " extracting: /content/data/labels/train/blue_83.txt  \n",
            " extracting: /content/data/labels/train/blue_84.txt  \n",
            " extracting: /content/data/labels/train/blue_85.txt  \n",
            " extracting: /content/data/labels/train/blue_86.txt  \n",
            " extracting: /content/data/labels/train/blue_87.txt  \n",
            " extracting: /content/data/labels/train/blue_88.txt  \n",
            " extracting: /content/data/labels/train/blue_89.txt  \n",
            " extracting: /content/data/labels/train/blue_90.txt  \n",
            " extracting: /content/data/labels/train/blue_91.txt  \n",
            " extracting: /content/data/labels/train/blue_92.txt  \n",
            " extracting: /content/data/labels/train/blue_93.txt  \n",
            " extracting: /content/data/labels/train/blue_94.txt  \n",
            " extracting: /content/data/labels/train/blue_95.txt  \n",
            "  inflating: /content/data/labels/train/blue_96.txt  \n",
            " extracting: /content/data/labels/train/blue_97.txt  \n",
            " extracting: /content/data/labels/train/blue_98.txt  \n",
            "  inflating: /content/data/labels/train/blue_99.txt  \n",
            " extracting: /content/data/labels/train/gray_100.txt  \n",
            " extracting: /content/data/labels/train/gray_101.txt  \n",
            "  inflating: /content/data/labels/train/gray_102.txt  \n",
            " extracting: /content/data/labels/train/gray_103.txt  \n",
            " extracting: /content/data/labels/train/gray_104.txt  \n",
            " extracting: /content/data/labels/train/gray_105.txt  \n",
            " extracting: /content/data/labels/train/gray_106.txt  \n",
            " extracting: /content/data/labels/train/gray_107.txt  \n",
            " extracting: /content/data/labels/train/gray_108.txt  \n",
            " extracting: /content/data/labels/train/gray_109.txt  \n",
            " extracting: /content/data/labels/train/gray_110.txt  \n",
            "  inflating: /content/data/labels/train/gray_111.txt  \n",
            " extracting: /content/data/labels/train/gray_112.txt  \n",
            " extracting: /content/data/labels/train/gray_113.txt  \n",
            " extracting: /content/data/labels/train/gray_114.txt  \n",
            " extracting: /content/data/labels/train/gray_115.txt  \n",
            " extracting: /content/data/labels/train/gray_116.txt  \n",
            " extracting: /content/data/labels/train/gray_117.txt  \n",
            " extracting: /content/data/labels/train/gray_118.txt  \n",
            " extracting: /content/data/labels/train/gray_119.txt  \n",
            "  inflating: /content/data/labels/train/gray_120.txt  \n",
            " extracting: /content/data/labels/train/gray_121.txt  \n",
            " extracting: /content/data/labels/train/gray_122.txt  \n",
            "  inflating: /content/data/labels/train/gray_123.txt  \n",
            " extracting: /content/data/labels/train/gray_124.txt  \n",
            "  inflating: /content/data/labels/train/gray_125.txt  \n",
            " extracting: /content/data/labels/train/gray_126.txt  \n",
            " extracting: /content/data/labels/train/gray_127.txt  \n",
            " extracting: /content/data/labels/train/gray_128.txt  \n",
            "  inflating: /content/data/labels/train/gray_129.txt  \n",
            " extracting: /content/data/labels/train/gray_130.txt  \n",
            "  inflating: /content/data/labels/train/gray_131.txt  \n",
            " extracting: /content/data/labels/train/gray_132.txt  \n",
            "  inflating: /content/data/labels/train/gray_133.txt  \n",
            "  inflating: /content/data/labels/train/gray_134.txt  \n",
            "  inflating: /content/data/labels/train/gray_135.txt  \n",
            " extracting: /content/data/labels/train/gray_136.txt  \n",
            " extracting: /content/data/labels/train/gray_137.txt  \n",
            " extracting: /content/data/labels/train/gray_138.txt  \n",
            " extracting: /content/data/labels/train/gray_139.txt  \n",
            "  inflating: /content/data/labels/train/gray_140.txt  \n",
            " extracting: /content/data/labels/train/gray_141.txt  \n",
            "  inflating: /content/data/labels/train/gray_142.txt  \n",
            " extracting: /content/data/labels/train/gray_143.txt  \n",
            " extracting: /content/data/labels/train/gray_144.txt  \n",
            "  inflating: /content/data/labels/train/gray_145.txt  \n",
            " extracting: /content/data/labels/train/gray_146.txt  \n",
            "  inflating: /content/data/labels/train/gray_147.txt  \n",
            "  inflating: /content/data/labels/train/gray_148.txt  \n",
            " extracting: /content/data/labels/train/gray_149.txt  \n",
            " extracting: /content/data/labels/train/gray_31.txt  \n",
            " extracting: /content/data/labels/train/gray_32.txt  \n",
            " extracting: /content/data/labels/train/gray_33.txt  \n",
            " extracting: /content/data/labels/train/gray_34.txt  \n",
            " extracting: /content/data/labels/train/gray_35.txt  \n",
            " extracting: /content/data/labels/train/gray_36.txt  \n",
            " extracting: /content/data/labels/train/gray_37.txt  \n",
            "  inflating: /content/data/labels/train/gray_38.txt  \n",
            " extracting: /content/data/labels/train/gray_39.txt  \n",
            "  inflating: /content/data/labels/train/gray_40.txt  \n",
            " extracting: /content/data/labels/train/gray_41.txt  \n",
            " extracting: /content/data/labels/train/gray_42.txt  \n",
            " extracting: /content/data/labels/train/gray_43.txt  \n",
            " extracting: /content/data/labels/train/gray_44.txt  \n",
            "  inflating: /content/data/labels/train/gray_45.txt  \n",
            "  inflating: /content/data/labels/train/gray_46.txt  \n",
            "  inflating: /content/data/labels/train/gray_47.txt  \n",
            "  inflating: /content/data/labels/train/gray_48.txt  \n",
            " extracting: /content/data/labels/train/gray_49.txt  \n",
            " extracting: /content/data/labels/train/gray_50.txt  \n",
            " extracting: /content/data/labels/train/gray_51.txt  \n",
            " extracting: /content/data/labels/train/gray_52.txt  \n",
            "  inflating: /content/data/labels/train/gray_53.txt  \n",
            "  inflating: /content/data/labels/train/gray_54.txt  \n",
            " extracting: /content/data/labels/train/gray_55.txt  \n",
            "  inflating: /content/data/labels/train/gray_56.txt  \n",
            "  inflating: /content/data/labels/train/gray_57.txt  \n",
            " extracting: /content/data/labels/train/gray_58.txt  \n",
            " extracting: /content/data/labels/train/gray_59.txt  \n",
            " extracting: /content/data/labels/train/gray_60.txt  \n",
            " extracting: /content/data/labels/train/gray_61.txt  \n",
            "  inflating: /content/data/labels/train/gray_62.txt  \n",
            " extracting: /content/data/labels/train/gray_63.txt  \n",
            "  inflating: /content/data/labels/train/gray_64.txt  \n",
            " extracting: /content/data/labels/train/gray_65.txt  \n",
            " extracting: /content/data/labels/train/gray_66.txt  \n",
            " extracting: /content/data/labels/train/gray_67.txt  \n",
            "  inflating: /content/data/labels/train/gray_68.txt  \n",
            "  inflating: /content/data/labels/train/gray_69.txt  \n",
            "  inflating: /content/data/labels/train/gray_70.txt  \n",
            "  inflating: /content/data/labels/train/gray_71.txt  \n",
            " extracting: /content/data/labels/train/gray_72.txt  \n",
            " extracting: /content/data/labels/train/gray_73.txt  \n",
            "  inflating: /content/data/labels/train/gray_74.txt  \n",
            " extracting: /content/data/labels/train/gray_75.txt  \n",
            " extracting: /content/data/labels/train/gray_76.txt  \n",
            "  inflating: /content/data/labels/train/gray_77.txt  \n",
            " extracting: /content/data/labels/train/gray_78.txt  \n",
            "  inflating: /content/data/labels/train/gray_79.txt  \n",
            " extracting: /content/data/labels/train/gray_80.txt  \n",
            " extracting: /content/data/labels/train/gray_81.txt  \n",
            " extracting: /content/data/labels/train/gray_82.txt  \n",
            " extracting: /content/data/labels/train/gray_83.txt  \n",
            " extracting: /content/data/labels/train/gray_84.txt  \n",
            " extracting: /content/data/labels/train/gray_85.txt  \n",
            "  inflating: /content/data/labels/train/gray_86.txt  \n",
            " extracting: /content/data/labels/train/gray_87.txt  \n",
            " extracting: /content/data/labels/train/gray_88.txt  \n",
            " extracting: /content/data/labels/train/gray_89.txt  \n",
            " extracting: /content/data/labels/train/gray_90.txt  \n",
            " extracting: /content/data/labels/train/gray_91.txt  \n",
            " extracting: /content/data/labels/train/gray_92.txt  \n",
            " extracting: /content/data/labels/train/gray_93.txt  \n",
            " extracting: /content/data/labels/train/gray_94.txt  \n",
            " extracting: /content/data/labels/train/gray_95.txt  \n",
            " extracting: /content/data/labels/train/gray_96.txt  \n",
            " extracting: /content/data/labels/train/gray_97.txt  \n",
            " extracting: /content/data/labels/train/gray_98.txt  \n",
            " extracting: /content/data/labels/train/gray_99.txt  \n",
            "  inflating: /content/data/labels/train/white_100.txt  \n",
            " extracting: /content/data/labels/train/white_101.txt  \n",
            " extracting: /content/data/labels/train/white_102.txt  \n",
            " extracting: /content/data/labels/train/white_103.txt  \n",
            " extracting: /content/data/labels/train/white_104.txt  \n",
            " extracting: /content/data/labels/train/white_105.txt  \n",
            " extracting: /content/data/labels/train/white_106.txt  \n",
            " extracting: /content/data/labels/train/white_107.txt  \n",
            " extracting: /content/data/labels/train/white_108.txt  \n",
            " extracting: /content/data/labels/train/white_109.txt  \n",
            " extracting: /content/data/labels/train/white_110.txt  \n",
            " extracting: /content/data/labels/train/white_111.txt  \n",
            "  inflating: /content/data/labels/train/white_112.txt  \n",
            "  inflating: /content/data/labels/train/white_113.txt  \n",
            " extracting: /content/data/labels/train/white_114.txt  \n",
            "  inflating: /content/data/labels/train/white_115.txt  \n",
            " extracting: /content/data/labels/train/white_116.txt  \n",
            " extracting: /content/data/labels/train/white_117.txt  \n",
            " extracting: /content/data/labels/train/white_118.txt  \n",
            " extracting: /content/data/labels/train/white_119.txt  \n",
            "  inflating: /content/data/labels/train/white_120.txt  \n",
            " extracting: /content/data/labels/train/white_121.txt  \n",
            " extracting: /content/data/labels/train/white_122.txt  \n",
            " extracting: /content/data/labels/train/white_123.txt  \n",
            " extracting: /content/data/labels/train/white_124.txt  \n",
            " extracting: /content/data/labels/train/white_125.txt  \n",
            " extracting: /content/data/labels/train/white_126.txt  \n",
            " extracting: /content/data/labels/train/white_127.txt  \n",
            " extracting: /content/data/labels/train/white_128.txt  \n",
            "  inflating: /content/data/labels/train/white_129.txt  \n",
            "  inflating: /content/data/labels/train/white_130.txt  \n",
            " extracting: /content/data/labels/train/white_131.txt  \n",
            "  inflating: /content/data/labels/train/white_132.txt  \n",
            " extracting: /content/data/labels/train/white_133.txt  \n",
            " extracting: /content/data/labels/train/white_134.txt  \n",
            " extracting: /content/data/labels/train/white_135.txt  \n",
            " extracting: /content/data/labels/train/white_136.txt  \n",
            " extracting: /content/data/labels/train/white_137.txt  \n",
            " extracting: /content/data/labels/train/white_138.txt  \n",
            " extracting: /content/data/labels/train/white_139.txt  \n",
            " extracting: /content/data/labels/train/white_140.txt  \n",
            " extracting: /content/data/labels/train/white_141.txt  \n",
            " extracting: /content/data/labels/train/white_142.txt  \n",
            " extracting: /content/data/labels/train/white_143.txt  \n",
            " extracting: /content/data/labels/train/white_144.txt  \n",
            "  inflating: /content/data/labels/train/white_145.txt  \n",
            "  inflating: /content/data/labels/train/white_146.txt  \n",
            " extracting: /content/data/labels/train/white_147.txt  \n",
            " extracting: /content/data/labels/train/white_148.txt  \n",
            "  inflating: /content/data/labels/train/white_149.txt  \n",
            "  inflating: /content/data/labels/train/white_150.txt  \n",
            " extracting: /content/data/labels/train/white_31.txt  \n",
            " extracting: /content/data/labels/train/white_32.txt  \n",
            " extracting: /content/data/labels/train/white_33.txt  \n",
            " extracting: /content/data/labels/train/white_34.txt  \n",
            " extracting: /content/data/labels/train/white_35.txt  \n",
            " extracting: /content/data/labels/train/white_36.txt  \n",
            "  inflating: /content/data/labels/train/white_37.txt  \n",
            " extracting: /content/data/labels/train/white_38.txt  \n",
            " extracting: /content/data/labels/train/white_39.txt  \n",
            " extracting: /content/data/labels/train/white_40.txt  \n",
            " extracting: /content/data/labels/train/white_41.txt  \n",
            " extracting: /content/data/labels/train/white_42.txt  \n",
            " extracting: /content/data/labels/train/white_43.txt  \n",
            "  inflating: /content/data/labels/train/white_44.txt  \n",
            " extracting: /content/data/labels/train/white_45.txt  \n",
            "  inflating: /content/data/labels/train/white_46.txt  \n",
            "  inflating: /content/data/labels/train/white_47.txt  \n",
            " extracting: /content/data/labels/train/white_48.txt  \n",
            " extracting: /content/data/labels/train/white_49.txt  \n",
            "  inflating: /content/data/labels/train/white_50.txt  \n",
            " extracting: /content/data/labels/train/white_51.txt  \n",
            " extracting: /content/data/labels/train/white_52.txt  \n",
            " extracting: /content/data/labels/train/white_53.txt  \n",
            " extracting: /content/data/labels/train/white_54.txt  \n",
            " extracting: /content/data/labels/train/white_55.txt  \n",
            " extracting: /content/data/labels/train/white_56.txt  \n",
            " extracting: /content/data/labels/train/white_57.txt  \n",
            "  inflating: /content/data/labels/train/white_58.txt  \n",
            " extracting: /content/data/labels/train/white_59.txt  \n",
            "  inflating: /content/data/labels/train/white_60.txt  \n",
            "  inflating: /content/data/labels/train/white_61.txt  \n",
            "  inflating: /content/data/labels/train/white_62.txt  \n",
            " extracting: /content/data/labels/train/white_63.txt  \n",
            "  inflating: /content/data/labels/train/white_64.txt  \n",
            "  inflating: /content/data/labels/train/white_65.txt  \n",
            "  inflating: /content/data/labels/train/white_66.txt  \n",
            "  inflating: /content/data/labels/train/white_67.txt  \n",
            " extracting: /content/data/labels/train/white_68.txt  \n",
            " extracting: /content/data/labels/train/white_69.txt  \n",
            " extracting: /content/data/labels/train/white_70.txt  \n",
            " extracting: /content/data/labels/train/white_71.txt  \n",
            " extracting: /content/data/labels/train/white_72.txt  \n",
            " extracting: /content/data/labels/train/white_73.txt  \n",
            "  inflating: /content/data/labels/train/white_74.txt  \n",
            "  inflating: /content/data/labels/train/white_75.txt  \n",
            " extracting: /content/data/labels/train/white_76.txt  \n",
            " extracting: /content/data/labels/train/white_77.txt  \n",
            " extracting: /content/data/labels/train/white_78.txt  \n",
            " extracting: /content/data/labels/train/white_79.txt  \n",
            " extracting: /content/data/labels/train/white_80.txt  \n",
            " extracting: /content/data/labels/train/white_81.txt  \n",
            " extracting: /content/data/labels/train/white_82.txt  \n",
            " extracting: /content/data/labels/train/white_83.txt  \n",
            "  inflating: /content/data/labels/train/white_84.txt  \n",
            " extracting: /content/data/labels/train/white_85.txt  \n",
            "  inflating: /content/data/labels/train/white_86.txt  \n",
            "  inflating: /content/data/labels/train/white_87.txt  \n",
            " extracting: /content/data/labels/train/white_88.txt  \n",
            " extracting: /content/data/labels/train/white_89.txt  \n",
            "  inflating: /content/data/labels/train/white_90.txt  \n",
            " extracting: /content/data/labels/train/white_91.txt  \n",
            " extracting: /content/data/labels/train/white_92.txt  \n",
            " extracting: /content/data/labels/train/white_93.txt  \n",
            " extracting: /content/data/labels/train/white_94.txt  \n",
            " extracting: /content/data/labels/train/white_95.txt  \n",
            " extracting: /content/data/labels/train/white_96.txt  \n",
            " extracting: /content/data/labels/train/white_97.txt  \n",
            " extracting: /content/data/labels/train/white_98.txt  \n",
            " extracting: /content/data/labels/train/white_99.txt  \n",
            "   creating: /content/data/labels/val/\n",
            " extracting: /content/data/labels/val/black_1.txt  \n",
            " extracting: /content/data/labels/val/black_10.txt  \n",
            "  inflating: /content/data/labels/val/black_11.txt  \n",
            " extracting: /content/data/labels/val/black_12.txt  \n",
            "  inflating: /content/data/labels/val/black_13.txt  \n",
            "  inflating: /content/data/labels/val/black_14.txt  \n",
            "  inflating: /content/data/labels/val/black_15.txt  \n",
            " extracting: /content/data/labels/val/black_16.txt  \n",
            " extracting: /content/data/labels/val/black_17.txt  \n",
            " extracting: /content/data/labels/val/black_18.txt  \n",
            "  inflating: /content/data/labels/val/black_19.txt  \n",
            " extracting: /content/data/labels/val/black_2.txt  \n",
            "  inflating: /content/data/labels/val/black_20.txt  \n",
            " extracting: /content/data/labels/val/black_21.txt  \n",
            "  inflating: /content/data/labels/val/black_22.txt  \n",
            "  inflating: /content/data/labels/val/black_23.txt  \n",
            " extracting: /content/data/labels/val/black_24.txt  \n",
            "  inflating: /content/data/labels/val/black_25.txt  \n",
            " extracting: /content/data/labels/val/black_26.txt  \n",
            " extracting: /content/data/labels/val/black_27.txt  \n",
            " extracting: /content/data/labels/val/black_28.txt  \n",
            " extracting: /content/data/labels/val/black_29.txt  \n",
            " extracting: /content/data/labels/val/black_3.txt  \n",
            "  inflating: /content/data/labels/val/black_30.txt  \n",
            "  inflating: /content/data/labels/val/black_4.txt  \n",
            "  inflating: /content/data/labels/val/black_5.txt  \n",
            " extracting: /content/data/labels/val/black_6.txt  \n",
            " extracting: /content/data/labels/val/black_7.txt  \n",
            "  inflating: /content/data/labels/val/black_8.txt  \n",
            " extracting: /content/data/labels/val/black_9.txt  \n",
            " extracting: /content/data/labels/val/blue_1.txt  \n",
            "  inflating: /content/data/labels/val/blue_10.txt  \n",
            "  inflating: /content/data/labels/val/blue_11.txt  \n",
            " extracting: /content/data/labels/val/blue_12.txt  \n",
            "  inflating: /content/data/labels/val/blue_13.txt  \n",
            " extracting: /content/data/labels/val/blue_14.txt  \n",
            " extracting: /content/data/labels/val/blue_15.txt  \n",
            "  inflating: /content/data/labels/val/blue_16.txt  \n",
            "  inflating: /content/data/labels/val/blue_17.txt  \n",
            " extracting: /content/data/labels/val/blue_18.txt  \n",
            " extracting: /content/data/labels/val/blue_19.txt  \n",
            " extracting: /content/data/labels/val/blue_2.txt  \n",
            "  inflating: /content/data/labels/val/blue_20.txt  \n",
            "  inflating: /content/data/labels/val/blue_21.txt  \n",
            "  inflating: /content/data/labels/val/blue_22.txt  \n",
            " extracting: /content/data/labels/val/blue_23.txt  \n",
            " extracting: /content/data/labels/val/blue_24.txt  \n",
            " extracting: /content/data/labels/val/blue_25.txt  \n",
            "  inflating: /content/data/labels/val/blue_26.txt  \n",
            " extracting: /content/data/labels/val/blue_27.txt  \n",
            " extracting: /content/data/labels/val/blue_28.txt  \n",
            " extracting: /content/data/labels/val/blue_29.txt  \n",
            "  inflating: /content/data/labels/val/blue_3.txt  \n",
            " extracting: /content/data/labels/val/blue_30.txt  \n",
            "  inflating: /content/data/labels/val/blue_4.txt  \n",
            " extracting: /content/data/labels/val/blue_5.txt  \n",
            " extracting: /content/data/labels/val/blue_6.txt  \n",
            " extracting: /content/data/labels/val/blue_7.txt  \n",
            " extracting: /content/data/labels/val/blue_8.txt  \n",
            " extracting: /content/data/labels/val/blue_9.txt  \n",
            " extracting: /content/data/labels/val/gray_1.txt  \n",
            "  inflating: /content/data/labels/val/gray_10.txt  \n",
            "  inflating: /content/data/labels/val/gray_11.txt  \n",
            "  inflating: /content/data/labels/val/gray_12.txt  \n",
            " extracting: /content/data/labels/val/gray_13.txt  \n",
            " extracting: /content/data/labels/val/gray_14.txt  \n",
            " extracting: /content/data/labels/val/gray_15.txt  \n",
            "  inflating: /content/data/labels/val/gray_16.txt  \n",
            " extracting: /content/data/labels/val/gray_17.txt  \n",
            "  inflating: /content/data/labels/val/gray_18.txt  \n",
            " extracting: /content/data/labels/val/gray_19.txt  \n",
            "  inflating: /content/data/labels/val/gray_2.txt  \n",
            " extracting: /content/data/labels/val/gray_20.txt  \n",
            " extracting: /content/data/labels/val/gray_21.txt  \n",
            "  inflating: /content/data/labels/val/gray_22.txt  \n",
            " extracting: /content/data/labels/val/gray_23.txt  \n",
            " extracting: /content/data/labels/val/gray_24.txt  \n",
            " extracting: /content/data/labels/val/gray_25.txt  \n",
            "  inflating: /content/data/labels/val/gray_26.txt  \n",
            " extracting: /content/data/labels/val/gray_27.txt  \n",
            " extracting: /content/data/labels/val/gray_28.txt  \n",
            " extracting: /content/data/labels/val/gray_29.txt  \n",
            "  inflating: /content/data/labels/val/gray_3.txt  \n",
            " extracting: /content/data/labels/val/gray_30.txt  \n",
            "  inflating: /content/data/labels/val/gray_4.txt  \n",
            " extracting: /content/data/labels/val/gray_5.txt  \n",
            " extracting: /content/data/labels/val/gray_6.txt  \n",
            "  inflating: /content/data/labels/val/gray_7.txt  \n",
            " extracting: /content/data/labels/val/gray_8.txt  \n",
            "  inflating: /content/data/labels/val/gray_9.txt  \n",
            "  inflating: /content/data/labels/val/white_1.txt  \n",
            " extracting: /content/data/labels/val/white_10.txt  \n",
            "  inflating: /content/data/labels/val/white_11.txt  \n",
            " extracting: /content/data/labels/val/white_12.txt  \n",
            "  inflating: /content/data/labels/val/white_13.txt  \n",
            " extracting: /content/data/labels/val/white_14.txt  \n",
            " extracting: /content/data/labels/val/white_15.txt  \n",
            " extracting: /content/data/labels/val/white_16.txt  \n",
            "  inflating: /content/data/labels/val/white_17.txt  \n",
            " extracting: /content/data/labels/val/white_18.txt  \n",
            " extracting: /content/data/labels/val/white_19.txt  \n",
            " extracting: /content/data/labels/val/white_2.txt  \n",
            " extracting: /content/data/labels/val/white_20.txt  \n",
            " extracting: /content/data/labels/val/white_21.txt  \n",
            " extracting: /content/data/labels/val/white_22.txt  \n",
            " extracting: /content/data/labels/val/white_23.txt  \n",
            " extracting: /content/data/labels/val/white_24.txt  \n",
            " extracting: /content/data/labels/val/white_25.txt  \n",
            " extracting: /content/data/labels/val/white_26.txt  \n",
            " extracting: /content/data/labels/val/white_27.txt  \n",
            " extracting: /content/data/labels/val/white_28.txt  \n",
            "  inflating: /content/data/labels/val/white_29.txt  \n",
            "  inflating: /content/data/labels/val/white_3.txt  \n",
            "  inflating: /content/data/labels/val/white_30.txt  \n",
            " extracting: /content/data/labels/val/white_4.txt  \n",
            "  inflating: /content/data/labels/val/white_5.txt  \n",
            "  inflating: /content/data/labels/val/white_6.txt  \n",
            " extracting: /content/data/labels/val/white_7.txt  \n",
            " extracting: /content/data/labels/val/white_8.txt  \n",
            " extracting: /content/data/labels/val/white_9.txt  \n"
          ]
        }
      ],
      "source": [
        "# Replace 'your_file.zip' with the name of your zip file\n",
        "!unzip data.zip -d /content/\n"
      ]
    },
    {
      "cell_type": "code",
      "execution_count": 2,
      "metadata": {
        "colab": {
          "base_uri": "https://localhost:8080/"
        },
        "id": "-HSef10HTVbi",
        "outputId": "9c0f86f1-5a05-45ae-d7b1-eb1f370dca49"
      },
      "outputs": [
        {
          "name": "stdout",
          "output_type": "stream",
          "text": [
            "Collecting ultralytics\n",
            "  Downloading ultralytics-8.2.68-py3-none-any.whl.metadata (41 kB)\n",
            "\u001b[?25l     \u001b[90m━━━━━━━━━━━━━━━━━━━━━━━━━━━━━━━━━━━━━━━━\u001b[0m \u001b[32m0.0/41.3 kB\u001b[0m \u001b[31m?\u001b[0m eta \u001b[36m-:--:--\u001b[0m\r\u001b[2K     \u001b[90m━━━━━━━━━━━━━━━━━━━━━━━━━━━━━━━━━━━━━━━━\u001b[0m \u001b[32m41.3/41.3 kB\u001b[0m \u001b[31m2.0 MB/s\u001b[0m eta \u001b[36m0:00:00\u001b[0m\n",
            "\u001b[?25hRequirement already satisfied: numpy<2.0.0,>=1.23.0 in /usr/local/lib/python3.10/dist-packages (from ultralytics) (1.25.2)\n",
            "Requirement already satisfied: matplotlib>=3.3.0 in /usr/local/lib/python3.10/dist-packages (from ultralytics) (3.7.1)\n",
            "Requirement already satisfied: opencv-python>=4.6.0 in /usr/local/lib/python3.10/dist-packages (from ultralytics) (4.10.0.84)\n",
            "Requirement already satisfied: pillow>=7.1.2 in /usr/local/lib/python3.10/dist-packages (from ultralytics) (9.4.0)\n",
            "Requirement already satisfied: pyyaml>=5.3.1 in /usr/local/lib/python3.10/dist-packages (from ultralytics) (6.0.1)\n",
            "Requirement already satisfied: requests>=2.23.0 in /usr/local/lib/python3.10/dist-packages (from ultralytics) (2.31.0)\n",
            "Requirement already satisfied: scipy>=1.4.1 in /usr/local/lib/python3.10/dist-packages (from ultralytics) (1.13.1)\n",
            "Requirement already satisfied: torch>=1.8.0 in /usr/local/lib/python3.10/dist-packages (from ultralytics) (2.3.1+cu121)\n",
            "Requirement already satisfied: torchvision>=0.9.0 in /usr/local/lib/python3.10/dist-packages (from ultralytics) (0.18.1+cu121)\n",
            "Requirement already satisfied: tqdm>=4.64.0 in /usr/local/lib/python3.10/dist-packages (from ultralytics) (4.66.4)\n",
            "Requirement already satisfied: psutil in /usr/local/lib/python3.10/dist-packages (from ultralytics) (5.9.5)\n",
            "Requirement already satisfied: py-cpuinfo in /usr/local/lib/python3.10/dist-packages (from ultralytics) (9.0.0)\n",
            "Requirement already satisfied: pandas>=1.1.4 in /usr/local/lib/python3.10/dist-packages (from ultralytics) (2.0.3)\n",
            "Requirement already satisfied: seaborn>=0.11.0 in /usr/local/lib/python3.10/dist-packages (from ultralytics) (0.13.1)\n",
            "Collecting ultralytics-thop>=2.0.0 (from ultralytics)\n",
            "  Downloading ultralytics_thop-2.0.0-py3-none-any.whl.metadata (8.5 kB)\n",
            "Requirement already satisfied: contourpy>=1.0.1 in /usr/local/lib/python3.10/dist-packages (from matplotlib>=3.3.0->ultralytics) (1.2.1)\n",
            "Requirement already satisfied: cycler>=0.10 in /usr/local/lib/python3.10/dist-packages (from matplotlib>=3.3.0->ultralytics) (0.12.1)\n",
            "Requirement already satisfied: fonttools>=4.22.0 in /usr/local/lib/python3.10/dist-packages (from matplotlib>=3.3.0->ultralytics) (4.53.1)\n",
            "Requirement already satisfied: kiwisolver>=1.0.1 in /usr/local/lib/python3.10/dist-packages (from matplotlib>=3.3.0->ultralytics) (1.4.5)\n",
            "Requirement already satisfied: packaging>=20.0 in /usr/local/lib/python3.10/dist-packages (from matplotlib>=3.3.0->ultralytics) (24.1)\n",
            "Requirement already satisfied: pyparsing>=2.3.1 in /usr/local/lib/python3.10/dist-packages (from matplotlib>=3.3.0->ultralytics) (3.1.2)\n",
            "Requirement already satisfied: python-dateutil>=2.7 in /usr/local/lib/python3.10/dist-packages (from matplotlib>=3.3.0->ultralytics) (2.8.2)\n",
            "Requirement already satisfied: pytz>=2020.1 in /usr/local/lib/python3.10/dist-packages (from pandas>=1.1.4->ultralytics) (2024.1)\n",
            "Requirement already satisfied: tzdata>=2022.1 in /usr/local/lib/python3.10/dist-packages (from pandas>=1.1.4->ultralytics) (2024.1)\n",
            "Requirement already satisfied: charset-normalizer<4,>=2 in /usr/local/lib/python3.10/dist-packages (from requests>=2.23.0->ultralytics) (3.3.2)\n",
            "Requirement already satisfied: idna<4,>=2.5 in /usr/local/lib/python3.10/dist-packages (from requests>=2.23.0->ultralytics) (3.7)\n",
            "Requirement already satisfied: urllib3<3,>=1.21.1 in /usr/local/lib/python3.10/dist-packages (from requests>=2.23.0->ultralytics) (2.0.7)\n",
            "Requirement already satisfied: certifi>=2017.4.17 in /usr/local/lib/python3.10/dist-packages (from requests>=2.23.0->ultralytics) (2024.7.4)\n",
            "Requirement already satisfied: filelock in /usr/local/lib/python3.10/dist-packages (from torch>=1.8.0->ultralytics) (3.15.4)\n",
            "Requirement already satisfied: typing-extensions>=4.8.0 in /usr/local/lib/python3.10/dist-packages (from torch>=1.8.0->ultralytics) (4.12.2)\n",
            "Requirement already satisfied: sympy in /usr/local/lib/python3.10/dist-packages (from torch>=1.8.0->ultralytics) (1.13.1)\n",
            "Requirement already satisfied: networkx in /usr/local/lib/python3.10/dist-packages (from torch>=1.8.0->ultralytics) (3.3)\n",
            "Requirement already satisfied: jinja2 in /usr/local/lib/python3.10/dist-packages (from torch>=1.8.0->ultralytics) (3.1.4)\n",
            "Requirement already satisfied: fsspec in /usr/local/lib/python3.10/dist-packages (from torch>=1.8.0->ultralytics) (2024.6.1)\n",
            "Collecting nvidia-cuda-nvrtc-cu12==12.1.105 (from torch>=1.8.0->ultralytics)\n",
            "  Using cached nvidia_cuda_nvrtc_cu12-12.1.105-py3-none-manylinux1_x86_64.whl.metadata (1.5 kB)\n",
            "Collecting nvidia-cuda-runtime-cu12==12.1.105 (from torch>=1.8.0->ultralytics)\n",
            "  Using cached nvidia_cuda_runtime_cu12-12.1.105-py3-none-manylinux1_x86_64.whl.metadata (1.5 kB)\n",
            "Collecting nvidia-cuda-cupti-cu12==12.1.105 (from torch>=1.8.0->ultralytics)\n",
            "  Using cached nvidia_cuda_cupti_cu12-12.1.105-py3-none-manylinux1_x86_64.whl.metadata (1.6 kB)\n",
            "Collecting nvidia-cudnn-cu12==8.9.2.26 (from torch>=1.8.0->ultralytics)\n",
            "  Using cached nvidia_cudnn_cu12-8.9.2.26-py3-none-manylinux1_x86_64.whl.metadata (1.6 kB)\n",
            "Collecting nvidia-cublas-cu12==12.1.3.1 (from torch>=1.8.0->ultralytics)\n",
            "  Using cached nvidia_cublas_cu12-12.1.3.1-py3-none-manylinux1_x86_64.whl.metadata (1.5 kB)\n",
            "Collecting nvidia-cufft-cu12==11.0.2.54 (from torch>=1.8.0->ultralytics)\n",
            "  Using cached nvidia_cufft_cu12-11.0.2.54-py3-none-manylinux1_x86_64.whl.metadata (1.5 kB)\n",
            "Collecting nvidia-curand-cu12==10.3.2.106 (from torch>=1.8.0->ultralytics)\n",
            "  Using cached nvidia_curand_cu12-10.3.2.106-py3-none-manylinux1_x86_64.whl.metadata (1.5 kB)\n",
            "Collecting nvidia-cusolver-cu12==11.4.5.107 (from torch>=1.8.0->ultralytics)\n",
            "  Using cached nvidia_cusolver_cu12-11.4.5.107-py3-none-manylinux1_x86_64.whl.metadata (1.6 kB)\n",
            "Collecting nvidia-cusparse-cu12==12.1.0.106 (from torch>=1.8.0->ultralytics)\n",
            "  Using cached nvidia_cusparse_cu12-12.1.0.106-py3-none-manylinux1_x86_64.whl.metadata (1.6 kB)\n",
            "Collecting nvidia-nccl-cu12==2.20.5 (from torch>=1.8.0->ultralytics)\n",
            "  Using cached nvidia_nccl_cu12-2.20.5-py3-none-manylinux2014_x86_64.whl.metadata (1.8 kB)\n",
            "Collecting nvidia-nvtx-cu12==12.1.105 (from torch>=1.8.0->ultralytics)\n",
            "  Using cached nvidia_nvtx_cu12-12.1.105-py3-none-manylinux1_x86_64.whl.metadata (1.7 kB)\n",
            "Requirement already satisfied: triton==2.3.1 in /usr/local/lib/python3.10/dist-packages (from torch>=1.8.0->ultralytics) (2.3.1)\n",
            "Collecting nvidia-nvjitlink-cu12 (from nvidia-cusolver-cu12==11.4.5.107->torch>=1.8.0->ultralytics)\n",
            "  Downloading nvidia_nvjitlink_cu12-12.5.82-py3-none-manylinux2014_x86_64.whl.metadata (1.5 kB)\n",
            "Requirement already satisfied: six>=1.5 in /usr/local/lib/python3.10/dist-packages (from python-dateutil>=2.7->matplotlib>=3.3.0->ultralytics) (1.16.0)\n",
            "Requirement already satisfied: MarkupSafe>=2.0 in /usr/local/lib/python3.10/dist-packages (from jinja2->torch>=1.8.0->ultralytics) (2.1.5)\n",
            "Requirement already satisfied: mpmath<1.4,>=1.1.0 in /usr/local/lib/python3.10/dist-packages (from sympy->torch>=1.8.0->ultralytics) (1.3.0)\n",
            "Downloading ultralytics-8.2.68-py3-none-any.whl (828 kB)\n",
            "\u001b[2K   \u001b[90m━━━━━━━━━━━━━━━━━━━━━━━━━━━━━━━━━━━━━━━━\u001b[0m \u001b[32m828.2/828.2 kB\u001b[0m \u001b[31m15.3 MB/s\u001b[0m eta \u001b[36m0:00:00\u001b[0m\n",
            "\u001b[?25hUsing cached nvidia_cublas_cu12-12.1.3.1-py3-none-manylinux1_x86_64.whl (410.6 MB)\n",
            "Using cached nvidia_cuda_cupti_cu12-12.1.105-py3-none-manylinux1_x86_64.whl (14.1 MB)\n",
            "Using cached nvidia_cuda_nvrtc_cu12-12.1.105-py3-none-manylinux1_x86_64.whl (23.7 MB)\n",
            "Using cached nvidia_cuda_runtime_cu12-12.1.105-py3-none-manylinux1_x86_64.whl (823 kB)\n",
            "Using cached nvidia_cudnn_cu12-8.9.2.26-py3-none-manylinux1_x86_64.whl (731.7 MB)\n",
            "Using cached nvidia_cufft_cu12-11.0.2.54-py3-none-manylinux1_x86_64.whl (121.6 MB)\n",
            "Using cached nvidia_curand_cu12-10.3.2.106-py3-none-manylinux1_x86_64.whl (56.5 MB)\n",
            "Using cached nvidia_cusolver_cu12-11.4.5.107-py3-none-manylinux1_x86_64.whl (124.2 MB)\n",
            "Using cached nvidia_cusparse_cu12-12.1.0.106-py3-none-manylinux1_x86_64.whl (196.0 MB)\n",
            "Using cached nvidia_nccl_cu12-2.20.5-py3-none-manylinux2014_x86_64.whl (176.2 MB)\n",
            "Using cached nvidia_nvtx_cu12-12.1.105-py3-none-manylinux1_x86_64.whl (99 kB)\n",
            "Downloading ultralytics_thop-2.0.0-py3-none-any.whl (25 kB)\n",
            "Downloading nvidia_nvjitlink_cu12-12.5.82-py3-none-manylinux2014_x86_64.whl (21.3 MB)\n",
            "\u001b[2K   \u001b[90m━━━━━━━━━━━━━━━━━━━━━━━━━━━━━━━━━━━━━━━━\u001b[0m \u001b[32m21.3/21.3 MB\u001b[0m \u001b[31m74.8 MB/s\u001b[0m eta \u001b[36m0:00:00\u001b[0m\n",
            "\u001b[?25hInstalling collected packages: nvidia-nvtx-cu12, nvidia-nvjitlink-cu12, nvidia-nccl-cu12, nvidia-curand-cu12, nvidia-cufft-cu12, nvidia-cuda-runtime-cu12, nvidia-cuda-nvrtc-cu12, nvidia-cuda-cupti-cu12, nvidia-cublas-cu12, nvidia-cusparse-cu12, nvidia-cudnn-cu12, nvidia-cusolver-cu12, ultralytics-thop, ultralytics\n",
            "Successfully installed nvidia-cublas-cu12-12.1.3.1 nvidia-cuda-cupti-cu12-12.1.105 nvidia-cuda-nvrtc-cu12-12.1.105 nvidia-cuda-runtime-cu12-12.1.105 nvidia-cudnn-cu12-8.9.2.26 nvidia-cufft-cu12-11.0.2.54 nvidia-curand-cu12-10.3.2.106 nvidia-cusolver-cu12-11.4.5.107 nvidia-cusparse-cu12-12.1.0.106 nvidia-nccl-cu12-2.20.5 nvidia-nvjitlink-cu12-12.5.82 nvidia-nvtx-cu12-12.1.105 ultralytics-8.2.68 ultralytics-thop-2.0.0\n"
          ]
        }
      ],
      "source": [
        "pip install ultralytics"
      ]
    },
    {
      "cell_type": "code",
      "execution_count": 29,
      "metadata": {
        "colab": {
          "base_uri": "https://localhost:8080/"
        },
        "id": "DOsyLJxuVvLI",
        "outputId": "cd71ce02-28c3-4bb2-adb9-82851d09b3ae"
      },
      "outputs": [
        {
          "name": "stdout",
          "output_type": "stream",
          "text": [
            "Ultralytics YOLOv8.2.68 🚀 Python-3.10.12 torch-2.3.1+cu121 CUDA:0 (Tesla T4, 15102MiB)\n",
            "\u001b[34m\u001b[1mengine/trainer: \u001b[0mtask=detect, mode=train, model=yolov8n.pt, data=shirts.yaml, epochs=100, time=None, patience=100, batch=16, imgsz=640, save=True, save_period=-1, cache=False, device=None, workers=8, project=None, name=train8, exist_ok=False, pretrained=True, optimizer=auto, verbose=True, seed=0, deterministic=True, single_cls=False, rect=False, cos_lr=False, close_mosaic=10, resume=False, amp=True, fraction=1.0, profile=False, freeze=None, multi_scale=False, overlap_mask=True, mask_ratio=4, dropout=0.0, val=True, split=val, save_json=False, save_hybrid=False, conf=None, iou=0.7, max_det=300, half=False, dnn=False, plots=True, source=None, vid_stride=1, stream_buffer=False, visualize=False, augment=False, agnostic_nms=False, classes=None, retina_masks=False, embed=None, show=False, save_frames=False, save_txt=False, save_conf=False, save_crop=False, show_labels=True, show_conf=True, show_boxes=True, line_width=None, format=torchscript, keras=False, optimize=False, int8=False, dynamic=False, simplify=False, opset=None, workspace=4, nms=False, lr0=0.01, lrf=0.01, momentum=0.937, weight_decay=0.0005, warmup_epochs=3.0, warmup_momentum=0.8, warmup_bias_lr=0.1, box=7.5, cls=0.5, dfl=1.5, pose=12.0, kobj=1.0, label_smoothing=0.0, nbs=64, hsv_h=0.015, hsv_s=0.7, hsv_v=0.4, degrees=0.0, translate=0.1, scale=0.5, shear=0.0, perspective=0.0, flipud=0.0, fliplr=0.5, bgr=0.0, mosaic=1.0, mixup=0.0, copy_paste=0.0, auto_augment=randaugment, erasing=0.4, crop_fraction=1.0, cfg=None, tracker=botsort.yaml, save_dir=runs/detect/train8\n",
            "Overriding model.yaml nc=80 with nc=4\n",
            "\n",
            "                   from  n    params  module                                       arguments                     \n",
            "  0                  -1  1       464  ultralytics.nn.modules.conv.Conv             [3, 16, 3, 2]                 \n",
            "  1                  -1  1      4672  ultralytics.nn.modules.conv.Conv             [16, 32, 3, 2]                \n",
            "  2                  -1  1      7360  ultralytics.nn.modules.block.C2f             [32, 32, 1, True]             \n",
            "  3                  -1  1     18560  ultralytics.nn.modules.conv.Conv             [32, 64, 3, 2]                \n",
            "  4                  -1  2     49664  ultralytics.nn.modules.block.C2f             [64, 64, 2, True]             \n",
            "  5                  -1  1     73984  ultralytics.nn.modules.conv.Conv             [64, 128, 3, 2]               \n",
            "  6                  -1  2    197632  ultralytics.nn.modules.block.C2f             [128, 128, 2, True]           \n",
            "  7                  -1  1    295424  ultralytics.nn.modules.conv.Conv             [128, 256, 3, 2]              \n",
            "  8                  -1  1    460288  ultralytics.nn.modules.block.C2f             [256, 256, 1, True]           \n",
            "  9                  -1  1    164608  ultralytics.nn.modules.block.SPPF            [256, 256, 5]                 \n",
            " 10                  -1  1         0  torch.nn.modules.upsampling.Upsample         [None, 2, 'nearest']          \n",
            " 11             [-1, 6]  1         0  ultralytics.nn.modules.conv.Concat           [1]                           \n",
            " 12                  -1  1    148224  ultralytics.nn.modules.block.C2f             [384, 128, 1]                 \n",
            " 13                  -1  1         0  torch.nn.modules.upsampling.Upsample         [None, 2, 'nearest']          \n",
            " 14             [-1, 4]  1         0  ultralytics.nn.modules.conv.Concat           [1]                           \n",
            " 15                  -1  1     37248  ultralytics.nn.modules.block.C2f             [192, 64, 1]                  \n",
            " 16                  -1  1     36992  ultralytics.nn.modules.conv.Conv             [64, 64, 3, 2]                \n",
            " 17            [-1, 12]  1         0  ultralytics.nn.modules.conv.Concat           [1]                           \n",
            " 18                  -1  1    123648  ultralytics.nn.modules.block.C2f             [192, 128, 1]                 \n",
            " 19                  -1  1    147712  ultralytics.nn.modules.conv.Conv             [128, 128, 3, 2]              \n",
            " 20             [-1, 9]  1         0  ultralytics.nn.modules.conv.Concat           [1]                           \n",
            " 21                  -1  1    493056  ultralytics.nn.modules.block.C2f             [384, 256, 1]                 \n",
            " 22        [15, 18, 21]  1    752092  ultralytics.nn.modules.head.Detect           [4, [64, 128, 256]]           \n",
            "Model summary: 225 layers, 3,011,628 parameters, 3,011,612 gradients, 8.2 GFLOPs\n",
            "\n",
            "Transferred 319/355 items from pretrained weights\n",
            "\u001b[34m\u001b[1mTensorBoard: \u001b[0mStart with 'tensorboard --logdir runs/detect/train8', view at http://localhost:6006/\n",
            "Freezing layer 'model.22.dfl.conv.weight'\n",
            "\u001b[34m\u001b[1mAMP: \u001b[0mrunning Automatic Mixed Precision (AMP) checks with YOLOv8n...\n",
            "\u001b[34m\u001b[1mAMP: \u001b[0mchecks passed ✅\n"
          ]
        },
        {
          "name": "stderr",
          "output_type": "stream",
          "text": [
            "\u001b[34m\u001b[1mtrain: \u001b[0mScanning /content/data/labels/train.cache... 477 images, 0 backgrounds, 0 corrupt: 100%|██████████| 477/477 [00:00<?, ?it/s]"
          ]
        },
        {
          "name": "stdout",
          "output_type": "stream",
          "text": [
            "\u001b[34m\u001b[1malbumentations: \u001b[0mBlur(p=0.01, blur_limit=(3, 7)), MedianBlur(p=0.01, blur_limit=(3, 7)), ToGray(p=0.01), CLAHE(p=0.01, clip_limit=(1, 4.0), tile_grid_size=(8, 8))\n"
          ]
        },
        {
          "name": "stderr",
          "output_type": "stream",
          "text": [
            "\n",
            "/usr/lib/python3.10/multiprocessing/popen_fork.py:66: RuntimeWarning: os.fork() was called. os.fork() is incompatible with multithreaded code, and JAX is multithreaded, so this will likely lead to a deadlock.\n",
            "  self.pid = os.fork()\n",
            "\u001b[34m\u001b[1mval: \u001b[0mScanning /content/data/labels/val.cache... 120 images, 0 backgrounds, 0 corrupt: 100%|██████████| 120/120 [00:00<?, ?it/s]\n"
          ]
        },
        {
          "name": "stdout",
          "output_type": "stream",
          "text": [
            "Plotting labels to runs/detect/train8/labels.jpg... \n",
            "\u001b[34m\u001b[1moptimizer:\u001b[0m 'optimizer=auto' found, ignoring 'lr0=0.01' and 'momentum=0.937' and determining best 'optimizer', 'lr0' and 'momentum' automatically... \n",
            "\u001b[34m\u001b[1moptimizer:\u001b[0m AdamW(lr=0.00125, momentum=0.9) with parameter groups 57 weight(decay=0.0), 64 weight(decay=0.0005), 63 bias(decay=0.0)\n",
            "\u001b[34m\u001b[1mTensorBoard: \u001b[0mmodel graph visualization added ✅\n",
            "Image sizes 640 train, 640 val\n",
            "Using 2 dataloader workers\n",
            "Logging results to \u001b[1mruns/detect/train8\u001b[0m\n",
            "Starting training for 100 epochs...\n",
            "\n",
            "      Epoch    GPU_mem   box_loss   cls_loss   dfl_loss  Instances       Size\n"
          ]
        },
        {
          "name": "stderr",
          "output_type": "stream",
          "text": [
            "      1/100      2.33G     0.8298      2.878      1.371         33        640: 100%|██████████| 30/30 [00:11<00:00,  2.60it/s]\n",
            "                 Class     Images  Instances      Box(P          R      mAP50  mAP50-95): 100%|██████████| 4/4 [00:02<00:00,  1.93it/s]"
          ]
        },
        {
          "name": "stdout",
          "output_type": "stream",
          "text": [
            "                   all        120        146     0.0043          1      0.356      0.267\n"
          ]
        },
        {
          "name": "stderr",
          "output_type": "stream",
          "text": [
            "\n"
          ]
        },
        {
          "name": "stdout",
          "output_type": "stream",
          "text": [
            "\n",
            "      Epoch    GPU_mem   box_loss   cls_loss   dfl_loss  Instances       Size\n"
          ]
        },
        {
          "name": "stderr",
          "output_type": "stream",
          "text": [
            "      2/100      2.29G     0.7076      1.711      1.241         31        640: 100%|██████████| 30/30 [00:13<00:00,  2.20it/s]\n",
            "                 Class     Images  Instances      Box(P          R      mAP50  mAP50-95): 100%|██████████| 4/4 [00:02<00:00,  1.58it/s]"
          ]
        },
        {
          "name": "stdout",
          "output_type": "stream",
          "text": [
            "                   all        120        146      0.728      0.571      0.716      0.528\n"
          ]
        },
        {
          "name": "stderr",
          "output_type": "stream",
          "text": [
            "\n"
          ]
        },
        {
          "name": "stdout",
          "output_type": "stream",
          "text": [
            "\n",
            "      Epoch    GPU_mem   box_loss   cls_loss   dfl_loss  Instances       Size\n"
          ]
        },
        {
          "name": "stderr",
          "output_type": "stream",
          "text": [
            "      3/100      2.29G     0.7151      1.489      1.227         35        640: 100%|██████████| 30/30 [00:07<00:00,  4.10it/s]\n",
            "                 Class     Images  Instances      Box(P          R      mAP50  mAP50-95): 100%|██████████| 4/4 [00:01<00:00,  3.30it/s]\n"
          ]
        },
        {
          "name": "stdout",
          "output_type": "stream",
          "text": [
            "                   all        120        146      0.563      0.259      0.315      0.221\n",
            "\n",
            "      Epoch    GPU_mem   box_loss   cls_loss   dfl_loss  Instances       Size\n"
          ]
        },
        {
          "name": "stderr",
          "output_type": "stream",
          "text": [
            "      4/100      2.29G     0.6975      1.394      1.205         35        640: 100%|██████████| 30/30 [00:12<00:00,  2.34it/s]\n",
            "                 Class     Images  Instances      Box(P          R      mAP50  mAP50-95): 100%|██████████| 4/4 [00:02<00:00,  1.67it/s]"
          ]
        },
        {
          "name": "stdout",
          "output_type": "stream",
          "text": [
            "                   all        120        146      0.715       0.75      0.749      0.497\n"
          ]
        },
        {
          "name": "stderr",
          "output_type": "stream",
          "text": [
            "\n"
          ]
        },
        {
          "name": "stdout",
          "output_type": "stream",
          "text": [
            "\n",
            "      Epoch    GPU_mem   box_loss   cls_loss   dfl_loss  Instances       Size\n"
          ]
        },
        {
          "name": "stderr",
          "output_type": "stream",
          "text": [
            "      5/100      2.29G     0.6822      1.284      1.182         41        640: 100%|██████████| 30/30 [00:07<00:00,  4.19it/s]\n",
            "                 Class     Images  Instances      Box(P          R      mAP50  mAP50-95): 100%|██████████| 4/4 [00:01<00:00,  3.19it/s]\n"
          ]
        },
        {
          "name": "stdout",
          "output_type": "stream",
          "text": [
            "                   all        120        146      0.625      0.688      0.788      0.546\n",
            "\n",
            "      Epoch    GPU_mem   box_loss   cls_loss   dfl_loss  Instances       Size\n"
          ]
        },
        {
          "name": "stderr",
          "output_type": "stream",
          "text": [
            "      6/100      2.29G     0.6765      1.194      1.195         34        640: 100%|██████████| 30/30 [00:11<00:00,  2.59it/s]\n",
            "                 Class     Images  Instances      Box(P          R      mAP50  mAP50-95): 100%|██████████| 4/4 [00:01<00:00,  2.19it/s]\n"
          ]
        },
        {
          "name": "stdout",
          "output_type": "stream",
          "text": [
            "                   all        120        146      0.769      0.452      0.509      0.409\n",
            "\n",
            "      Epoch    GPU_mem   box_loss   cls_loss   dfl_loss  Instances       Size\n"
          ]
        },
        {
          "name": "stderr",
          "output_type": "stream",
          "text": [
            "      7/100      2.29G     0.6482      1.101      1.172         43        640: 100%|██████████| 30/30 [00:07<00:00,  3.98it/s]\n",
            "                 Class     Images  Instances      Box(P          R      mAP50  mAP50-95): 100%|██████████| 4/4 [00:01<00:00,  3.57it/s]\n"
          ]
        },
        {
          "name": "stdout",
          "output_type": "stream",
          "text": [
            "                   all        120        146      0.768      0.632      0.715      0.587\n",
            "\n",
            "      Epoch    GPU_mem   box_loss   cls_loss   dfl_loss  Instances       Size\n"
          ]
        },
        {
          "name": "stderr",
          "output_type": "stream",
          "text": [
            "      8/100      2.29G       0.67      1.063      1.175         35        640: 100%|██████████| 30/30 [00:12<00:00,  2.39it/s]\n",
            "                 Class     Images  Instances      Box(P          R      mAP50  mAP50-95): 100%|██████████| 4/4 [00:01<00:00,  2.05it/s]\n"
          ]
        },
        {
          "name": "stdout",
          "output_type": "stream",
          "text": [
            "                   all        120        146      0.849      0.837       0.91      0.726\n",
            "\n",
            "      Epoch    GPU_mem   box_loss   cls_loss   dfl_loss  Instances       Size\n"
          ]
        },
        {
          "name": "stderr",
          "output_type": "stream",
          "text": [
            "      9/100      2.29G     0.6613      0.989      1.175         30        640: 100%|██████████| 30/30 [00:06<00:00,  4.30it/s]\n",
            "                 Class     Images  Instances      Box(P          R      mAP50  mAP50-95): 100%|██████████| 4/4 [00:01<00:00,  3.34it/s]"
          ]
        },
        {
          "name": "stdout",
          "output_type": "stream",
          "text": [
            "                   all        120        146      0.808      0.728      0.817      0.661\n"
          ]
        },
        {
          "name": "stderr",
          "output_type": "stream",
          "text": [
            "\n"
          ]
        },
        {
          "name": "stdout",
          "output_type": "stream",
          "text": [
            "\n",
            "      Epoch    GPU_mem   box_loss   cls_loss   dfl_loss  Instances       Size\n"
          ]
        },
        {
          "name": "stderr",
          "output_type": "stream",
          "text": [
            "     10/100      2.29G     0.5951     0.9075       1.13         28        640: 100%|██████████| 30/30 [00:13<00:00,  2.30it/s]\n",
            "                 Class     Images  Instances      Box(P          R      mAP50  mAP50-95): 100%|██████████| 4/4 [00:02<00:00,  1.87it/s]"
          ]
        },
        {
          "name": "stdout",
          "output_type": "stream",
          "text": [
            "                   all        120        146      0.864      0.805      0.891      0.714\n"
          ]
        },
        {
          "name": "stderr",
          "output_type": "stream",
          "text": [
            "\n"
          ]
        },
        {
          "name": "stdout",
          "output_type": "stream",
          "text": [
            "\n",
            "      Epoch    GPU_mem   box_loss   cls_loss   dfl_loss  Instances       Size\n"
          ]
        },
        {
          "name": "stderr",
          "output_type": "stream",
          "text": [
            "     11/100      2.29G     0.5867     0.8703      1.122         37        640: 100%|██████████| 30/30 [00:07<00:00,  4.21it/s]\n",
            "                 Class     Images  Instances      Box(P          R      mAP50  mAP50-95): 100%|██████████| 4/4 [00:01<00:00,  3.45it/s]\n"
          ]
        },
        {
          "name": "stdout",
          "output_type": "stream",
          "text": [
            "                   all        120        146      0.818       0.85      0.919      0.762\n",
            "\n",
            "      Epoch    GPU_mem   box_loss   cls_loss   dfl_loss  Instances       Size\n"
          ]
        },
        {
          "name": "stderr",
          "output_type": "stream",
          "text": [
            "     12/100      2.29G     0.6203     0.9267      1.157         30        640: 100%|██████████| 30/30 [00:12<00:00,  2.34it/s]\n",
            "                 Class     Images  Instances      Box(P          R      mAP50  mAP50-95): 100%|██████████| 4/4 [00:01<00:00,  2.24it/s]"
          ]
        },
        {
          "name": "stdout",
          "output_type": "stream",
          "text": [
            "                   all        120        146      0.881      0.821      0.913      0.794\n"
          ]
        },
        {
          "name": "stderr",
          "output_type": "stream",
          "text": [
            "\n"
          ]
        },
        {
          "name": "stdout",
          "output_type": "stream",
          "text": [
            "\n",
            "      Epoch    GPU_mem   box_loss   cls_loss   dfl_loss  Instances       Size\n"
          ]
        },
        {
          "name": "stderr",
          "output_type": "stream",
          "text": [
            "     13/100      2.29G     0.6193     0.8826       1.14         35        640: 100%|██████████| 30/30 [00:07<00:00,  4.11it/s]\n",
            "                 Class     Images  Instances      Box(P          R      mAP50  mAP50-95): 100%|██████████| 4/4 [00:01<00:00,  3.60it/s]\n"
          ]
        },
        {
          "name": "stdout",
          "output_type": "stream",
          "text": [
            "                   all        120        146       0.79       0.82      0.907      0.722\n",
            "\n",
            "      Epoch    GPU_mem   box_loss   cls_loss   dfl_loss  Instances       Size\n"
          ]
        },
        {
          "name": "stderr",
          "output_type": "stream",
          "text": [
            "     14/100      2.29G     0.6066     0.8254      1.129         41        640: 100%|██████████| 30/30 [00:11<00:00,  2.54it/s]\n",
            "                 Class     Images  Instances      Box(P          R      mAP50  mAP50-95): 100%|██████████| 4/4 [00:02<00:00,  1.65it/s]"
          ]
        },
        {
          "name": "stdout",
          "output_type": "stream",
          "text": [
            "                   all        120        146       0.51      0.629      0.704      0.584\n"
          ]
        },
        {
          "name": "stderr",
          "output_type": "stream",
          "text": [
            "\n"
          ]
        },
        {
          "name": "stdout",
          "output_type": "stream",
          "text": [
            "\n",
            "      Epoch    GPU_mem   box_loss   cls_loss   dfl_loss  Instances       Size\n"
          ]
        },
        {
          "name": "stderr",
          "output_type": "stream",
          "text": [
            "     15/100      2.29G     0.6153     0.8227      1.152         40        640: 100%|██████████| 30/30 [00:07<00:00,  3.97it/s]\n",
            "                 Class     Images  Instances      Box(P          R      mAP50  mAP50-95): 100%|██████████| 4/4 [00:01<00:00,  3.30it/s]"
          ]
        },
        {
          "name": "stdout",
          "output_type": "stream",
          "text": [
            "                   all        120        146      0.794       0.77      0.874      0.748\n"
          ]
        },
        {
          "name": "stderr",
          "output_type": "stream",
          "text": [
            "\n"
          ]
        },
        {
          "name": "stdout",
          "output_type": "stream",
          "text": [
            "\n",
            "      Epoch    GPU_mem   box_loss   cls_loss   dfl_loss  Instances       Size\n"
          ]
        },
        {
          "name": "stderr",
          "output_type": "stream",
          "text": [
            "     16/100      2.31G     0.5789     0.7691      1.118         27        640: 100%|██████████| 30/30 [00:12<00:00,  2.50it/s]\n",
            "                 Class     Images  Instances      Box(P          R      mAP50  mAP50-95): 100%|██████████| 4/4 [00:01<00:00,  2.12it/s]\n"
          ]
        },
        {
          "name": "stdout",
          "output_type": "stream",
          "text": [
            "                   all        120        146      0.925        0.9      0.948      0.794\n",
            "\n",
            "      Epoch    GPU_mem   box_loss   cls_loss   dfl_loss  Instances       Size\n"
          ]
        },
        {
          "name": "stderr",
          "output_type": "stream",
          "text": [
            "     17/100      2.29G     0.5945     0.7402      1.121         41        640: 100%|██████████| 30/30 [00:06<00:00,  4.29it/s]\n",
            "                 Class     Images  Instances      Box(P          R      mAP50  mAP50-95): 100%|██████████| 4/4 [00:01<00:00,  3.41it/s]"
          ]
        },
        {
          "name": "stdout",
          "output_type": "stream",
          "text": [
            "                   all        120        146      0.803      0.688      0.861      0.734\n"
          ]
        },
        {
          "name": "stderr",
          "output_type": "stream",
          "text": [
            "\n"
          ]
        },
        {
          "name": "stdout",
          "output_type": "stream",
          "text": [
            "\n",
            "      Epoch    GPU_mem   box_loss   cls_loss   dfl_loss  Instances       Size\n"
          ]
        },
        {
          "name": "stderr",
          "output_type": "stream",
          "text": [
            "     18/100      2.29G     0.5818     0.7286      1.108         28        640: 100%|██████████| 30/30 [00:12<00:00,  2.39it/s]\n",
            "                 Class     Images  Instances      Box(P          R      mAP50  mAP50-95): 100%|██████████| 4/4 [00:02<00:00,  1.68it/s]"
          ]
        },
        {
          "name": "stdout",
          "output_type": "stream",
          "text": [
            "                   all        120        146      0.829      0.749      0.854      0.694\n"
          ]
        },
        {
          "name": "stderr",
          "output_type": "stream",
          "text": [
            "\n"
          ]
        },
        {
          "name": "stdout",
          "output_type": "stream",
          "text": [
            "\n",
            "      Epoch    GPU_mem   box_loss   cls_loss   dfl_loss  Instances       Size\n"
          ]
        },
        {
          "name": "stderr",
          "output_type": "stream",
          "text": [
            "     19/100      2.29G     0.5613     0.7079      1.095         37        640: 100%|██████████| 30/30 [00:07<00:00,  3.83it/s]\n",
            "                 Class     Images  Instances      Box(P          R      mAP50  mAP50-95): 100%|██████████| 4/4 [00:01<00:00,  3.48it/s]"
          ]
        },
        {
          "name": "stdout",
          "output_type": "stream",
          "text": [
            "                   all        120        146      0.825      0.911      0.941      0.823\n"
          ]
        },
        {
          "name": "stderr",
          "output_type": "stream",
          "text": [
            "\n"
          ]
        },
        {
          "name": "stdout",
          "output_type": "stream",
          "text": [
            "\n",
            "      Epoch    GPU_mem   box_loss   cls_loss   dfl_loss  Instances       Size\n"
          ]
        },
        {
          "name": "stderr",
          "output_type": "stream",
          "text": [
            "     20/100      2.29G     0.5547     0.6683      1.092         37        640: 100%|██████████| 30/30 [00:11<00:00,  2.71it/s]\n",
            "                 Class     Images  Instances      Box(P          R      mAP50  mAP50-95): 100%|██████████| 4/4 [00:02<00:00,  1.46it/s]"
          ]
        },
        {
          "name": "stdout",
          "output_type": "stream",
          "text": [
            "                   all        120        146      0.913      0.867      0.941      0.803\n"
          ]
        },
        {
          "name": "stderr",
          "output_type": "stream",
          "text": [
            "\n"
          ]
        },
        {
          "name": "stdout",
          "output_type": "stream",
          "text": [
            "\n",
            "      Epoch    GPU_mem   box_loss   cls_loss   dfl_loss  Instances       Size\n"
          ]
        },
        {
          "name": "stderr",
          "output_type": "stream",
          "text": [
            "     21/100      2.29G     0.5577     0.6766      1.096         36        640: 100%|██████████| 30/30 [00:07<00:00,  4.00it/s]\n",
            "                 Class     Images  Instances      Box(P          R      mAP50  mAP50-95): 100%|██████████| 4/4 [00:01<00:00,  3.67it/s]"
          ]
        },
        {
          "name": "stdout",
          "output_type": "stream",
          "text": [
            "                   all        120        146      0.852      0.852       0.92      0.787\n"
          ]
        },
        {
          "name": "stderr",
          "output_type": "stream",
          "text": [
            "\n"
          ]
        },
        {
          "name": "stdout",
          "output_type": "stream",
          "text": [
            "\n",
            "      Epoch    GPU_mem   box_loss   cls_loss   dfl_loss  Instances       Size\n"
          ]
        },
        {
          "name": "stderr",
          "output_type": "stream",
          "text": [
            "     22/100      2.31G     0.5707     0.6511      1.085         30        640: 100%|██████████| 30/30 [00:10<00:00,  2.89it/s]\n",
            "                 Class     Images  Instances      Box(P          R      mAP50  mAP50-95): 100%|██████████| 4/4 [00:02<00:00,  1.75it/s]"
          ]
        },
        {
          "name": "stdout",
          "output_type": "stream",
          "text": [
            "                   all        120        146      0.905      0.939      0.968      0.828\n"
          ]
        },
        {
          "name": "stderr",
          "output_type": "stream",
          "text": [
            "\n"
          ]
        },
        {
          "name": "stdout",
          "output_type": "stream",
          "text": [
            "\n",
            "      Epoch    GPU_mem   box_loss   cls_loss   dfl_loss  Instances       Size\n"
          ]
        },
        {
          "name": "stderr",
          "output_type": "stream",
          "text": [
            "     23/100      2.29G     0.5461     0.6376      1.089         30        640: 100%|██████████| 30/30 [00:09<00:00,  3.31it/s]\n",
            "                 Class     Images  Instances      Box(P          R      mAP50  mAP50-95): 100%|██████████| 4/4 [00:01<00:00,  3.66it/s]"
          ]
        },
        {
          "name": "stdout",
          "output_type": "stream",
          "text": [
            "                   all        120        146      0.886      0.933       0.96      0.825\n"
          ]
        },
        {
          "name": "stderr",
          "output_type": "stream",
          "text": [
            "\n"
          ]
        },
        {
          "name": "stdout",
          "output_type": "stream",
          "text": [
            "\n",
            "      Epoch    GPU_mem   box_loss   cls_loss   dfl_loss  Instances       Size\n"
          ]
        },
        {
          "name": "stderr",
          "output_type": "stream",
          "text": [
            "     24/100      2.29G     0.5514     0.6324      1.078         34        640: 100%|██████████| 30/30 [00:10<00:00,  2.91it/s]\n",
            "                 Class     Images  Instances      Box(P          R      mAP50  mAP50-95): 100%|██████████| 4/4 [00:02<00:00,  1.75it/s]"
          ]
        },
        {
          "name": "stdout",
          "output_type": "stream",
          "text": [
            "                   all        120        146      0.777      0.826      0.921      0.791\n"
          ]
        },
        {
          "name": "stderr",
          "output_type": "stream",
          "text": [
            "\n"
          ]
        },
        {
          "name": "stdout",
          "output_type": "stream",
          "text": [
            "\n",
            "      Epoch    GPU_mem   box_loss   cls_loss   dfl_loss  Instances       Size\n"
          ]
        },
        {
          "name": "stderr",
          "output_type": "stream",
          "text": [
            "     25/100      2.31G     0.5394     0.6245      1.081         36        640: 100%|██████████| 30/30 [00:09<00:00,  3.28it/s]\n",
            "                 Class     Images  Instances      Box(P          R      mAP50  mAP50-95): 100%|██████████| 4/4 [00:01<00:00,  3.25it/s]"
          ]
        },
        {
          "name": "stdout",
          "output_type": "stream",
          "text": [
            "                   all        120        146      0.871      0.908      0.954       0.84\n"
          ]
        },
        {
          "name": "stderr",
          "output_type": "stream",
          "text": [
            "\n"
          ]
        },
        {
          "name": "stdout",
          "output_type": "stream",
          "text": [
            "\n",
            "      Epoch    GPU_mem   box_loss   cls_loss   dfl_loss  Instances       Size\n"
          ]
        },
        {
          "name": "stderr",
          "output_type": "stream",
          "text": [
            "     26/100      2.29G     0.5544     0.6478      1.093         34        640: 100%|██████████| 30/30 [00:10<00:00,  2.95it/s]\n",
            "                 Class     Images  Instances      Box(P          R      mAP50  mAP50-95): 100%|██████████| 4/4 [00:02<00:00,  1.76it/s]"
          ]
        },
        {
          "name": "stdout",
          "output_type": "stream",
          "text": [
            "                   all        120        146       0.84      0.884      0.955       0.85\n"
          ]
        },
        {
          "name": "stderr",
          "output_type": "stream",
          "text": [
            "\n"
          ]
        },
        {
          "name": "stdout",
          "output_type": "stream",
          "text": [
            "\n",
            "      Epoch    GPU_mem   box_loss   cls_loss   dfl_loss  Instances       Size\n"
          ]
        },
        {
          "name": "stderr",
          "output_type": "stream",
          "text": [
            "     27/100      2.29G     0.5311     0.5735      1.071         32        640: 100%|██████████| 30/30 [00:08<00:00,  3.64it/s]\n",
            "                 Class     Images  Instances      Box(P          R      mAP50  mAP50-95): 100%|██████████| 4/4 [00:01<00:00,  3.55it/s]"
          ]
        },
        {
          "name": "stdout",
          "output_type": "stream",
          "text": [
            "                   all        120        146      0.927      0.937       0.98      0.875\n"
          ]
        },
        {
          "name": "stderr",
          "output_type": "stream",
          "text": [
            "\n"
          ]
        },
        {
          "name": "stdout",
          "output_type": "stream",
          "text": [
            "\n",
            "      Epoch    GPU_mem   box_loss   cls_loss   dfl_loss  Instances       Size\n"
          ]
        },
        {
          "name": "stderr",
          "output_type": "stream",
          "text": [
            "     28/100      2.29G     0.5238     0.5616      1.069         29        640: 100%|██████████| 30/30 [00:10<00:00,  2.99it/s]\n",
            "                 Class     Images  Instances      Box(P          R      mAP50  mAP50-95): 100%|██████████| 4/4 [00:02<00:00,  1.86it/s]"
          ]
        },
        {
          "name": "stdout",
          "output_type": "stream",
          "text": [
            "                   all        120        146      0.905      0.868      0.961      0.855\n"
          ]
        },
        {
          "name": "stderr",
          "output_type": "stream",
          "text": [
            "\n"
          ]
        },
        {
          "name": "stdout",
          "output_type": "stream",
          "text": [
            "\n",
            "      Epoch    GPU_mem   box_loss   cls_loss   dfl_loss  Instances       Size\n"
          ]
        },
        {
          "name": "stderr",
          "output_type": "stream",
          "text": [
            "     29/100      2.29G     0.5452     0.5513      1.066         36        640: 100%|██████████| 30/30 [00:09<00:00,  3.18it/s]\n",
            "                 Class     Images  Instances      Box(P          R      mAP50  mAP50-95): 100%|██████████| 4/4 [00:01<00:00,  2.93it/s]\n"
          ]
        },
        {
          "name": "stdout",
          "output_type": "stream",
          "text": [
            "                   all        120        146      0.879      0.916      0.965      0.853\n",
            "\n",
            "      Epoch    GPU_mem   box_loss   cls_loss   dfl_loss  Instances       Size\n"
          ]
        },
        {
          "name": "stderr",
          "output_type": "stream",
          "text": [
            "     30/100      2.29G     0.5225      0.571      1.071         34        640: 100%|██████████| 30/30 [00:08<00:00,  3.42it/s]\n",
            "                 Class     Images  Instances      Box(P          R      mAP50  mAP50-95): 100%|██████████| 4/4 [00:02<00:00,  1.72it/s]"
          ]
        },
        {
          "name": "stdout",
          "output_type": "stream",
          "text": [
            "                   all        120        146      0.889      0.835       0.93      0.825\n"
          ]
        },
        {
          "name": "stderr",
          "output_type": "stream",
          "text": [
            "\n"
          ]
        },
        {
          "name": "stdout",
          "output_type": "stream",
          "text": [
            "\n",
            "      Epoch    GPU_mem   box_loss   cls_loss   dfl_loss  Instances       Size\n"
          ]
        },
        {
          "name": "stderr",
          "output_type": "stream",
          "text": [
            "     31/100      2.29G     0.4923     0.5082      1.051         36        640: 100%|██████████| 30/30 [00:09<00:00,  3.12it/s]\n",
            "                 Class     Images  Instances      Box(P          R      mAP50  mAP50-95): 100%|██████████| 4/4 [00:01<00:00,  3.55it/s]"
          ]
        },
        {
          "name": "stdout",
          "output_type": "stream",
          "text": [
            "                   all        120        146       0.94       0.91      0.964      0.852\n"
          ]
        },
        {
          "name": "stderr",
          "output_type": "stream",
          "text": [
            "\n"
          ]
        },
        {
          "name": "stdout",
          "output_type": "stream",
          "text": [
            "\n",
            "      Epoch    GPU_mem   box_loss   cls_loss   dfl_loss  Instances       Size\n"
          ]
        },
        {
          "name": "stderr",
          "output_type": "stream",
          "text": [
            "     32/100      2.29G     0.4917     0.5155      1.051         34        640: 100%|██████████| 30/30 [00:09<00:00,  3.02it/s]\n",
            "                 Class     Images  Instances      Box(P          R      mAP50  mAP50-95): 100%|██████████| 4/4 [00:02<00:00,  1.96it/s]"
          ]
        },
        {
          "name": "stdout",
          "output_type": "stream",
          "text": [
            "                   all        120        146      0.895      0.927      0.965      0.864\n"
          ]
        },
        {
          "name": "stderr",
          "output_type": "stream",
          "text": [
            "\n"
          ]
        },
        {
          "name": "stdout",
          "output_type": "stream",
          "text": [
            "\n",
            "      Epoch    GPU_mem   box_loss   cls_loss   dfl_loss  Instances       Size\n"
          ]
        },
        {
          "name": "stderr",
          "output_type": "stream",
          "text": [
            "     33/100      2.29G     0.5325      0.556      1.087         30        640: 100%|██████████| 30/30 [00:09<00:00,  3.13it/s]\n",
            "                 Class     Images  Instances      Box(P          R      mAP50  mAP50-95): 100%|██████████| 4/4 [00:01<00:00,  3.78it/s]"
          ]
        },
        {
          "name": "stdout",
          "output_type": "stream",
          "text": [
            "                   all        120        146      0.956      0.914      0.969      0.867\n"
          ]
        },
        {
          "name": "stderr",
          "output_type": "stream",
          "text": [
            "\n"
          ]
        },
        {
          "name": "stdout",
          "output_type": "stream",
          "text": [
            "\n",
            "      Epoch    GPU_mem   box_loss   cls_loss   dfl_loss  Instances       Size\n"
          ]
        },
        {
          "name": "stderr",
          "output_type": "stream",
          "text": [
            "     34/100      2.29G     0.4922     0.5426      1.055         32        640: 100%|██████████| 30/30 [00:09<00:00,  3.09it/s]\n",
            "                 Class     Images  Instances      Box(P          R      mAP50  mAP50-95): 100%|██████████| 4/4 [00:02<00:00,  1.69it/s]"
          ]
        },
        {
          "name": "stdout",
          "output_type": "stream",
          "text": [
            "                   all        120        146      0.858      0.922      0.956       0.83\n"
          ]
        },
        {
          "name": "stderr",
          "output_type": "stream",
          "text": [
            "\n"
          ]
        },
        {
          "name": "stdout",
          "output_type": "stream",
          "text": [
            "\n",
            "      Epoch    GPU_mem   box_loss   cls_loss   dfl_loss  Instances       Size\n"
          ]
        },
        {
          "name": "stderr",
          "output_type": "stream",
          "text": [
            "     35/100      2.29G     0.4984     0.5332      1.054         38        640: 100%|██████████| 30/30 [00:09<00:00,  3.18it/s]\n",
            "                 Class     Images  Instances      Box(P          R      mAP50  mAP50-95): 100%|██████████| 4/4 [00:01<00:00,  3.16it/s]"
          ]
        },
        {
          "name": "stdout",
          "output_type": "stream",
          "text": [
            "                   all        120        146      0.896      0.946      0.964      0.862\n"
          ]
        },
        {
          "name": "stderr",
          "output_type": "stream",
          "text": [
            "\n"
          ]
        },
        {
          "name": "stdout",
          "output_type": "stream",
          "text": [
            "\n",
            "      Epoch    GPU_mem   box_loss   cls_loss   dfl_loss  Instances       Size\n"
          ]
        },
        {
          "name": "stderr",
          "output_type": "stream",
          "text": [
            "     36/100      2.29G     0.4967      0.532      1.055         35        640: 100%|██████████| 30/30 [00:08<00:00,  3.38it/s]\n",
            "                 Class     Images  Instances      Box(P          R      mAP50  mAP50-95): 100%|██████████| 4/4 [00:02<00:00,  1.81it/s]"
          ]
        },
        {
          "name": "stdout",
          "output_type": "stream",
          "text": [
            "                   all        120        146      0.907      0.902      0.947      0.857\n"
          ]
        },
        {
          "name": "stderr",
          "output_type": "stream",
          "text": [
            "\n"
          ]
        },
        {
          "name": "stdout",
          "output_type": "stream",
          "text": [
            "\n",
            "      Epoch    GPU_mem   box_loss   cls_loss   dfl_loss  Instances       Size\n"
          ]
        },
        {
          "name": "stderr",
          "output_type": "stream",
          "text": [
            "     37/100      2.29G     0.4772     0.5091      1.047         38        640: 100%|██████████| 30/30 [00:10<00:00,  2.78it/s]\n",
            "                 Class     Images  Instances      Box(P          R      mAP50  mAP50-95): 100%|██████████| 4/4 [00:01<00:00,  3.79it/s]"
          ]
        },
        {
          "name": "stdout",
          "output_type": "stream",
          "text": [
            "                   all        120        146       0.91      0.918       0.96      0.866\n"
          ]
        },
        {
          "name": "stderr",
          "output_type": "stream",
          "text": [
            "\n"
          ]
        },
        {
          "name": "stdout",
          "output_type": "stream",
          "text": [
            "\n",
            "      Epoch    GPU_mem   box_loss   cls_loss   dfl_loss  Instances       Size\n"
          ]
        },
        {
          "name": "stderr",
          "output_type": "stream",
          "text": [
            "     38/100      2.29G     0.5017     0.5042      1.072         22        640: 100%|██████████| 30/30 [00:08<00:00,  3.69it/s]\n",
            "                 Class     Images  Instances      Box(P          R      mAP50  mAP50-95): 100%|██████████| 4/4 [00:02<00:00,  1.90it/s]"
          ]
        },
        {
          "name": "stdout",
          "output_type": "stream",
          "text": [
            "                   all        120        146      0.899      0.924      0.956      0.846\n"
          ]
        },
        {
          "name": "stderr",
          "output_type": "stream",
          "text": [
            "\n"
          ]
        },
        {
          "name": "stdout",
          "output_type": "stream",
          "text": [
            "\n",
            "      Epoch    GPU_mem   box_loss   cls_loss   dfl_loss  Instances       Size\n"
          ]
        },
        {
          "name": "stderr",
          "output_type": "stream",
          "text": [
            "     39/100      2.29G     0.5219      0.532      1.073         29        640: 100%|██████████| 30/30 [00:10<00:00,  2.77it/s]\n",
            "                 Class     Images  Instances      Box(P          R      mAP50  mAP50-95): 100%|██████████| 4/4 [00:01<00:00,  3.79it/s]"
          ]
        },
        {
          "name": "stdout",
          "output_type": "stream",
          "text": [
            "                   all        120        146      0.842      0.893      0.936      0.803\n"
          ]
        },
        {
          "name": "stderr",
          "output_type": "stream",
          "text": [
            "\n"
          ]
        },
        {
          "name": "stdout",
          "output_type": "stream",
          "text": [
            "\n",
            "      Epoch    GPU_mem   box_loss   cls_loss   dfl_loss  Instances       Size\n"
          ]
        },
        {
          "name": "stderr",
          "output_type": "stream",
          "text": [
            "     40/100      2.29G     0.5111     0.5385      1.067         45        640: 100%|██████████| 30/30 [00:08<00:00,  3.51it/s]\n",
            "                 Class     Images  Instances      Box(P          R      mAP50  mAP50-95): 100%|██████████| 4/4 [00:02<00:00,  1.93it/s]"
          ]
        },
        {
          "name": "stdout",
          "output_type": "stream",
          "text": [
            "                   all        120        146      0.831        0.9       0.94      0.856\n"
          ]
        },
        {
          "name": "stderr",
          "output_type": "stream",
          "text": [
            "\n"
          ]
        },
        {
          "name": "stdout",
          "output_type": "stream",
          "text": [
            "\n",
            "      Epoch    GPU_mem   box_loss   cls_loss   dfl_loss  Instances       Size\n"
          ]
        },
        {
          "name": "stderr",
          "output_type": "stream",
          "text": [
            "     41/100      2.29G     0.4806     0.4784      1.042         35        640: 100%|██████████| 30/30 [00:11<00:00,  2.68it/s]\n",
            "                 Class     Images  Instances      Box(P          R      mAP50  mAP50-95): 100%|██████████| 4/4 [00:01<00:00,  3.84it/s]"
          ]
        },
        {
          "name": "stdout",
          "output_type": "stream",
          "text": [
            "                   all        120        146      0.857      0.933      0.942      0.837\n"
          ]
        },
        {
          "name": "stderr",
          "output_type": "stream",
          "text": [
            "\n"
          ]
        },
        {
          "name": "stdout",
          "output_type": "stream",
          "text": [
            "\n",
            "      Epoch    GPU_mem   box_loss   cls_loss   dfl_loss  Instances       Size\n"
          ]
        },
        {
          "name": "stderr",
          "output_type": "stream",
          "text": [
            "     42/100      2.29G     0.4783     0.4944      1.038         32        640: 100%|██████████| 30/30 [00:07<00:00,  4.01it/s]\n",
            "                 Class     Images  Instances      Box(P          R      mAP50  mAP50-95): 100%|██████████| 4/4 [00:01<00:00,  2.12it/s]"
          ]
        },
        {
          "name": "stdout",
          "output_type": "stream",
          "text": [
            "                   all        120        146      0.902      0.895      0.974      0.884\n"
          ]
        },
        {
          "name": "stderr",
          "output_type": "stream",
          "text": [
            "\n"
          ]
        },
        {
          "name": "stdout",
          "output_type": "stream",
          "text": [
            "\n",
            "      Epoch    GPU_mem   box_loss   cls_loss   dfl_loss  Instances       Size\n"
          ]
        },
        {
          "name": "stderr",
          "output_type": "stream",
          "text": [
            "     43/100      2.31G     0.4709     0.5079      1.042         37        640: 100%|██████████| 30/30 [00:11<00:00,  2.61it/s]\n",
            "                 Class     Images  Instances      Box(P          R      mAP50  mAP50-95): 100%|██████████| 4/4 [00:01<00:00,  3.72it/s]"
          ]
        },
        {
          "name": "stdout",
          "output_type": "stream",
          "text": [
            "                   all        120        146      0.931      0.904      0.961       0.86\n"
          ]
        },
        {
          "name": "stderr",
          "output_type": "stream",
          "text": [
            "\n"
          ]
        },
        {
          "name": "stdout",
          "output_type": "stream",
          "text": [
            "\n",
            "      Epoch    GPU_mem   box_loss   cls_loss   dfl_loss  Instances       Size\n"
          ]
        },
        {
          "name": "stderr",
          "output_type": "stream",
          "text": [
            "     44/100      2.29G     0.4672     0.4727      1.032         35        640: 100%|██████████| 30/30 [00:07<00:00,  3.98it/s]\n",
            "                 Class     Images  Instances      Box(P          R      mAP50  mAP50-95): 100%|██████████| 4/4 [00:02<00:00,  1.86it/s]"
          ]
        },
        {
          "name": "stdout",
          "output_type": "stream",
          "text": [
            "                   all        120        146      0.903      0.898      0.952       0.86\n"
          ]
        },
        {
          "name": "stderr",
          "output_type": "stream",
          "text": [
            "\n"
          ]
        },
        {
          "name": "stdout",
          "output_type": "stream",
          "text": [
            "\n",
            "      Epoch    GPU_mem   box_loss   cls_loss   dfl_loss  Instances       Size\n"
          ]
        },
        {
          "name": "stderr",
          "output_type": "stream",
          "text": [
            "     45/100      2.29G       0.51      0.483      1.069         36        640: 100%|██████████| 30/30 [00:12<00:00,  2.40it/s]\n",
            "                 Class     Images  Instances      Box(P          R      mAP50  mAP50-95): 100%|██████████| 4/4 [00:00<00:00,  4.21it/s]"
          ]
        },
        {
          "name": "stdout",
          "output_type": "stream",
          "text": [
            "                   all        120        146      0.928      0.904      0.975      0.884\n"
          ]
        },
        {
          "name": "stderr",
          "output_type": "stream",
          "text": [
            "\n"
          ]
        },
        {
          "name": "stdout",
          "output_type": "stream",
          "text": [
            "\n",
            "      Epoch    GPU_mem   box_loss   cls_loss   dfl_loss  Instances       Size\n"
          ]
        },
        {
          "name": "stderr",
          "output_type": "stream",
          "text": [
            "     46/100      2.29G     0.4808     0.4608      1.037         34        640: 100%|██████████| 30/30 [00:07<00:00,  3.97it/s]\n",
            "                 Class     Images  Instances      Box(P          R      mAP50  mAP50-95): 100%|██████████| 4/4 [00:01<00:00,  2.20it/s]"
          ]
        },
        {
          "name": "stdout",
          "output_type": "stream",
          "text": [
            "                   all        120        146      0.871      0.959      0.964      0.872\n"
          ]
        },
        {
          "name": "stderr",
          "output_type": "stream",
          "text": [
            "\n"
          ]
        },
        {
          "name": "stdout",
          "output_type": "stream",
          "text": [
            "\n",
            "      Epoch    GPU_mem   box_loss   cls_loss   dfl_loss  Instances       Size\n"
          ]
        },
        {
          "name": "stderr",
          "output_type": "stream",
          "text": [
            "     47/100      2.29G     0.4627     0.4297       1.03         37        640: 100%|██████████| 30/30 [00:11<00:00,  2.57it/s]\n",
            "                 Class     Images  Instances      Box(P          R      mAP50  mAP50-95): 100%|██████████| 4/4 [00:01<00:00,  3.71it/s]"
          ]
        },
        {
          "name": "stdout",
          "output_type": "stream",
          "text": [
            "                   all        120        146      0.837      0.896      0.928      0.849\n"
          ]
        },
        {
          "name": "stderr",
          "output_type": "stream",
          "text": [
            "\n"
          ]
        },
        {
          "name": "stdout",
          "output_type": "stream",
          "text": [
            "\n",
            "      Epoch    GPU_mem   box_loss   cls_loss   dfl_loss  Instances       Size\n"
          ]
        },
        {
          "name": "stderr",
          "output_type": "stream",
          "text": [
            "     48/100      2.29G     0.4777     0.4655       1.04         35        640: 100%|██████████| 30/30 [00:07<00:00,  3.79it/s]\n",
            "                 Class     Images  Instances      Box(P          R      mAP50  mAP50-95): 100%|██████████| 4/4 [00:01<00:00,  2.16it/s]"
          ]
        },
        {
          "name": "stdout",
          "output_type": "stream",
          "text": [
            "                   all        120        146      0.741      0.883      0.921      0.829\n"
          ]
        },
        {
          "name": "stderr",
          "output_type": "stream",
          "text": [
            "\n"
          ]
        },
        {
          "name": "stdout",
          "output_type": "stream",
          "text": [
            "\n",
            "      Epoch    GPU_mem   box_loss   cls_loss   dfl_loss  Instances       Size\n"
          ]
        },
        {
          "name": "stderr",
          "output_type": "stream",
          "text": [
            "     49/100      2.29G     0.4699     0.4812      1.049         36        640: 100%|██████████| 30/30 [00:11<00:00,  2.68it/s]\n",
            "                 Class     Images  Instances      Box(P          R      mAP50  mAP50-95): 100%|██████████| 4/4 [00:01<00:00,  3.64it/s]"
          ]
        },
        {
          "name": "stdout",
          "output_type": "stream",
          "text": [
            "                   all        120        146       0.87      0.904      0.948       0.86\n"
          ]
        },
        {
          "name": "stderr",
          "output_type": "stream",
          "text": [
            "\n"
          ]
        },
        {
          "name": "stdout",
          "output_type": "stream",
          "text": [
            "\n",
            "      Epoch    GPU_mem   box_loss   cls_loss   dfl_loss  Instances       Size\n"
          ]
        },
        {
          "name": "stderr",
          "output_type": "stream",
          "text": [
            "     50/100      2.29G     0.4607      0.428      1.013         32        640: 100%|██████████| 30/30 [00:06<00:00,  4.31it/s]\n",
            "                 Class     Images  Instances      Box(P          R      mAP50  mAP50-95): 100%|██████████| 4/4 [00:01<00:00,  2.18it/s]"
          ]
        },
        {
          "name": "stdout",
          "output_type": "stream",
          "text": [
            "                   all        120        146      0.932      0.899       0.95      0.855\n"
          ]
        },
        {
          "name": "stderr",
          "output_type": "stream",
          "text": [
            "\n"
          ]
        },
        {
          "name": "stdout",
          "output_type": "stream",
          "text": [
            "\n",
            "      Epoch    GPU_mem   box_loss   cls_loss   dfl_loss  Instances       Size\n"
          ]
        },
        {
          "name": "stderr",
          "output_type": "stream",
          "text": [
            "     51/100      2.29G     0.4711     0.4428      1.045         35        640: 100%|██████████| 30/30 [00:13<00:00,  2.23it/s]\n",
            "                 Class     Images  Instances      Box(P          R      mAP50  mAP50-95): 100%|██████████| 4/4 [00:01<00:00,  3.51it/s]"
          ]
        },
        {
          "name": "stdout",
          "output_type": "stream",
          "text": [
            "                   all        120        146      0.917      0.896      0.952      0.863\n"
          ]
        },
        {
          "name": "stderr",
          "output_type": "stream",
          "text": [
            "\n"
          ]
        },
        {
          "name": "stdout",
          "output_type": "stream",
          "text": [
            "\n",
            "      Epoch    GPU_mem   box_loss   cls_loss   dfl_loss  Instances       Size\n"
          ]
        },
        {
          "name": "stderr",
          "output_type": "stream",
          "text": [
            "     52/100      2.29G     0.4579     0.4318      1.034         39        640: 100%|██████████| 30/30 [00:07<00:00,  4.09it/s]\n",
            "                 Class     Images  Instances      Box(P          R      mAP50  mAP50-95): 100%|██████████| 4/4 [00:01<00:00,  2.54it/s]"
          ]
        },
        {
          "name": "stdout",
          "output_type": "stream",
          "text": [
            "                   all        120        146      0.938      0.922      0.958      0.866\n"
          ]
        },
        {
          "name": "stderr",
          "output_type": "stream",
          "text": [
            "\n"
          ]
        },
        {
          "name": "stdout",
          "output_type": "stream",
          "text": [
            "\n",
            "      Epoch    GPU_mem   box_loss   cls_loss   dfl_loss  Instances       Size\n"
          ]
        },
        {
          "name": "stderr",
          "output_type": "stream",
          "text": [
            "     53/100      2.29G     0.4624     0.4441      1.038         37        640: 100%|██████████| 30/30 [00:13<00:00,  2.22it/s]\n",
            "                 Class     Images  Instances      Box(P          R      mAP50  mAP50-95): 100%|██████████| 4/4 [00:01<00:00,  2.18it/s]"
          ]
        },
        {
          "name": "stdout",
          "output_type": "stream",
          "text": [
            "                   all        120        146       0.94      0.938      0.966      0.878\n"
          ]
        },
        {
          "name": "stderr",
          "output_type": "stream",
          "text": [
            "\n"
          ]
        },
        {
          "name": "stdout",
          "output_type": "stream",
          "text": [
            "\n",
            "      Epoch    GPU_mem   box_loss   cls_loss   dfl_loss  Instances       Size\n"
          ]
        },
        {
          "name": "stderr",
          "output_type": "stream",
          "text": [
            "     54/100      2.29G     0.4683     0.4306      1.035         32        640: 100%|██████████| 30/30 [00:07<00:00,  4.06it/s]\n",
            "                 Class     Images  Instances      Box(P          R      mAP50  mAP50-95): 100%|██████████| 4/4 [00:01<00:00,  2.20it/s]"
          ]
        },
        {
          "name": "stdout",
          "output_type": "stream",
          "text": [
            "                   all        120        146       0.93      0.912      0.964      0.886\n"
          ]
        },
        {
          "name": "stderr",
          "output_type": "stream",
          "text": [
            "\n"
          ]
        },
        {
          "name": "stdout",
          "output_type": "stream",
          "text": [
            "\n",
            "      Epoch    GPU_mem   box_loss   cls_loss   dfl_loss  Instances       Size\n"
          ]
        },
        {
          "name": "stderr",
          "output_type": "stream",
          "text": [
            "     55/100      2.29G     0.4533     0.4481       1.03         38        640: 100%|██████████| 30/30 [00:12<00:00,  2.37it/s]\n",
            "                 Class     Images  Instances      Box(P          R      mAP50  mAP50-95): 100%|██████████| 4/4 [00:01<00:00,  3.64it/s]"
          ]
        },
        {
          "name": "stdout",
          "output_type": "stream",
          "text": [
            "                   all        120        146      0.895      0.906      0.929      0.854\n"
          ]
        },
        {
          "name": "stderr",
          "output_type": "stream",
          "text": [
            "\n"
          ]
        },
        {
          "name": "stdout",
          "output_type": "stream",
          "text": [
            "\n",
            "      Epoch    GPU_mem   box_loss   cls_loss   dfl_loss  Instances       Size\n"
          ]
        },
        {
          "name": "stderr",
          "output_type": "stream",
          "text": [
            "     56/100      2.29G     0.4607     0.4161      1.037         36        640: 100%|██████████| 30/30 [00:08<00:00,  3.63it/s]\n",
            "                 Class     Images  Instances      Box(P          R      mAP50  mAP50-95): 100%|██████████| 4/4 [00:01<00:00,  2.28it/s]"
          ]
        },
        {
          "name": "stdout",
          "output_type": "stream",
          "text": [
            "                   all        120        146      0.906      0.915      0.964      0.883\n"
          ]
        },
        {
          "name": "stderr",
          "output_type": "stream",
          "text": [
            "\n"
          ]
        },
        {
          "name": "stdout",
          "output_type": "stream",
          "text": [
            "\n",
            "      Epoch    GPU_mem   box_loss   cls_loss   dfl_loss  Instances       Size\n"
          ]
        },
        {
          "name": "stderr",
          "output_type": "stream",
          "text": [
            "     57/100      2.29G     0.4411     0.4011      1.026         40        640: 100%|██████████| 30/30 [00:12<00:00,  2.40it/s]\n",
            "                 Class     Images  Instances      Box(P          R      mAP50  mAP50-95): 100%|██████████| 4/4 [00:01<00:00,  3.41it/s]"
          ]
        },
        {
          "name": "stdout",
          "output_type": "stream",
          "text": [
            "                   all        120        146      0.952      0.935      0.973      0.875\n"
          ]
        },
        {
          "name": "stderr",
          "output_type": "stream",
          "text": [
            "\n"
          ]
        },
        {
          "name": "stdout",
          "output_type": "stream",
          "text": [
            "\n",
            "      Epoch    GPU_mem   box_loss   cls_loss   dfl_loss  Instances       Size\n"
          ]
        },
        {
          "name": "stderr",
          "output_type": "stream",
          "text": [
            "     58/100      2.29G     0.4555     0.4017       1.03         37        640: 100%|██████████| 30/30 [00:07<00:00,  4.12it/s]\n",
            "                 Class     Images  Instances      Box(P          R      mAP50  mAP50-95): 100%|██████████| 4/4 [00:01<00:00,  2.62it/s]"
          ]
        },
        {
          "name": "stdout",
          "output_type": "stream",
          "text": [
            "                   all        120        146      0.878      0.902      0.932       0.85\n"
          ]
        },
        {
          "name": "stderr",
          "output_type": "stream",
          "text": [
            "\n"
          ]
        },
        {
          "name": "stdout",
          "output_type": "stream",
          "text": [
            "\n",
            "      Epoch    GPU_mem   box_loss   cls_loss   dfl_loss  Instances       Size\n"
          ]
        },
        {
          "name": "stderr",
          "output_type": "stream",
          "text": [
            "     59/100      2.29G     0.4615      0.389      1.036         40        640: 100%|██████████| 30/30 [00:12<00:00,  2.31it/s]\n",
            "                 Class     Images  Instances      Box(P          R      mAP50  mAP50-95): 100%|██████████| 4/4 [00:01<00:00,  3.32it/s]"
          ]
        },
        {
          "name": "stdout",
          "output_type": "stream",
          "text": [
            "                   all        120        146      0.934      0.887      0.943      0.859\n"
          ]
        },
        {
          "name": "stderr",
          "output_type": "stream",
          "text": [
            "\n"
          ]
        },
        {
          "name": "stdout",
          "output_type": "stream",
          "text": [
            "\n",
            "      Epoch    GPU_mem   box_loss   cls_loss   dfl_loss  Instances       Size\n"
          ]
        },
        {
          "name": "stderr",
          "output_type": "stream",
          "text": [
            "     60/100      2.29G     0.4292      0.368      1.012         31        640: 100%|██████████| 30/30 [00:07<00:00,  4.15it/s]\n",
            "                 Class     Images  Instances      Box(P          R      mAP50  mAP50-95): 100%|██████████| 4/4 [00:01<00:00,  2.94it/s]"
          ]
        },
        {
          "name": "stdout",
          "output_type": "stream",
          "text": [
            "                   all        120        146       0.94      0.911      0.964      0.896\n"
          ]
        },
        {
          "name": "stderr",
          "output_type": "stream",
          "text": [
            "\n"
          ]
        },
        {
          "name": "stdout",
          "output_type": "stream",
          "text": [
            "\n",
            "      Epoch    GPU_mem   box_loss   cls_loss   dfl_loss  Instances       Size\n"
          ]
        },
        {
          "name": "stderr",
          "output_type": "stream",
          "text": [
            "     61/100      2.29G       0.44     0.3993      1.037         39        640: 100%|██████████| 30/30 [00:13<00:00,  2.30it/s]\n",
            "                 Class     Images  Instances      Box(P          R      mAP50  mAP50-95): 100%|██████████| 4/4 [00:01<00:00,  2.05it/s]"
          ]
        },
        {
          "name": "stdout",
          "output_type": "stream",
          "text": [
            "                   all        120        146      0.915      0.957      0.974      0.896\n"
          ]
        },
        {
          "name": "stderr",
          "output_type": "stream",
          "text": [
            "\n"
          ]
        },
        {
          "name": "stdout",
          "output_type": "stream",
          "text": [
            "\n",
            "      Epoch    GPU_mem   box_loss   cls_loss   dfl_loss  Instances       Size\n"
          ]
        },
        {
          "name": "stderr",
          "output_type": "stream",
          "text": [
            "     62/100      2.29G     0.4266     0.3912      1.011         34        640: 100%|██████████| 30/30 [00:07<00:00,  3.89it/s]\n",
            "                 Class     Images  Instances      Box(P          R      mAP50  mAP50-95): 100%|██████████| 4/4 [00:01<00:00,  2.14it/s]"
          ]
        },
        {
          "name": "stdout",
          "output_type": "stream",
          "text": [
            "                   all        120        146      0.871      0.887      0.955      0.868\n"
          ]
        },
        {
          "name": "stderr",
          "output_type": "stream",
          "text": [
            "\n"
          ]
        },
        {
          "name": "stdout",
          "output_type": "stream",
          "text": [
            "\n",
            "      Epoch    GPU_mem   box_loss   cls_loss   dfl_loss  Instances       Size\n"
          ]
        },
        {
          "name": "stderr",
          "output_type": "stream",
          "text": [
            "     63/100      2.29G     0.4339     0.3916      1.015         34        640: 100%|██████████| 30/30 [00:12<00:00,  2.36it/s]\n",
            "                 Class     Images  Instances      Box(P          R      mAP50  mAP50-95): 100%|██████████| 4/4 [00:01<00:00,  3.95it/s]"
          ]
        },
        {
          "name": "stdout",
          "output_type": "stream",
          "text": [
            "                   all        120        146      0.915      0.893      0.953      0.879\n"
          ]
        },
        {
          "name": "stderr",
          "output_type": "stream",
          "text": [
            "\n"
          ]
        },
        {
          "name": "stdout",
          "output_type": "stream",
          "text": [
            "\n",
            "      Epoch    GPU_mem   box_loss   cls_loss   dfl_loss  Instances       Size\n"
          ]
        },
        {
          "name": "stderr",
          "output_type": "stream",
          "text": [
            "     64/100      2.29G     0.4223     0.3854      1.015         46        640: 100%|██████████| 30/30 [00:08<00:00,  3.69it/s]\n",
            "                 Class     Images  Instances      Box(P          R      mAP50  mAP50-95): 100%|██████████| 4/4 [00:01<00:00,  2.58it/s]"
          ]
        },
        {
          "name": "stdout",
          "output_type": "stream",
          "text": [
            "                   all        120        146      0.957      0.939      0.963      0.895\n"
          ]
        },
        {
          "name": "stderr",
          "output_type": "stream",
          "text": [
            "\n"
          ]
        },
        {
          "name": "stdout",
          "output_type": "stream",
          "text": [
            "\n",
            "      Epoch    GPU_mem   box_loss   cls_loss   dfl_loss  Instances       Size\n"
          ]
        },
        {
          "name": "stderr",
          "output_type": "stream",
          "text": [
            "     65/100      2.29G      0.429     0.3875      1.008         35        640: 100%|██████████| 30/30 [00:12<00:00,  2.40it/s]\n",
            "                 Class     Images  Instances      Box(P          R      mAP50  mAP50-95): 100%|██████████| 4/4 [00:01<00:00,  3.01it/s]"
          ]
        },
        {
          "name": "stdout",
          "output_type": "stream",
          "text": [
            "                   all        120        146      0.905      0.926      0.962      0.868\n"
          ]
        },
        {
          "name": "stderr",
          "output_type": "stream",
          "text": [
            "\n"
          ]
        },
        {
          "name": "stdout",
          "output_type": "stream",
          "text": [
            "\n",
            "      Epoch    GPU_mem   box_loss   cls_loss   dfl_loss  Instances       Size\n"
          ]
        },
        {
          "name": "stderr",
          "output_type": "stream",
          "text": [
            "     66/100      2.29G     0.4235     0.3592      1.015         31        640: 100%|██████████| 30/30 [00:07<00:00,  4.05it/s]\n",
            "                 Class     Images  Instances      Box(P          R      mAP50  mAP50-95): 100%|██████████| 4/4 [00:01<00:00,  2.01it/s]"
          ]
        },
        {
          "name": "stdout",
          "output_type": "stream",
          "text": [
            "                   all        120        146      0.962      0.939      0.972      0.883\n"
          ]
        },
        {
          "name": "stderr",
          "output_type": "stream",
          "text": [
            "\n"
          ]
        },
        {
          "name": "stdout",
          "output_type": "stream",
          "text": [
            "\n",
            "      Epoch    GPU_mem   box_loss   cls_loss   dfl_loss  Instances       Size\n"
          ]
        },
        {
          "name": "stderr",
          "output_type": "stream",
          "text": [
            "     67/100      2.29G     0.4359     0.3653      1.028         33        640: 100%|██████████| 30/30 [00:12<00:00,  2.33it/s]\n",
            "                 Class     Images  Instances      Box(P          R      mAP50  mAP50-95): 100%|██████████| 4/4 [00:01<00:00,  3.36it/s]"
          ]
        },
        {
          "name": "stdout",
          "output_type": "stream",
          "text": [
            "                   all        120        146      0.894      0.947      0.971      0.887\n"
          ]
        },
        {
          "name": "stderr",
          "output_type": "stream",
          "text": [
            "\n"
          ]
        },
        {
          "name": "stdout",
          "output_type": "stream",
          "text": [
            "\n",
            "      Epoch    GPU_mem   box_loss   cls_loss   dfl_loss  Instances       Size\n"
          ]
        },
        {
          "name": "stderr",
          "output_type": "stream",
          "text": [
            "     68/100      2.29G     0.4171     0.3712      1.011         29        640: 100%|██████████| 30/30 [00:07<00:00,  4.03it/s]\n",
            "                 Class     Images  Instances      Box(P          R      mAP50  mAP50-95): 100%|██████████| 4/4 [00:01<00:00,  2.08it/s]"
          ]
        },
        {
          "name": "stdout",
          "output_type": "stream",
          "text": [
            "                   all        120        146      0.904      0.908      0.947      0.864\n"
          ]
        },
        {
          "name": "stderr",
          "output_type": "stream",
          "text": [
            "\n"
          ]
        },
        {
          "name": "stdout",
          "output_type": "stream",
          "text": [
            "\n",
            "      Epoch    GPU_mem   box_loss   cls_loss   dfl_loss  Instances       Size\n"
          ]
        },
        {
          "name": "stderr",
          "output_type": "stream",
          "text": [
            "     69/100      2.29G     0.4265     0.3701      1.008         47        640: 100%|██████████| 30/30 [00:13<00:00,  2.23it/s]\n",
            "                 Class     Images  Instances      Box(P          R      mAP50  mAP50-95): 100%|██████████| 4/4 [00:01<00:00,  3.60it/s]"
          ]
        },
        {
          "name": "stdout",
          "output_type": "stream",
          "text": [
            "                   all        120        146      0.914      0.919      0.973      0.891\n"
          ]
        },
        {
          "name": "stderr",
          "output_type": "stream",
          "text": [
            "\n"
          ]
        },
        {
          "name": "stdout",
          "output_type": "stream",
          "text": [
            "\n",
            "      Epoch    GPU_mem   box_loss   cls_loss   dfl_loss  Instances       Size\n"
          ]
        },
        {
          "name": "stderr",
          "output_type": "stream",
          "text": [
            "     70/100      2.29G     0.3941     0.3457     0.9909         35        640: 100%|██████████| 30/30 [00:07<00:00,  4.02it/s]\n",
            "                 Class     Images  Instances      Box(P          R      mAP50  mAP50-95): 100%|██████████| 4/4 [00:01<00:00,  2.00it/s]"
          ]
        },
        {
          "name": "stdout",
          "output_type": "stream",
          "text": [
            "                   all        120        146      0.883      0.952      0.972      0.897\n"
          ]
        },
        {
          "name": "stderr",
          "output_type": "stream",
          "text": [
            "\n"
          ]
        },
        {
          "name": "stdout",
          "output_type": "stream",
          "text": [
            "\n",
            "      Epoch    GPU_mem   box_loss   cls_loss   dfl_loss  Instances       Size\n"
          ]
        },
        {
          "name": "stderr",
          "output_type": "stream",
          "text": [
            "     71/100      2.29G     0.4154     0.3827      1.004         36        640: 100%|██████████| 30/30 [00:12<00:00,  2.38it/s]\n",
            "                 Class     Images  Instances      Box(P          R      mAP50  mAP50-95): 100%|██████████| 4/4 [00:01<00:00,  3.38it/s]"
          ]
        },
        {
          "name": "stdout",
          "output_type": "stream",
          "text": [
            "                   all        120        146      0.942       0.92      0.955      0.886\n"
          ]
        },
        {
          "name": "stderr",
          "output_type": "stream",
          "text": [
            "\n"
          ]
        },
        {
          "name": "stdout",
          "output_type": "stream",
          "text": [
            "\n",
            "      Epoch    GPU_mem   box_loss   cls_loss   dfl_loss  Instances       Size\n"
          ]
        },
        {
          "name": "stderr",
          "output_type": "stream",
          "text": [
            "     72/100      2.29G     0.4048     0.3511     0.9998         31        640: 100%|██████████| 30/30 [00:07<00:00,  3.79it/s]\n",
            "                 Class     Images  Instances      Box(P          R      mAP50  mAP50-95): 100%|██████████| 4/4 [00:01<00:00,  2.09it/s]"
          ]
        },
        {
          "name": "stdout",
          "output_type": "stream",
          "text": [
            "                   all        120        146       0.93      0.919      0.968      0.893\n"
          ]
        },
        {
          "name": "stderr",
          "output_type": "stream",
          "text": [
            "\n"
          ]
        },
        {
          "name": "stdout",
          "output_type": "stream",
          "text": [
            "\n",
            "      Epoch    GPU_mem   box_loss   cls_loss   dfl_loss  Instances       Size\n"
          ]
        },
        {
          "name": "stderr",
          "output_type": "stream",
          "text": [
            "     73/100      2.29G     0.3985     0.3236     0.9924         31        640: 100%|██████████| 30/30 [00:12<00:00,  2.36it/s]\n",
            "                 Class     Images  Instances      Box(P          R      mAP50  mAP50-95): 100%|██████████| 4/4 [00:01<00:00,  3.26it/s]"
          ]
        },
        {
          "name": "stdout",
          "output_type": "stream",
          "text": [
            "                   all        120        146      0.937      0.937      0.956      0.878\n"
          ]
        },
        {
          "name": "stderr",
          "output_type": "stream",
          "text": [
            "\n"
          ]
        },
        {
          "name": "stdout",
          "output_type": "stream",
          "text": [
            "\n",
            "      Epoch    GPU_mem   box_loss   cls_loss   dfl_loss  Instances       Size\n"
          ]
        },
        {
          "name": "stderr",
          "output_type": "stream",
          "text": [
            "     74/100      2.29G     0.3988     0.3435     0.9897         43        640: 100%|██████████| 30/30 [00:07<00:00,  4.15it/s]\n",
            "                 Class     Images  Instances      Box(P          R      mAP50  mAP50-95): 100%|██████████| 4/4 [00:01<00:00,  2.36it/s]"
          ]
        },
        {
          "name": "stdout",
          "output_type": "stream",
          "text": [
            "                   all        120        146      0.928      0.911      0.954      0.881\n"
          ]
        },
        {
          "name": "stderr",
          "output_type": "stream",
          "text": [
            "\n"
          ]
        },
        {
          "name": "stdout",
          "output_type": "stream",
          "text": [
            "\n",
            "      Epoch    GPU_mem   box_loss   cls_loss   dfl_loss  Instances       Size\n"
          ]
        },
        {
          "name": "stderr",
          "output_type": "stream",
          "text": [
            "     75/100      2.29G     0.3902     0.3254     0.9926         34        640: 100%|██████████| 30/30 [00:12<00:00,  2.46it/s]\n",
            "                 Class     Images  Instances      Box(P          R      mAP50  mAP50-95): 100%|██████████| 4/4 [00:01<00:00,  3.29it/s]"
          ]
        },
        {
          "name": "stdout",
          "output_type": "stream",
          "text": [
            "                   all        120        146      0.965      0.916      0.965      0.901\n"
          ]
        },
        {
          "name": "stderr",
          "output_type": "stream",
          "text": [
            "\n"
          ]
        },
        {
          "name": "stdout",
          "output_type": "stream",
          "text": [
            "\n",
            "      Epoch    GPU_mem   box_loss   cls_loss   dfl_loss  Instances       Size\n"
          ]
        },
        {
          "name": "stderr",
          "output_type": "stream",
          "text": [
            "     76/100      2.29G     0.4093     0.3548     0.9991         31        640: 100%|██████████| 30/30 [00:07<00:00,  4.01it/s]\n",
            "                 Class     Images  Instances      Box(P          R      mAP50  mAP50-95): 100%|██████████| 4/4 [00:01<00:00,  2.27it/s]"
          ]
        },
        {
          "name": "stdout",
          "output_type": "stream",
          "text": [
            "                   all        120        146      0.948      0.927      0.966      0.889\n"
          ]
        },
        {
          "name": "stderr",
          "output_type": "stream",
          "text": [
            "\n"
          ]
        },
        {
          "name": "stdout",
          "output_type": "stream",
          "text": [
            "\n",
            "      Epoch    GPU_mem   box_loss   cls_loss   dfl_loss  Instances       Size\n"
          ]
        },
        {
          "name": "stderr",
          "output_type": "stream",
          "text": [
            "     77/100      2.29G     0.4054     0.3472      1.006         34        640: 100%|██████████| 30/30 [00:11<00:00,  2.61it/s]\n",
            "                 Class     Images  Instances      Box(P          R      mAP50  mAP50-95): 100%|██████████| 4/4 [00:01<00:00,  2.07it/s]"
          ]
        },
        {
          "name": "stdout",
          "output_type": "stream",
          "text": [
            "                   all        120        146      0.954      0.931      0.977      0.904\n"
          ]
        },
        {
          "name": "stderr",
          "output_type": "stream",
          "text": [
            "\n"
          ]
        },
        {
          "name": "stdout",
          "output_type": "stream",
          "text": [
            "\n",
            "      Epoch    GPU_mem   box_loss   cls_loss   dfl_loss  Instances       Size\n"
          ]
        },
        {
          "name": "stderr",
          "output_type": "stream",
          "text": [
            "     78/100      2.29G     0.3845     0.3238     0.9913         33        640: 100%|██████████| 30/30 [00:08<00:00,  3.39it/s]\n",
            "                 Class     Images  Instances      Box(P          R      mAP50  mAP50-95): 100%|██████████| 4/4 [00:02<00:00,  1.59it/s]"
          ]
        },
        {
          "name": "stdout",
          "output_type": "stream",
          "text": [
            "                   all        120        146       0.94      0.942      0.979      0.898\n"
          ]
        },
        {
          "name": "stderr",
          "output_type": "stream",
          "text": [
            "\n"
          ]
        },
        {
          "name": "stdout",
          "output_type": "stream",
          "text": [
            "\n",
            "      Epoch    GPU_mem   box_loss   cls_loss   dfl_loss  Instances       Size\n"
          ]
        },
        {
          "name": "stderr",
          "output_type": "stream",
          "text": [
            "     79/100      2.29G     0.3982     0.3124     0.9959         33        640: 100%|██████████| 30/30 [00:10<00:00,  2.78it/s]\n",
            "                 Class     Images  Instances      Box(P          R      mAP50  mAP50-95): 100%|██████████| 4/4 [00:01<00:00,  3.78it/s]"
          ]
        },
        {
          "name": "stdout",
          "output_type": "stream",
          "text": [
            "                   all        120        146      0.937      0.942       0.96      0.884\n"
          ]
        },
        {
          "name": "stderr",
          "output_type": "stream",
          "text": [
            "\n"
          ]
        },
        {
          "name": "stdout",
          "output_type": "stream",
          "text": [
            "\n",
            "      Epoch    GPU_mem   box_loss   cls_loss   dfl_loss  Instances       Size\n"
          ]
        },
        {
          "name": "stderr",
          "output_type": "stream",
          "text": [
            "     80/100      2.29G     0.3797     0.3494     0.9886         33        640: 100%|██████████| 30/30 [00:08<00:00,  3.50it/s]\n",
            "                 Class     Images  Instances      Box(P          R      mAP50  mAP50-95): 100%|██████████| 4/4 [00:01<00:00,  2.03it/s]"
          ]
        },
        {
          "name": "stdout",
          "output_type": "stream",
          "text": [
            "                   all        120        146      0.948      0.913      0.963      0.881\n"
          ]
        },
        {
          "name": "stderr",
          "output_type": "stream",
          "text": [
            "\n"
          ]
        },
        {
          "name": "stdout",
          "output_type": "stream",
          "text": [
            "\n",
            "      Epoch    GPU_mem   box_loss   cls_loss   dfl_loss  Instances       Size\n"
          ]
        },
        {
          "name": "stderr",
          "output_type": "stream",
          "text": [
            "     81/100      2.29G     0.3774     0.3195     0.9793         42        640: 100%|██████████| 30/30 [00:09<00:00,  3.00it/s]\n",
            "                 Class     Images  Instances      Box(P          R      mAP50  mAP50-95): 100%|██████████| 4/4 [00:01<00:00,  3.76it/s]"
          ]
        },
        {
          "name": "stdout",
          "output_type": "stream",
          "text": [
            "                   all        120        146      0.908       0.94      0.956      0.881\n"
          ]
        },
        {
          "name": "stderr",
          "output_type": "stream",
          "text": [
            "\n"
          ]
        },
        {
          "name": "stdout",
          "output_type": "stream",
          "text": [
            "\n",
            "      Epoch    GPU_mem   box_loss   cls_loss   dfl_loss  Instances       Size\n"
          ]
        },
        {
          "name": "stderr",
          "output_type": "stream",
          "text": [
            "     82/100      2.29G     0.3872      0.321     0.9912         34        640: 100%|██████████| 30/30 [00:07<00:00,  3.78it/s]\n",
            "                 Class     Images  Instances      Box(P          R      mAP50  mAP50-95): 100%|██████████| 4/4 [00:02<00:00,  1.78it/s]"
          ]
        },
        {
          "name": "stdout",
          "output_type": "stream",
          "text": [
            "                   all        120        146      0.901      0.932      0.951      0.884\n"
          ]
        },
        {
          "name": "stderr",
          "output_type": "stream",
          "text": [
            "\n"
          ]
        },
        {
          "name": "stdout",
          "output_type": "stream",
          "text": [
            "\n",
            "      Epoch    GPU_mem   box_loss   cls_loss   dfl_loss  Instances       Size\n"
          ]
        },
        {
          "name": "stderr",
          "output_type": "stream",
          "text": [
            "     83/100      2.29G     0.3656     0.3123      0.981         33        640: 100%|██████████| 30/30 [00:11<00:00,  2.52it/s]\n",
            "                 Class     Images  Instances      Box(P          R      mAP50  mAP50-95): 100%|██████████| 4/4 [00:01<00:00,  3.46it/s]"
          ]
        },
        {
          "name": "stdout",
          "output_type": "stream",
          "text": [
            "                   all        120        146       0.95      0.953      0.967        0.9\n"
          ]
        },
        {
          "name": "stderr",
          "output_type": "stream",
          "text": [
            "\n"
          ]
        },
        {
          "name": "stdout",
          "output_type": "stream",
          "text": [
            "\n",
            "      Epoch    GPU_mem   box_loss   cls_loss   dfl_loss  Instances       Size\n"
          ]
        },
        {
          "name": "stderr",
          "output_type": "stream",
          "text": [
            "     84/100      2.29G     0.3574     0.3073     0.9817         32        640: 100%|██████████| 30/30 [00:07<00:00,  4.05it/s]\n",
            "                 Class     Images  Instances      Box(P          R      mAP50  mAP50-95): 100%|██████████| 4/4 [00:01<00:00,  2.43it/s]"
          ]
        },
        {
          "name": "stdout",
          "output_type": "stream",
          "text": [
            "                   all        120        146       0.95      0.945      0.965      0.892\n"
          ]
        },
        {
          "name": "stderr",
          "output_type": "stream",
          "text": [
            "\n"
          ]
        },
        {
          "name": "stdout",
          "output_type": "stream",
          "text": [
            "\n",
            "      Epoch    GPU_mem   box_loss   cls_loss   dfl_loss  Instances       Size\n"
          ]
        },
        {
          "name": "stderr",
          "output_type": "stream",
          "text": [
            "     85/100      2.31G     0.3637     0.3031     0.9823         34        640: 100%|██████████| 30/30 [00:12<00:00,  2.36it/s]\n",
            "                 Class     Images  Instances      Box(P          R      mAP50  mAP50-95): 100%|██████████| 4/4 [00:01<00:00,  3.48it/s]"
          ]
        },
        {
          "name": "stdout",
          "output_type": "stream",
          "text": [
            "                   all        120        146      0.936      0.945      0.968      0.899\n"
          ]
        },
        {
          "name": "stderr",
          "output_type": "stream",
          "text": [
            "\n"
          ]
        },
        {
          "name": "stdout",
          "output_type": "stream",
          "text": [
            "\n",
            "      Epoch    GPU_mem   box_loss   cls_loss   dfl_loss  Instances       Size\n"
          ]
        },
        {
          "name": "stderr",
          "output_type": "stream",
          "text": [
            "     86/100      2.29G     0.3729     0.3259     0.9926         30        640: 100%|██████████| 30/30 [00:07<00:00,  3.87it/s]\n",
            "                 Class     Images  Instances      Box(P          R      mAP50  mAP50-95): 100%|██████████| 4/4 [00:01<00:00,  2.23it/s]"
          ]
        },
        {
          "name": "stdout",
          "output_type": "stream",
          "text": [
            "                   all        120        146      0.914       0.94      0.966      0.899\n"
          ]
        },
        {
          "name": "stderr",
          "output_type": "stream",
          "text": [
            "\n"
          ]
        },
        {
          "name": "stdout",
          "output_type": "stream",
          "text": [
            "\n",
            "      Epoch    GPU_mem   box_loss   cls_loss   dfl_loss  Instances       Size\n"
          ]
        },
        {
          "name": "stderr",
          "output_type": "stream",
          "text": [
            "     87/100      2.29G     0.3605      0.313     0.9758         35        640: 100%|██████████| 30/30 [00:12<00:00,  2.38it/s]\n",
            "                 Class     Images  Instances      Box(P          R      mAP50  mAP50-95): 100%|██████████| 4/4 [00:01<00:00,  3.68it/s]"
          ]
        },
        {
          "name": "stdout",
          "output_type": "stream",
          "text": [
            "                   all        120        146      0.946      0.937      0.961      0.885\n"
          ]
        },
        {
          "name": "stderr",
          "output_type": "stream",
          "text": [
            "\n"
          ]
        },
        {
          "name": "stdout",
          "output_type": "stream",
          "text": [
            "\n",
            "      Epoch    GPU_mem   box_loss   cls_loss   dfl_loss  Instances       Size\n"
          ]
        },
        {
          "name": "stderr",
          "output_type": "stream",
          "text": [
            "     88/100      2.29G     0.3673      0.318     0.9827         37        640: 100%|██████████| 30/30 [00:07<00:00,  4.07it/s]\n",
            "                 Class     Images  Instances      Box(P          R      mAP50  mAP50-95): 100%|██████████| 4/4 [00:02<00:00,  1.96it/s]"
          ]
        },
        {
          "name": "stdout",
          "output_type": "stream",
          "text": [
            "                   all        120        146      0.956      0.921      0.961      0.881\n"
          ]
        },
        {
          "name": "stderr",
          "output_type": "stream",
          "text": [
            "\n"
          ]
        },
        {
          "name": "stdout",
          "output_type": "stream",
          "text": [
            "\n",
            "      Epoch    GPU_mem   box_loss   cls_loss   dfl_loss  Instances       Size\n"
          ]
        },
        {
          "name": "stderr",
          "output_type": "stream",
          "text": [
            "     89/100      2.29G     0.3747     0.3211     0.9882         38        640: 100%|██████████| 30/30 [00:12<00:00,  2.45it/s]\n",
            "                 Class     Images  Instances      Box(P          R      mAP50  mAP50-95): 100%|██████████| 4/4 [00:01<00:00,  3.46it/s]"
          ]
        },
        {
          "name": "stdout",
          "output_type": "stream",
          "text": [
            "                   all        120        146      0.947      0.929      0.965      0.891\n"
          ]
        },
        {
          "name": "stderr",
          "output_type": "stream",
          "text": [
            "\n"
          ]
        },
        {
          "name": "stdout",
          "output_type": "stream",
          "text": [
            "\n",
            "      Epoch    GPU_mem   box_loss   cls_loss   dfl_loss  Instances       Size\n"
          ]
        },
        {
          "name": "stderr",
          "output_type": "stream",
          "text": [
            "     90/100      2.29G     0.3594     0.2938     0.9727         40        640: 100%|██████████| 30/30 [00:07<00:00,  4.15it/s]\n",
            "                 Class     Images  Instances      Box(P          R      mAP50  mAP50-95): 100%|██████████| 4/4 [00:01<00:00,  2.51it/s]"
          ]
        },
        {
          "name": "stdout",
          "output_type": "stream",
          "text": [
            "                   all        120        146       0.93      0.941      0.965      0.895\n"
          ]
        },
        {
          "name": "stderr",
          "output_type": "stream",
          "text": [
            "\n"
          ]
        },
        {
          "name": "stdout",
          "output_type": "stream",
          "text": [
            "Closing dataloader mosaic\n",
            "\u001b[34m\u001b[1malbumentations: \u001b[0mBlur(p=0.01, blur_limit=(3, 7)), MedianBlur(p=0.01, blur_limit=(3, 7)), ToGray(p=0.01), CLAHE(p=0.01, clip_limit=(1, 4.0), tile_grid_size=(8, 8))\n"
          ]
        },
        {
          "name": "stderr",
          "output_type": "stream",
          "text": [
            "/usr/lib/python3.10/multiprocessing/popen_fork.py:66: RuntimeWarning: os.fork() was called. os.fork() is incompatible with multithreaded code, and JAX is multithreaded, so this will likely lead to a deadlock.\n",
            "  self.pid = os.fork()\n",
            "/usr/lib/python3.10/multiprocessing/popen_fork.py:66: RuntimeWarning: os.fork() was called. os.fork() is incompatible with multithreaded code, and JAX is multithreaded, so this will likely lead to a deadlock.\n",
            "  self.pid = os.fork()\n"
          ]
        },
        {
          "name": "stdout",
          "output_type": "stream",
          "text": [
            "\n",
            "      Epoch    GPU_mem   box_loss   cls_loss   dfl_loss  Instances       Size\n"
          ]
        },
        {
          "name": "stderr",
          "output_type": "stream",
          "text": [
            "     91/100      2.43G     0.2697     0.2629     0.9117         14        640: 100%|██████████| 30/30 [00:13<00:00,  2.19it/s]\n",
            "                 Class     Images  Instances      Box(P          R      mAP50  mAP50-95): 100%|██████████| 4/4 [00:01<00:00,  3.58it/s]"
          ]
        },
        {
          "name": "stdout",
          "output_type": "stream",
          "text": [
            "                   all        120        146      0.932      0.944      0.973      0.905\n"
          ]
        },
        {
          "name": "stderr",
          "output_type": "stream",
          "text": [
            "\n"
          ]
        },
        {
          "name": "stdout",
          "output_type": "stream",
          "text": [
            "\n",
            "      Epoch    GPU_mem   box_loss   cls_loss   dfl_loss  Instances       Size\n"
          ]
        },
        {
          "name": "stderr",
          "output_type": "stream",
          "text": [
            "     92/100      2.29G     0.2555     0.2445     0.9046         13        640: 100%|██████████| 30/30 [00:07<00:00,  3.90it/s]\n",
            "                 Class     Images  Instances      Box(P          R      mAP50  mAP50-95): 100%|██████████| 4/4 [00:01<00:00,  2.21it/s]"
          ]
        },
        {
          "name": "stdout",
          "output_type": "stream",
          "text": [
            "                   all        120        146      0.935      0.926      0.969      0.897\n"
          ]
        },
        {
          "name": "stderr",
          "output_type": "stream",
          "text": [
            "\n"
          ]
        },
        {
          "name": "stdout",
          "output_type": "stream",
          "text": [
            "\n",
            "      Epoch    GPU_mem   box_loss   cls_loss   dfl_loss  Instances       Size\n"
          ]
        },
        {
          "name": "stderr",
          "output_type": "stream",
          "text": [
            "     93/100      2.29G     0.2556     0.2212     0.9029         13        640: 100%|██████████| 30/30 [00:10<00:00,  2.80it/s]\n",
            "                 Class     Images  Instances      Box(P          R      mAP50  mAP50-95): 100%|██████████| 4/4 [00:01<00:00,  3.79it/s]"
          ]
        },
        {
          "name": "stdout",
          "output_type": "stream",
          "text": [
            "                   all        120        146      0.936      0.934      0.968      0.899\n"
          ]
        },
        {
          "name": "stderr",
          "output_type": "stream",
          "text": [
            "\n"
          ]
        },
        {
          "name": "stdout",
          "output_type": "stream",
          "text": [
            "\n",
            "      Epoch    GPU_mem   box_loss   cls_loss   dfl_loss  Instances       Size\n"
          ]
        },
        {
          "name": "stderr",
          "output_type": "stream",
          "text": [
            "     94/100      2.29G     0.2515     0.2149      0.904         13        640: 100%|██████████| 30/30 [00:06<00:00,  4.29it/s]\n",
            "                 Class     Images  Instances      Box(P          R      mAP50  mAP50-95): 100%|██████████| 4/4 [00:01<00:00,  2.23it/s]"
          ]
        },
        {
          "name": "stdout",
          "output_type": "stream",
          "text": [
            "                   all        120        146      0.931       0.93      0.966      0.895\n"
          ]
        },
        {
          "name": "stderr",
          "output_type": "stream",
          "text": [
            "\n"
          ]
        },
        {
          "name": "stdout",
          "output_type": "stream",
          "text": [
            "\n",
            "      Epoch    GPU_mem   box_loss   cls_loss   dfl_loss  Instances       Size\n"
          ]
        },
        {
          "name": "stderr",
          "output_type": "stream",
          "text": [
            "     95/100      2.29G     0.2379      0.217     0.8921         15        640: 100%|██████████| 30/30 [00:12<00:00,  2.48it/s]\n",
            "                 Class     Images  Instances      Box(P          R      mAP50  mAP50-95): 100%|██████████| 4/4 [00:01<00:00,  3.37it/s]"
          ]
        },
        {
          "name": "stdout",
          "output_type": "stream",
          "text": [
            "                   all        120        146      0.939      0.914      0.966        0.9\n"
          ]
        },
        {
          "name": "stderr",
          "output_type": "stream",
          "text": [
            "\n"
          ]
        },
        {
          "name": "stdout",
          "output_type": "stream",
          "text": [
            "\n",
            "      Epoch    GPU_mem   box_loss   cls_loss   dfl_loss  Instances       Size\n"
          ]
        },
        {
          "name": "stderr",
          "output_type": "stream",
          "text": [
            "     96/100      2.29G     0.2455     0.2077     0.8981         13        640: 100%|██████████| 30/30 [00:06<00:00,  4.35it/s]\n",
            "                 Class     Images  Instances      Box(P          R      mAP50  mAP50-95): 100%|██████████| 4/4 [00:01<00:00,  2.70it/s]"
          ]
        },
        {
          "name": "stdout",
          "output_type": "stream",
          "text": [
            "                   all        120        146      0.914      0.944      0.968      0.905\n"
          ]
        },
        {
          "name": "stderr",
          "output_type": "stream",
          "text": [
            "\n"
          ]
        },
        {
          "name": "stdout",
          "output_type": "stream",
          "text": [
            "\n",
            "      Epoch    GPU_mem   box_loss   cls_loss   dfl_loss  Instances       Size\n"
          ]
        },
        {
          "name": "stderr",
          "output_type": "stream",
          "text": [
            "     97/100      2.29G     0.2381     0.1961     0.8851         13        640: 100%|██████████| 30/30 [00:12<00:00,  2.44it/s]\n",
            "                 Class     Images  Instances      Box(P          R      mAP50  mAP50-95): 100%|██████████| 4/4 [00:01<00:00,  2.31it/s]"
          ]
        },
        {
          "name": "stdout",
          "output_type": "stream",
          "text": [
            "                   all        120        146      0.935      0.928      0.965      0.903\n"
          ]
        },
        {
          "name": "stderr",
          "output_type": "stream",
          "text": [
            "\n"
          ]
        },
        {
          "name": "stdout",
          "output_type": "stream",
          "text": [
            "\n",
            "      Epoch    GPU_mem   box_loss   cls_loss   dfl_loss  Instances       Size\n"
          ]
        },
        {
          "name": "stderr",
          "output_type": "stream",
          "text": [
            "     98/100      2.29G     0.2391     0.2151     0.8931         16        640: 100%|██████████| 30/30 [00:07<00:00,  4.28it/s]\n",
            "                 Class     Images  Instances      Box(P          R      mAP50  mAP50-95): 100%|██████████| 4/4 [00:01<00:00,  3.84it/s]"
          ]
        },
        {
          "name": "stdout",
          "output_type": "stream",
          "text": [
            "                   all        120        146      0.913      0.943      0.965      0.907\n"
          ]
        },
        {
          "name": "stderr",
          "output_type": "stream",
          "text": [
            "\n"
          ]
        },
        {
          "name": "stdout",
          "output_type": "stream",
          "text": [
            "\n",
            "      Epoch    GPU_mem   box_loss   cls_loss   dfl_loss  Instances       Size\n"
          ]
        },
        {
          "name": "stderr",
          "output_type": "stream",
          "text": [
            "     99/100      2.29G     0.2376     0.1934     0.8739         15        640: 100%|██████████| 30/30 [00:11<00:00,  2.65it/s]\n",
            "                 Class     Images  Instances      Box(P          R      mAP50  mAP50-95): 100%|██████████| 4/4 [00:01<00:00,  2.08it/s]"
          ]
        },
        {
          "name": "stdout",
          "output_type": "stream",
          "text": [
            "                   all        120        146      0.921      0.923      0.961      0.898\n"
          ]
        },
        {
          "name": "stderr",
          "output_type": "stream",
          "text": [
            "\n"
          ]
        },
        {
          "name": "stdout",
          "output_type": "stream",
          "text": [
            "\n",
            "      Epoch    GPU_mem   box_loss   cls_loss   dfl_loss  Instances       Size\n"
          ]
        },
        {
          "name": "stderr",
          "output_type": "stream",
          "text": [
            "    100/100      2.29G     0.2298     0.1968     0.8958         13        640: 100%|██████████| 30/30 [00:06<00:00,  4.41it/s]\n",
            "                 Class     Images  Instances      Box(P          R      mAP50  mAP50-95): 100%|██████████| 4/4 [00:01<00:00,  3.79it/s]"
          ]
        },
        {
          "name": "stdout",
          "output_type": "stream",
          "text": [
            "                   all        120        146      0.939      0.919      0.966      0.903\n"
          ]
        },
        {
          "name": "stderr",
          "output_type": "stream",
          "text": [
            "\n"
          ]
        },
        {
          "name": "stdout",
          "output_type": "stream",
          "text": [
            "\n",
            "100 epochs completed in 0.344 hours.\n",
            "Optimizer stripped from runs/detect/train8/weights/last.pt, 6.3MB\n",
            "Optimizer stripped from runs/detect/train8/weights/best.pt, 6.3MB\n",
            "\n",
            "Validating runs/detect/train8/weights/best.pt...\n",
            "Ultralytics YOLOv8.2.68 🚀 Python-3.10.12 torch-2.3.1+cu121 CUDA:0 (Tesla T4, 15102MiB)\n",
            "Model summary (fused): 168 layers, 3,006,428 parameters, 0 gradients, 8.1 GFLOPs\n"
          ]
        },
        {
          "name": "stderr",
          "output_type": "stream",
          "text": [
            "                 Class     Images  Instances      Box(P          R      mAP50  mAP50-95): 100%|██████████| 4/4 [00:03<00:00,  1.24it/s]\n"
          ]
        },
        {
          "name": "stdout",
          "output_type": "stream",
          "text": [
            "                   all        120        146      0.913      0.944      0.965      0.901\n",
            "           Blue_Shirts         30         32      0.821      0.969      0.977      0.925\n",
            "          White_Shirts         30         32          1      0.992      0.995      0.941\n",
            "            Grey_Shirt         30         40      0.944      0.837      0.928      0.872\n",
            "           Black_Shirt         30         42      0.886      0.976       0.96      0.868\n",
            "Speed: 0.2ms preprocess, 2.5ms inference, 0.0ms loss, 7.2ms postprocess per image\n",
            "Results saved to \u001b[1mruns/detect/train8\u001b[0m\n"
          ]
        },
        {
          "data": {
            "text/plain": [
              "ultralytics.utils.metrics.DetMetrics object with attributes:\n",
              "\n",
              "ap_class_index: array([0, 1, 2, 3])\n",
              "box: ultralytics.utils.metrics.Metric object\n",
              "confusion_matrix: <ultralytics.utils.metrics.ConfusionMatrix object at 0x7d7d110b2d40>\n",
              "curves: ['Precision-Recall(B)', 'F1-Confidence(B)', 'Precision-Confidence(B)', 'Recall-Confidence(B)']\n",
              "curves_results: [[array([          0,    0.001001,    0.002002,    0.003003,    0.004004,    0.005005,    0.006006,    0.007007,    0.008008,    0.009009,     0.01001,    0.011011,    0.012012,    0.013013,    0.014014,    0.015015,    0.016016,    0.017017,    0.018018,    0.019019,     0.02002,    0.021021,    0.022022,    0.023023,\n",
              "          0.024024,    0.025025,    0.026026,    0.027027,    0.028028,    0.029029,     0.03003,    0.031031,    0.032032,    0.033033,    0.034034,    0.035035,    0.036036,    0.037037,    0.038038,    0.039039,     0.04004,    0.041041,    0.042042,    0.043043,    0.044044,    0.045045,    0.046046,    0.047047,\n",
              "          0.048048,    0.049049,     0.05005,    0.051051,    0.052052,    0.053053,    0.054054,    0.055055,    0.056056,    0.057057,    0.058058,    0.059059,     0.06006,    0.061061,    0.062062,    0.063063,    0.064064,    0.065065,    0.066066,    0.067067,    0.068068,    0.069069,     0.07007,    0.071071,\n",
              "          0.072072,    0.073073,    0.074074,    0.075075,    0.076076,    0.077077,    0.078078,    0.079079,     0.08008,    0.081081,    0.082082,    0.083083,    0.084084,    0.085085,    0.086086,    0.087087,    0.088088,    0.089089,     0.09009,    0.091091,    0.092092,    0.093093,    0.094094,    0.095095,\n",
              "          0.096096,    0.097097,    0.098098,    0.099099,      0.1001,      0.1011,      0.1021,      0.1031,      0.1041,     0.10511,     0.10611,     0.10711,     0.10811,     0.10911,     0.11011,     0.11111,     0.11211,     0.11311,     0.11411,     0.11512,     0.11612,     0.11712,     0.11812,     0.11912,\n",
              "           0.12012,     0.12112,     0.12212,     0.12312,     0.12412,     0.12513,     0.12613,     0.12713,     0.12813,     0.12913,     0.13013,     0.13113,     0.13213,     0.13313,     0.13413,     0.13514,     0.13614,     0.13714,     0.13814,     0.13914,     0.14014,     0.14114,     0.14214,     0.14314,\n",
              "           0.14414,     0.14515,     0.14615,     0.14715,     0.14815,     0.14915,     0.15015,     0.15115,     0.15215,     0.15315,     0.15415,     0.15516,     0.15616,     0.15716,     0.15816,     0.15916,     0.16016,     0.16116,     0.16216,     0.16316,     0.16416,     0.16517,     0.16617,     0.16717,\n",
              "           0.16817,     0.16917,     0.17017,     0.17117,     0.17217,     0.17317,     0.17417,     0.17518,     0.17618,     0.17718,     0.17818,     0.17918,     0.18018,     0.18118,     0.18218,     0.18318,     0.18418,     0.18519,     0.18619,     0.18719,     0.18819,     0.18919,     0.19019,     0.19119,\n",
              "           0.19219,     0.19319,     0.19419,      0.1952,      0.1962,      0.1972,      0.1982,      0.1992,      0.2002,      0.2012,      0.2022,      0.2032,      0.2042,     0.20521,     0.20621,     0.20721,     0.20821,     0.20921,     0.21021,     0.21121,     0.21221,     0.21321,     0.21421,     0.21522,\n",
              "           0.21622,     0.21722,     0.21822,     0.21922,     0.22022,     0.22122,     0.22222,     0.22322,     0.22422,     0.22523,     0.22623,     0.22723,     0.22823,     0.22923,     0.23023,     0.23123,     0.23223,     0.23323,     0.23423,     0.23524,     0.23624,     0.23724,     0.23824,     0.23924,\n",
              "           0.24024,     0.24124,     0.24224,     0.24324,     0.24424,     0.24525,     0.24625,     0.24725,     0.24825,     0.24925,     0.25025,     0.25125,     0.25225,     0.25325,     0.25425,     0.25526,     0.25626,     0.25726,     0.25826,     0.25926,     0.26026,     0.26126,     0.26226,     0.26326,\n",
              "           0.26426,     0.26527,     0.26627,     0.26727,     0.26827,     0.26927,     0.27027,     0.27127,     0.27227,     0.27327,     0.27427,     0.27528,     0.27628,     0.27728,     0.27828,     0.27928,     0.28028,     0.28128,     0.28228,     0.28328,     0.28428,     0.28529,     0.28629,     0.28729,\n",
              "           0.28829,     0.28929,     0.29029,     0.29129,     0.29229,     0.29329,     0.29429,      0.2953,      0.2963,      0.2973,      0.2983,      0.2993,      0.3003,      0.3013,      0.3023,      0.3033,      0.3043,     0.30531,     0.30631,     0.30731,     0.30831,     0.30931,     0.31031,     0.31131,\n",
              "           0.31231,     0.31331,     0.31431,     0.31532,     0.31632,     0.31732,     0.31832,     0.31932,     0.32032,     0.32132,     0.32232,     0.32332,     0.32432,     0.32533,     0.32633,     0.32733,     0.32833,     0.32933,     0.33033,     0.33133,     0.33233,     0.33333,     0.33433,     0.33534,\n",
              "           0.33634,     0.33734,     0.33834,     0.33934,     0.34034,     0.34134,     0.34234,     0.34334,     0.34434,     0.34535,     0.34635,     0.34735,     0.34835,     0.34935,     0.35035,     0.35135,     0.35235,     0.35335,     0.35435,     0.35536,     0.35636,     0.35736,     0.35836,     0.35936,\n",
              "           0.36036,     0.36136,     0.36236,     0.36336,     0.36436,     0.36537,     0.36637,     0.36737,     0.36837,     0.36937,     0.37037,     0.37137,     0.37237,     0.37337,     0.37437,     0.37538,     0.37638,     0.37738,     0.37838,     0.37938,     0.38038,     0.38138,     0.38238,     0.38338,\n",
              "           0.38438,     0.38539,     0.38639,     0.38739,     0.38839,     0.38939,     0.39039,     0.39139,     0.39239,     0.39339,     0.39439,      0.3954,      0.3964,      0.3974,      0.3984,      0.3994,      0.4004,      0.4014,      0.4024,      0.4034,      0.4044,     0.40541,     0.40641,     0.40741,\n",
              "           0.40841,     0.40941,     0.41041,     0.41141,     0.41241,     0.41341,     0.41441,     0.41542,     0.41642,     0.41742,     0.41842,     0.41942,     0.42042,     0.42142,     0.42242,     0.42342,     0.42442,     0.42543,     0.42643,     0.42743,     0.42843,     0.42943,     0.43043,     0.43143,\n",
              "           0.43243,     0.43343,     0.43443,     0.43544,     0.43644,     0.43744,     0.43844,     0.43944,     0.44044,     0.44144,     0.44244,     0.44344,     0.44444,     0.44545,     0.44645,     0.44745,     0.44845,     0.44945,     0.45045,     0.45145,     0.45245,     0.45345,     0.45445,     0.45546,\n",
              "           0.45646,     0.45746,     0.45846,     0.45946,     0.46046,     0.46146,     0.46246,     0.46346,     0.46446,     0.46547,     0.46647,     0.46747,     0.46847,     0.46947,     0.47047,     0.47147,     0.47247,     0.47347,     0.47447,     0.47548,     0.47648,     0.47748,     0.47848,     0.47948,\n",
              "           0.48048,     0.48148,     0.48248,     0.48348,     0.48448,     0.48549,     0.48649,     0.48749,     0.48849,     0.48949,     0.49049,     0.49149,     0.49249,     0.49349,     0.49449,      0.4955,      0.4965,      0.4975,      0.4985,      0.4995,      0.5005,      0.5015,      0.5025,      0.5035,\n",
              "            0.5045,     0.50551,     0.50651,     0.50751,     0.50851,     0.50951,     0.51051,     0.51151,     0.51251,     0.51351,     0.51451,     0.51552,     0.51652,     0.51752,     0.51852,     0.51952,     0.52052,     0.52152,     0.52252,     0.52352,     0.52452,     0.52553,     0.52653,     0.52753,\n",
              "           0.52853,     0.52953,     0.53053,     0.53153,     0.53253,     0.53353,     0.53453,     0.53554,     0.53654,     0.53754,     0.53854,     0.53954,     0.54054,     0.54154,     0.54254,     0.54354,     0.54454,     0.54555,     0.54655,     0.54755,     0.54855,     0.54955,     0.55055,     0.55155,\n",
              "           0.55255,     0.55355,     0.55455,     0.55556,     0.55656,     0.55756,     0.55856,     0.55956,     0.56056,     0.56156,     0.56256,     0.56356,     0.56456,     0.56557,     0.56657,     0.56757,     0.56857,     0.56957,     0.57057,     0.57157,     0.57257,     0.57357,     0.57457,     0.57558,\n",
              "           0.57658,     0.57758,     0.57858,     0.57958,     0.58058,     0.58158,     0.58258,     0.58358,     0.58458,     0.58559,     0.58659,     0.58759,     0.58859,     0.58959,     0.59059,     0.59159,     0.59259,     0.59359,     0.59459,      0.5956,      0.5966,      0.5976,      0.5986,      0.5996,\n",
              "            0.6006,      0.6016,      0.6026,      0.6036,      0.6046,     0.60561,     0.60661,     0.60761,     0.60861,     0.60961,     0.61061,     0.61161,     0.61261,     0.61361,     0.61461,     0.61562,     0.61662,     0.61762,     0.61862,     0.61962,     0.62062,     0.62162,     0.62262,     0.62362,\n",
              "           0.62462,     0.62563,     0.62663,     0.62763,     0.62863,     0.62963,     0.63063,     0.63163,     0.63263,     0.63363,     0.63463,     0.63564,     0.63664,     0.63764,     0.63864,     0.63964,     0.64064,     0.64164,     0.64264,     0.64364,     0.64464,     0.64565,     0.64665,     0.64765,\n",
              "           0.64865,     0.64965,     0.65065,     0.65165,     0.65265,     0.65365,     0.65465,     0.65566,     0.65666,     0.65766,     0.65866,     0.65966,     0.66066,     0.66166,     0.66266,     0.66366,     0.66466,     0.66567,     0.66667,     0.66767,     0.66867,     0.66967,     0.67067,     0.67167,\n",
              "           0.67267,     0.67367,     0.67467,     0.67568,     0.67668,     0.67768,     0.67868,     0.67968,     0.68068,     0.68168,     0.68268,     0.68368,     0.68468,     0.68569,     0.68669,     0.68769,     0.68869,     0.68969,     0.69069,     0.69169,     0.69269,     0.69369,     0.69469,      0.6957,\n",
              "            0.6967,      0.6977,      0.6987,      0.6997,      0.7007,      0.7017,      0.7027,      0.7037,      0.7047,     0.70571,     0.70671,     0.70771,     0.70871,     0.70971,     0.71071,     0.71171,     0.71271,     0.71371,     0.71471,     0.71572,     0.71672,     0.71772,     0.71872,     0.71972,\n",
              "           0.72072,     0.72172,     0.72272,     0.72372,     0.72472,     0.72573,     0.72673,     0.72773,     0.72873,     0.72973,     0.73073,     0.73173,     0.73273,     0.73373,     0.73473,     0.73574,     0.73674,     0.73774,     0.73874,     0.73974,     0.74074,     0.74174,     0.74274,     0.74374,\n",
              "           0.74474,     0.74575,     0.74675,     0.74775,     0.74875,     0.74975,     0.75075,     0.75175,     0.75275,     0.75375,     0.75475,     0.75576,     0.75676,     0.75776,     0.75876,     0.75976,     0.76076,     0.76176,     0.76276,     0.76376,     0.76476,     0.76577,     0.76677,     0.76777,\n",
              "           0.76877,     0.76977,     0.77077,     0.77177,     0.77277,     0.77377,     0.77477,     0.77578,     0.77678,     0.77778,     0.77878,     0.77978,     0.78078,     0.78178,     0.78278,     0.78378,     0.78478,     0.78579,     0.78679,     0.78779,     0.78879,     0.78979,     0.79079,     0.79179,\n",
              "           0.79279,     0.79379,     0.79479,      0.7958,      0.7968,      0.7978,      0.7988,      0.7998,      0.8008,      0.8018,      0.8028,      0.8038,      0.8048,     0.80581,     0.80681,     0.80781,     0.80881,     0.80981,     0.81081,     0.81181,     0.81281,     0.81381,     0.81481,     0.81582,\n",
              "           0.81682,     0.81782,     0.81882,     0.81982,     0.82082,     0.82182,     0.82282,     0.82382,     0.82482,     0.82583,     0.82683,     0.82783,     0.82883,     0.82983,     0.83083,     0.83183,     0.83283,     0.83383,     0.83483,     0.83584,     0.83684,     0.83784,     0.83884,     0.83984,\n",
              "           0.84084,     0.84184,     0.84284,     0.84384,     0.84484,     0.84585,     0.84685,     0.84785,     0.84885,     0.84985,     0.85085,     0.85185,     0.85285,     0.85385,     0.85485,     0.85586,     0.85686,     0.85786,     0.85886,     0.85986,     0.86086,     0.86186,     0.86286,     0.86386,\n",
              "           0.86486,     0.86587,     0.86687,     0.86787,     0.86887,     0.86987,     0.87087,     0.87187,     0.87287,     0.87387,     0.87487,     0.87588,     0.87688,     0.87788,     0.87888,     0.87988,     0.88088,     0.88188,     0.88288,     0.88388,     0.88488,     0.88589,     0.88689,     0.88789,\n",
              "           0.88889,     0.88989,     0.89089,     0.89189,     0.89289,     0.89389,     0.89489,      0.8959,      0.8969,      0.8979,      0.8989,      0.8999,      0.9009,      0.9019,      0.9029,      0.9039,      0.9049,     0.90591,     0.90691,     0.90791,     0.90891,     0.90991,     0.91091,     0.91191,\n",
              "           0.91291,     0.91391,     0.91491,     0.91592,     0.91692,     0.91792,     0.91892,     0.91992,     0.92092,     0.92192,     0.92292,     0.92392,     0.92492,     0.92593,     0.92693,     0.92793,     0.92893,     0.92993,     0.93093,     0.93193,     0.93293,     0.93393,     0.93493,     0.93594,\n",
              "           0.93694,     0.93794,     0.93894,     0.93994,     0.94094,     0.94194,     0.94294,     0.94394,     0.94494,     0.94595,     0.94695,     0.94795,     0.94895,     0.94995,     0.95095,     0.95195,     0.95295,     0.95395,     0.95495,     0.95596,     0.95696,     0.95796,     0.95896,     0.95996,\n",
              "           0.96096,     0.96196,     0.96296,     0.96396,     0.96496,     0.96597,     0.96697,     0.96797,     0.96897,     0.96997,     0.97097,     0.97197,     0.97297,     0.97397,     0.97497,     0.97598,     0.97698,     0.97798,     0.97898,     0.97998,     0.98098,     0.98198,     0.98298,     0.98398,\n",
              "           0.98498,     0.98599,     0.98699,     0.98799,     0.98899,     0.98999,     0.99099,     0.99199,     0.99299,     0.99399,     0.99499,       0.996,       0.997,       0.998,       0.999,           1]), array([[          1,           1,           1, ...,     0.45714,     0.45714,           0],\n",
              "       [          1,           1,           1, ...,           1,           1,           0],\n",
              "       [          1,           1,           1, ...,    0.026026,    0.013013,           0],\n",
              "       [          1,           1,           1, ...,     0.45161,     0.45161,           0]]), 'Recall', 'Precision'], [array([          0,    0.001001,    0.002002,    0.003003,    0.004004,    0.005005,    0.006006,    0.007007,    0.008008,    0.009009,     0.01001,    0.011011,    0.012012,    0.013013,    0.014014,    0.015015,    0.016016,    0.017017,    0.018018,    0.019019,     0.02002,    0.021021,    0.022022,    0.023023,\n",
              "          0.024024,    0.025025,    0.026026,    0.027027,    0.028028,    0.029029,     0.03003,    0.031031,    0.032032,    0.033033,    0.034034,    0.035035,    0.036036,    0.037037,    0.038038,    0.039039,     0.04004,    0.041041,    0.042042,    0.043043,    0.044044,    0.045045,    0.046046,    0.047047,\n",
              "          0.048048,    0.049049,     0.05005,    0.051051,    0.052052,    0.053053,    0.054054,    0.055055,    0.056056,    0.057057,    0.058058,    0.059059,     0.06006,    0.061061,    0.062062,    0.063063,    0.064064,    0.065065,    0.066066,    0.067067,    0.068068,    0.069069,     0.07007,    0.071071,\n",
              "          0.072072,    0.073073,    0.074074,    0.075075,    0.076076,    0.077077,    0.078078,    0.079079,     0.08008,    0.081081,    0.082082,    0.083083,    0.084084,    0.085085,    0.086086,    0.087087,    0.088088,    0.089089,     0.09009,    0.091091,    0.092092,    0.093093,    0.094094,    0.095095,\n",
              "          0.096096,    0.097097,    0.098098,    0.099099,      0.1001,      0.1011,      0.1021,      0.1031,      0.1041,     0.10511,     0.10611,     0.10711,     0.10811,     0.10911,     0.11011,     0.11111,     0.11211,     0.11311,     0.11411,     0.11512,     0.11612,     0.11712,     0.11812,     0.11912,\n",
              "           0.12012,     0.12112,     0.12212,     0.12312,     0.12412,     0.12513,     0.12613,     0.12713,     0.12813,     0.12913,     0.13013,     0.13113,     0.13213,     0.13313,     0.13413,     0.13514,     0.13614,     0.13714,     0.13814,     0.13914,     0.14014,     0.14114,     0.14214,     0.14314,\n",
              "           0.14414,     0.14515,     0.14615,     0.14715,     0.14815,     0.14915,     0.15015,     0.15115,     0.15215,     0.15315,     0.15415,     0.15516,     0.15616,     0.15716,     0.15816,     0.15916,     0.16016,     0.16116,     0.16216,     0.16316,     0.16416,     0.16517,     0.16617,     0.16717,\n",
              "           0.16817,     0.16917,     0.17017,     0.17117,     0.17217,     0.17317,     0.17417,     0.17518,     0.17618,     0.17718,     0.17818,     0.17918,     0.18018,     0.18118,     0.18218,     0.18318,     0.18418,     0.18519,     0.18619,     0.18719,     0.18819,     0.18919,     0.19019,     0.19119,\n",
              "           0.19219,     0.19319,     0.19419,      0.1952,      0.1962,      0.1972,      0.1982,      0.1992,      0.2002,      0.2012,      0.2022,      0.2032,      0.2042,     0.20521,     0.20621,     0.20721,     0.20821,     0.20921,     0.21021,     0.21121,     0.21221,     0.21321,     0.21421,     0.21522,\n",
              "           0.21622,     0.21722,     0.21822,     0.21922,     0.22022,     0.22122,     0.22222,     0.22322,     0.22422,     0.22523,     0.22623,     0.22723,     0.22823,     0.22923,     0.23023,     0.23123,     0.23223,     0.23323,     0.23423,     0.23524,     0.23624,     0.23724,     0.23824,     0.23924,\n",
              "           0.24024,     0.24124,     0.24224,     0.24324,     0.24424,     0.24525,     0.24625,     0.24725,     0.24825,     0.24925,     0.25025,     0.25125,     0.25225,     0.25325,     0.25425,     0.25526,     0.25626,     0.25726,     0.25826,     0.25926,     0.26026,     0.26126,     0.26226,     0.26326,\n",
              "           0.26426,     0.26527,     0.26627,     0.26727,     0.26827,     0.26927,     0.27027,     0.27127,     0.27227,     0.27327,     0.27427,     0.27528,     0.27628,     0.27728,     0.27828,     0.27928,     0.28028,     0.28128,     0.28228,     0.28328,     0.28428,     0.28529,     0.28629,     0.28729,\n",
              "           0.28829,     0.28929,     0.29029,     0.29129,     0.29229,     0.29329,     0.29429,      0.2953,      0.2963,      0.2973,      0.2983,      0.2993,      0.3003,      0.3013,      0.3023,      0.3033,      0.3043,     0.30531,     0.30631,     0.30731,     0.30831,     0.30931,     0.31031,     0.31131,\n",
              "           0.31231,     0.31331,     0.31431,     0.31532,     0.31632,     0.31732,     0.31832,     0.31932,     0.32032,     0.32132,     0.32232,     0.32332,     0.32432,     0.32533,     0.32633,     0.32733,     0.32833,     0.32933,     0.33033,     0.33133,     0.33233,     0.33333,     0.33433,     0.33534,\n",
              "           0.33634,     0.33734,     0.33834,     0.33934,     0.34034,     0.34134,     0.34234,     0.34334,     0.34434,     0.34535,     0.34635,     0.34735,     0.34835,     0.34935,     0.35035,     0.35135,     0.35235,     0.35335,     0.35435,     0.35536,     0.35636,     0.35736,     0.35836,     0.35936,\n",
              "           0.36036,     0.36136,     0.36236,     0.36336,     0.36436,     0.36537,     0.36637,     0.36737,     0.36837,     0.36937,     0.37037,     0.37137,     0.37237,     0.37337,     0.37437,     0.37538,     0.37638,     0.37738,     0.37838,     0.37938,     0.38038,     0.38138,     0.38238,     0.38338,\n",
              "           0.38438,     0.38539,     0.38639,     0.38739,     0.38839,     0.38939,     0.39039,     0.39139,     0.39239,     0.39339,     0.39439,      0.3954,      0.3964,      0.3974,      0.3984,      0.3994,      0.4004,      0.4014,      0.4024,      0.4034,      0.4044,     0.40541,     0.40641,     0.40741,\n",
              "           0.40841,     0.40941,     0.41041,     0.41141,     0.41241,     0.41341,     0.41441,     0.41542,     0.41642,     0.41742,     0.41842,     0.41942,     0.42042,     0.42142,     0.42242,     0.42342,     0.42442,     0.42543,     0.42643,     0.42743,     0.42843,     0.42943,     0.43043,     0.43143,\n",
              "           0.43243,     0.43343,     0.43443,     0.43544,     0.43644,     0.43744,     0.43844,     0.43944,     0.44044,     0.44144,     0.44244,     0.44344,     0.44444,     0.44545,     0.44645,     0.44745,     0.44845,     0.44945,     0.45045,     0.45145,     0.45245,     0.45345,     0.45445,     0.45546,\n",
              "           0.45646,     0.45746,     0.45846,     0.45946,     0.46046,     0.46146,     0.46246,     0.46346,     0.46446,     0.46547,     0.46647,     0.46747,     0.46847,     0.46947,     0.47047,     0.47147,     0.47247,     0.47347,     0.47447,     0.47548,     0.47648,     0.47748,     0.47848,     0.47948,\n",
              "           0.48048,     0.48148,     0.48248,     0.48348,     0.48448,     0.48549,     0.48649,     0.48749,     0.48849,     0.48949,     0.49049,     0.49149,     0.49249,     0.49349,     0.49449,      0.4955,      0.4965,      0.4975,      0.4985,      0.4995,      0.5005,      0.5015,      0.5025,      0.5035,\n",
              "            0.5045,     0.50551,     0.50651,     0.50751,     0.50851,     0.50951,     0.51051,     0.51151,     0.51251,     0.51351,     0.51451,     0.51552,     0.51652,     0.51752,     0.51852,     0.51952,     0.52052,     0.52152,     0.52252,     0.52352,     0.52452,     0.52553,     0.52653,     0.52753,\n",
              "           0.52853,     0.52953,     0.53053,     0.53153,     0.53253,     0.53353,     0.53453,     0.53554,     0.53654,     0.53754,     0.53854,     0.53954,     0.54054,     0.54154,     0.54254,     0.54354,     0.54454,     0.54555,     0.54655,     0.54755,     0.54855,     0.54955,     0.55055,     0.55155,\n",
              "           0.55255,     0.55355,     0.55455,     0.55556,     0.55656,     0.55756,     0.55856,     0.55956,     0.56056,     0.56156,     0.56256,     0.56356,     0.56456,     0.56557,     0.56657,     0.56757,     0.56857,     0.56957,     0.57057,     0.57157,     0.57257,     0.57357,     0.57457,     0.57558,\n",
              "           0.57658,     0.57758,     0.57858,     0.57958,     0.58058,     0.58158,     0.58258,     0.58358,     0.58458,     0.58559,     0.58659,     0.58759,     0.58859,     0.58959,     0.59059,     0.59159,     0.59259,     0.59359,     0.59459,      0.5956,      0.5966,      0.5976,      0.5986,      0.5996,\n",
              "            0.6006,      0.6016,      0.6026,      0.6036,      0.6046,     0.60561,     0.60661,     0.60761,     0.60861,     0.60961,     0.61061,     0.61161,     0.61261,     0.61361,     0.61461,     0.61562,     0.61662,     0.61762,     0.61862,     0.61962,     0.62062,     0.62162,     0.62262,     0.62362,\n",
              "           0.62462,     0.62563,     0.62663,     0.62763,     0.62863,     0.62963,     0.63063,     0.63163,     0.63263,     0.63363,     0.63463,     0.63564,     0.63664,     0.63764,     0.63864,     0.63964,     0.64064,     0.64164,     0.64264,     0.64364,     0.64464,     0.64565,     0.64665,     0.64765,\n",
              "           0.64865,     0.64965,     0.65065,     0.65165,     0.65265,     0.65365,     0.65465,     0.65566,     0.65666,     0.65766,     0.65866,     0.65966,     0.66066,     0.66166,     0.66266,     0.66366,     0.66466,     0.66567,     0.66667,     0.66767,     0.66867,     0.66967,     0.67067,     0.67167,\n",
              "           0.67267,     0.67367,     0.67467,     0.67568,     0.67668,     0.67768,     0.67868,     0.67968,     0.68068,     0.68168,     0.68268,     0.68368,     0.68468,     0.68569,     0.68669,     0.68769,     0.68869,     0.68969,     0.69069,     0.69169,     0.69269,     0.69369,     0.69469,      0.6957,\n",
              "            0.6967,      0.6977,      0.6987,      0.6997,      0.7007,      0.7017,      0.7027,      0.7037,      0.7047,     0.70571,     0.70671,     0.70771,     0.70871,     0.70971,     0.71071,     0.71171,     0.71271,     0.71371,     0.71471,     0.71572,     0.71672,     0.71772,     0.71872,     0.71972,\n",
              "           0.72072,     0.72172,     0.72272,     0.72372,     0.72472,     0.72573,     0.72673,     0.72773,     0.72873,     0.72973,     0.73073,     0.73173,     0.73273,     0.73373,     0.73473,     0.73574,     0.73674,     0.73774,     0.73874,     0.73974,     0.74074,     0.74174,     0.74274,     0.74374,\n",
              "           0.74474,     0.74575,     0.74675,     0.74775,     0.74875,     0.74975,     0.75075,     0.75175,     0.75275,     0.75375,     0.75475,     0.75576,     0.75676,     0.75776,     0.75876,     0.75976,     0.76076,     0.76176,     0.76276,     0.76376,     0.76476,     0.76577,     0.76677,     0.76777,\n",
              "           0.76877,     0.76977,     0.77077,     0.77177,     0.77277,     0.77377,     0.77477,     0.77578,     0.77678,     0.77778,     0.77878,     0.77978,     0.78078,     0.78178,     0.78278,     0.78378,     0.78478,     0.78579,     0.78679,     0.78779,     0.78879,     0.78979,     0.79079,     0.79179,\n",
              "           0.79279,     0.79379,     0.79479,      0.7958,      0.7968,      0.7978,      0.7988,      0.7998,      0.8008,      0.8018,      0.8028,      0.8038,      0.8048,     0.80581,     0.80681,     0.80781,     0.80881,     0.80981,     0.81081,     0.81181,     0.81281,     0.81381,     0.81481,     0.81582,\n",
              "           0.81682,     0.81782,     0.81882,     0.81982,     0.82082,     0.82182,     0.82282,     0.82382,     0.82482,     0.82583,     0.82683,     0.82783,     0.82883,     0.82983,     0.83083,     0.83183,     0.83283,     0.83383,     0.83483,     0.83584,     0.83684,     0.83784,     0.83884,     0.83984,\n",
              "           0.84084,     0.84184,     0.84284,     0.84384,     0.84484,     0.84585,     0.84685,     0.84785,     0.84885,     0.84985,     0.85085,     0.85185,     0.85285,     0.85385,     0.85485,     0.85586,     0.85686,     0.85786,     0.85886,     0.85986,     0.86086,     0.86186,     0.86286,     0.86386,\n",
              "           0.86486,     0.86587,     0.86687,     0.86787,     0.86887,     0.86987,     0.87087,     0.87187,     0.87287,     0.87387,     0.87487,     0.87588,     0.87688,     0.87788,     0.87888,     0.87988,     0.88088,     0.88188,     0.88288,     0.88388,     0.88488,     0.88589,     0.88689,     0.88789,\n",
              "           0.88889,     0.88989,     0.89089,     0.89189,     0.89289,     0.89389,     0.89489,      0.8959,      0.8969,      0.8979,      0.8989,      0.8999,      0.9009,      0.9019,      0.9029,      0.9039,      0.9049,     0.90591,     0.90691,     0.90791,     0.90891,     0.90991,     0.91091,     0.91191,\n",
              "           0.91291,     0.91391,     0.91491,     0.91592,     0.91692,     0.91792,     0.91892,     0.91992,     0.92092,     0.92192,     0.92292,     0.92392,     0.92492,     0.92593,     0.92693,     0.92793,     0.92893,     0.92993,     0.93093,     0.93193,     0.93293,     0.93393,     0.93493,     0.93594,\n",
              "           0.93694,     0.93794,     0.93894,     0.93994,     0.94094,     0.94194,     0.94294,     0.94394,     0.94494,     0.94595,     0.94695,     0.94795,     0.94895,     0.94995,     0.95095,     0.95195,     0.95295,     0.95395,     0.95495,     0.95596,     0.95696,     0.95796,     0.95896,     0.95996,\n",
              "           0.96096,     0.96196,     0.96296,     0.96396,     0.96496,     0.96597,     0.96697,     0.96797,     0.96897,     0.96997,     0.97097,     0.97197,     0.97297,     0.97397,     0.97497,     0.97598,     0.97698,     0.97798,     0.97898,     0.97998,     0.98098,     0.98198,     0.98298,     0.98398,\n",
              "           0.98498,     0.98599,     0.98699,     0.98799,     0.98899,     0.98999,     0.99099,     0.99199,     0.99299,     0.99399,     0.99499,       0.996,       0.997,       0.998,       0.999,           1]), array([[    0.35359,     0.35359,     0.47224, ...,           0,           0,           0],\n",
              "       [    0.47059,     0.47059,     0.68166, ...,           0,           0,           0],\n",
              "       [     0.4875,      0.4875,     0.61734, ...,           0,           0,           0],\n",
              "       [    0.33735,     0.33735,     0.52495, ...,           0,           0,           0]]), 'Confidence', 'F1'], [array([          0,    0.001001,    0.002002,    0.003003,    0.004004,    0.005005,    0.006006,    0.007007,    0.008008,    0.009009,     0.01001,    0.011011,    0.012012,    0.013013,    0.014014,    0.015015,    0.016016,    0.017017,    0.018018,    0.019019,     0.02002,    0.021021,    0.022022,    0.023023,\n",
              "          0.024024,    0.025025,    0.026026,    0.027027,    0.028028,    0.029029,     0.03003,    0.031031,    0.032032,    0.033033,    0.034034,    0.035035,    0.036036,    0.037037,    0.038038,    0.039039,     0.04004,    0.041041,    0.042042,    0.043043,    0.044044,    0.045045,    0.046046,    0.047047,\n",
              "          0.048048,    0.049049,     0.05005,    0.051051,    0.052052,    0.053053,    0.054054,    0.055055,    0.056056,    0.057057,    0.058058,    0.059059,     0.06006,    0.061061,    0.062062,    0.063063,    0.064064,    0.065065,    0.066066,    0.067067,    0.068068,    0.069069,     0.07007,    0.071071,\n",
              "          0.072072,    0.073073,    0.074074,    0.075075,    0.076076,    0.077077,    0.078078,    0.079079,     0.08008,    0.081081,    0.082082,    0.083083,    0.084084,    0.085085,    0.086086,    0.087087,    0.088088,    0.089089,     0.09009,    0.091091,    0.092092,    0.093093,    0.094094,    0.095095,\n",
              "          0.096096,    0.097097,    0.098098,    0.099099,      0.1001,      0.1011,      0.1021,      0.1031,      0.1041,     0.10511,     0.10611,     0.10711,     0.10811,     0.10911,     0.11011,     0.11111,     0.11211,     0.11311,     0.11411,     0.11512,     0.11612,     0.11712,     0.11812,     0.11912,\n",
              "           0.12012,     0.12112,     0.12212,     0.12312,     0.12412,     0.12513,     0.12613,     0.12713,     0.12813,     0.12913,     0.13013,     0.13113,     0.13213,     0.13313,     0.13413,     0.13514,     0.13614,     0.13714,     0.13814,     0.13914,     0.14014,     0.14114,     0.14214,     0.14314,\n",
              "           0.14414,     0.14515,     0.14615,     0.14715,     0.14815,     0.14915,     0.15015,     0.15115,     0.15215,     0.15315,     0.15415,     0.15516,     0.15616,     0.15716,     0.15816,     0.15916,     0.16016,     0.16116,     0.16216,     0.16316,     0.16416,     0.16517,     0.16617,     0.16717,\n",
              "           0.16817,     0.16917,     0.17017,     0.17117,     0.17217,     0.17317,     0.17417,     0.17518,     0.17618,     0.17718,     0.17818,     0.17918,     0.18018,     0.18118,     0.18218,     0.18318,     0.18418,     0.18519,     0.18619,     0.18719,     0.18819,     0.18919,     0.19019,     0.19119,\n",
              "           0.19219,     0.19319,     0.19419,      0.1952,      0.1962,      0.1972,      0.1982,      0.1992,      0.2002,      0.2012,      0.2022,      0.2032,      0.2042,     0.20521,     0.20621,     0.20721,     0.20821,     0.20921,     0.21021,     0.21121,     0.21221,     0.21321,     0.21421,     0.21522,\n",
              "           0.21622,     0.21722,     0.21822,     0.21922,     0.22022,     0.22122,     0.22222,     0.22322,     0.22422,     0.22523,     0.22623,     0.22723,     0.22823,     0.22923,     0.23023,     0.23123,     0.23223,     0.23323,     0.23423,     0.23524,     0.23624,     0.23724,     0.23824,     0.23924,\n",
              "           0.24024,     0.24124,     0.24224,     0.24324,     0.24424,     0.24525,     0.24625,     0.24725,     0.24825,     0.24925,     0.25025,     0.25125,     0.25225,     0.25325,     0.25425,     0.25526,     0.25626,     0.25726,     0.25826,     0.25926,     0.26026,     0.26126,     0.26226,     0.26326,\n",
              "           0.26426,     0.26527,     0.26627,     0.26727,     0.26827,     0.26927,     0.27027,     0.27127,     0.27227,     0.27327,     0.27427,     0.27528,     0.27628,     0.27728,     0.27828,     0.27928,     0.28028,     0.28128,     0.28228,     0.28328,     0.28428,     0.28529,     0.28629,     0.28729,\n",
              "           0.28829,     0.28929,     0.29029,     0.29129,     0.29229,     0.29329,     0.29429,      0.2953,      0.2963,      0.2973,      0.2983,      0.2993,      0.3003,      0.3013,      0.3023,      0.3033,      0.3043,     0.30531,     0.30631,     0.30731,     0.30831,     0.30931,     0.31031,     0.31131,\n",
              "           0.31231,     0.31331,     0.31431,     0.31532,     0.31632,     0.31732,     0.31832,     0.31932,     0.32032,     0.32132,     0.32232,     0.32332,     0.32432,     0.32533,     0.32633,     0.32733,     0.32833,     0.32933,     0.33033,     0.33133,     0.33233,     0.33333,     0.33433,     0.33534,\n",
              "           0.33634,     0.33734,     0.33834,     0.33934,     0.34034,     0.34134,     0.34234,     0.34334,     0.34434,     0.34535,     0.34635,     0.34735,     0.34835,     0.34935,     0.35035,     0.35135,     0.35235,     0.35335,     0.35435,     0.35536,     0.35636,     0.35736,     0.35836,     0.35936,\n",
              "           0.36036,     0.36136,     0.36236,     0.36336,     0.36436,     0.36537,     0.36637,     0.36737,     0.36837,     0.36937,     0.37037,     0.37137,     0.37237,     0.37337,     0.37437,     0.37538,     0.37638,     0.37738,     0.37838,     0.37938,     0.38038,     0.38138,     0.38238,     0.38338,\n",
              "           0.38438,     0.38539,     0.38639,     0.38739,     0.38839,     0.38939,     0.39039,     0.39139,     0.39239,     0.39339,     0.39439,      0.3954,      0.3964,      0.3974,      0.3984,      0.3994,      0.4004,      0.4014,      0.4024,      0.4034,      0.4044,     0.40541,     0.40641,     0.40741,\n",
              "           0.40841,     0.40941,     0.41041,     0.41141,     0.41241,     0.41341,     0.41441,     0.41542,     0.41642,     0.41742,     0.41842,     0.41942,     0.42042,     0.42142,     0.42242,     0.42342,     0.42442,     0.42543,     0.42643,     0.42743,     0.42843,     0.42943,     0.43043,     0.43143,\n",
              "           0.43243,     0.43343,     0.43443,     0.43544,     0.43644,     0.43744,     0.43844,     0.43944,     0.44044,     0.44144,     0.44244,     0.44344,     0.44444,     0.44545,     0.44645,     0.44745,     0.44845,     0.44945,     0.45045,     0.45145,     0.45245,     0.45345,     0.45445,     0.45546,\n",
              "           0.45646,     0.45746,     0.45846,     0.45946,     0.46046,     0.46146,     0.46246,     0.46346,     0.46446,     0.46547,     0.46647,     0.46747,     0.46847,     0.46947,     0.47047,     0.47147,     0.47247,     0.47347,     0.47447,     0.47548,     0.47648,     0.47748,     0.47848,     0.47948,\n",
              "           0.48048,     0.48148,     0.48248,     0.48348,     0.48448,     0.48549,     0.48649,     0.48749,     0.48849,     0.48949,     0.49049,     0.49149,     0.49249,     0.49349,     0.49449,      0.4955,      0.4965,      0.4975,      0.4985,      0.4995,      0.5005,      0.5015,      0.5025,      0.5035,\n",
              "            0.5045,     0.50551,     0.50651,     0.50751,     0.50851,     0.50951,     0.51051,     0.51151,     0.51251,     0.51351,     0.51451,     0.51552,     0.51652,     0.51752,     0.51852,     0.51952,     0.52052,     0.52152,     0.52252,     0.52352,     0.52452,     0.52553,     0.52653,     0.52753,\n",
              "           0.52853,     0.52953,     0.53053,     0.53153,     0.53253,     0.53353,     0.53453,     0.53554,     0.53654,     0.53754,     0.53854,     0.53954,     0.54054,     0.54154,     0.54254,     0.54354,     0.54454,     0.54555,     0.54655,     0.54755,     0.54855,     0.54955,     0.55055,     0.55155,\n",
              "           0.55255,     0.55355,     0.55455,     0.55556,     0.55656,     0.55756,     0.55856,     0.55956,     0.56056,     0.56156,     0.56256,     0.56356,     0.56456,     0.56557,     0.56657,     0.56757,     0.56857,     0.56957,     0.57057,     0.57157,     0.57257,     0.57357,     0.57457,     0.57558,\n",
              "           0.57658,     0.57758,     0.57858,     0.57958,     0.58058,     0.58158,     0.58258,     0.58358,     0.58458,     0.58559,     0.58659,     0.58759,     0.58859,     0.58959,     0.59059,     0.59159,     0.59259,     0.59359,     0.59459,      0.5956,      0.5966,      0.5976,      0.5986,      0.5996,\n",
              "            0.6006,      0.6016,      0.6026,      0.6036,      0.6046,     0.60561,     0.60661,     0.60761,     0.60861,     0.60961,     0.61061,     0.61161,     0.61261,     0.61361,     0.61461,     0.61562,     0.61662,     0.61762,     0.61862,     0.61962,     0.62062,     0.62162,     0.62262,     0.62362,\n",
              "           0.62462,     0.62563,     0.62663,     0.62763,     0.62863,     0.62963,     0.63063,     0.63163,     0.63263,     0.63363,     0.63463,     0.63564,     0.63664,     0.63764,     0.63864,     0.63964,     0.64064,     0.64164,     0.64264,     0.64364,     0.64464,     0.64565,     0.64665,     0.64765,\n",
              "           0.64865,     0.64965,     0.65065,     0.65165,     0.65265,     0.65365,     0.65465,     0.65566,     0.65666,     0.65766,     0.65866,     0.65966,     0.66066,     0.66166,     0.66266,     0.66366,     0.66466,     0.66567,     0.66667,     0.66767,     0.66867,     0.66967,     0.67067,     0.67167,\n",
              "           0.67267,     0.67367,     0.67467,     0.67568,     0.67668,     0.67768,     0.67868,     0.67968,     0.68068,     0.68168,     0.68268,     0.68368,     0.68468,     0.68569,     0.68669,     0.68769,     0.68869,     0.68969,     0.69069,     0.69169,     0.69269,     0.69369,     0.69469,      0.6957,\n",
              "            0.6967,      0.6977,      0.6987,      0.6997,      0.7007,      0.7017,      0.7027,      0.7037,      0.7047,     0.70571,     0.70671,     0.70771,     0.70871,     0.70971,     0.71071,     0.71171,     0.71271,     0.71371,     0.71471,     0.71572,     0.71672,     0.71772,     0.71872,     0.71972,\n",
              "           0.72072,     0.72172,     0.72272,     0.72372,     0.72472,     0.72573,     0.72673,     0.72773,     0.72873,     0.72973,     0.73073,     0.73173,     0.73273,     0.73373,     0.73473,     0.73574,     0.73674,     0.73774,     0.73874,     0.73974,     0.74074,     0.74174,     0.74274,     0.74374,\n",
              "           0.74474,     0.74575,     0.74675,     0.74775,     0.74875,     0.74975,     0.75075,     0.75175,     0.75275,     0.75375,     0.75475,     0.75576,     0.75676,     0.75776,     0.75876,     0.75976,     0.76076,     0.76176,     0.76276,     0.76376,     0.76476,     0.76577,     0.76677,     0.76777,\n",
              "           0.76877,     0.76977,     0.77077,     0.77177,     0.77277,     0.77377,     0.77477,     0.77578,     0.77678,     0.77778,     0.77878,     0.77978,     0.78078,     0.78178,     0.78278,     0.78378,     0.78478,     0.78579,     0.78679,     0.78779,     0.78879,     0.78979,     0.79079,     0.79179,\n",
              "           0.79279,     0.79379,     0.79479,      0.7958,      0.7968,      0.7978,      0.7988,      0.7998,      0.8008,      0.8018,      0.8028,      0.8038,      0.8048,     0.80581,     0.80681,     0.80781,     0.80881,     0.80981,     0.81081,     0.81181,     0.81281,     0.81381,     0.81481,     0.81582,\n",
              "           0.81682,     0.81782,     0.81882,     0.81982,     0.82082,     0.82182,     0.82282,     0.82382,     0.82482,     0.82583,     0.82683,     0.82783,     0.82883,     0.82983,     0.83083,     0.83183,     0.83283,     0.83383,     0.83483,     0.83584,     0.83684,     0.83784,     0.83884,     0.83984,\n",
              "           0.84084,     0.84184,     0.84284,     0.84384,     0.84484,     0.84585,     0.84685,     0.84785,     0.84885,     0.84985,     0.85085,     0.85185,     0.85285,     0.85385,     0.85485,     0.85586,     0.85686,     0.85786,     0.85886,     0.85986,     0.86086,     0.86186,     0.86286,     0.86386,\n",
              "           0.86486,     0.86587,     0.86687,     0.86787,     0.86887,     0.86987,     0.87087,     0.87187,     0.87287,     0.87387,     0.87487,     0.87588,     0.87688,     0.87788,     0.87888,     0.87988,     0.88088,     0.88188,     0.88288,     0.88388,     0.88488,     0.88589,     0.88689,     0.88789,\n",
              "           0.88889,     0.88989,     0.89089,     0.89189,     0.89289,     0.89389,     0.89489,      0.8959,      0.8969,      0.8979,      0.8989,      0.8999,      0.9009,      0.9019,      0.9029,      0.9039,      0.9049,     0.90591,     0.90691,     0.90791,     0.90891,     0.90991,     0.91091,     0.91191,\n",
              "           0.91291,     0.91391,     0.91491,     0.91592,     0.91692,     0.91792,     0.91892,     0.91992,     0.92092,     0.92192,     0.92292,     0.92392,     0.92492,     0.92593,     0.92693,     0.92793,     0.92893,     0.92993,     0.93093,     0.93193,     0.93293,     0.93393,     0.93493,     0.93594,\n",
              "           0.93694,     0.93794,     0.93894,     0.93994,     0.94094,     0.94194,     0.94294,     0.94394,     0.94494,     0.94595,     0.94695,     0.94795,     0.94895,     0.94995,     0.95095,     0.95195,     0.95295,     0.95395,     0.95495,     0.95596,     0.95696,     0.95796,     0.95896,     0.95996,\n",
              "           0.96096,     0.96196,     0.96296,     0.96396,     0.96496,     0.96597,     0.96697,     0.96797,     0.96897,     0.96997,     0.97097,     0.97197,     0.97297,     0.97397,     0.97497,     0.97598,     0.97698,     0.97798,     0.97898,     0.97998,     0.98098,     0.98198,     0.98298,     0.98398,\n",
              "           0.98498,     0.98599,     0.98699,     0.98799,     0.98899,     0.98999,     0.99099,     0.99199,     0.99299,     0.99399,     0.99499,       0.996,       0.997,       0.998,       0.999,           1]), array([[    0.21477,     0.21477,     0.30911, ...,           1,           1,           1],\n",
              "       [    0.30769,     0.30769,     0.51706, ...,           1,           1,           1],\n",
              "       [      0.325,       0.325,     0.45724, ...,           1,           1,           1],\n",
              "       [     0.2029,      0.2029,     0.35589, ...,           1,           1,           1]]), 'Confidence', 'Precision'], [array([          0,    0.001001,    0.002002,    0.003003,    0.004004,    0.005005,    0.006006,    0.007007,    0.008008,    0.009009,     0.01001,    0.011011,    0.012012,    0.013013,    0.014014,    0.015015,    0.016016,    0.017017,    0.018018,    0.019019,     0.02002,    0.021021,    0.022022,    0.023023,\n",
              "          0.024024,    0.025025,    0.026026,    0.027027,    0.028028,    0.029029,     0.03003,    0.031031,    0.032032,    0.033033,    0.034034,    0.035035,    0.036036,    0.037037,    0.038038,    0.039039,     0.04004,    0.041041,    0.042042,    0.043043,    0.044044,    0.045045,    0.046046,    0.047047,\n",
              "          0.048048,    0.049049,     0.05005,    0.051051,    0.052052,    0.053053,    0.054054,    0.055055,    0.056056,    0.057057,    0.058058,    0.059059,     0.06006,    0.061061,    0.062062,    0.063063,    0.064064,    0.065065,    0.066066,    0.067067,    0.068068,    0.069069,     0.07007,    0.071071,\n",
              "          0.072072,    0.073073,    0.074074,    0.075075,    0.076076,    0.077077,    0.078078,    0.079079,     0.08008,    0.081081,    0.082082,    0.083083,    0.084084,    0.085085,    0.086086,    0.087087,    0.088088,    0.089089,     0.09009,    0.091091,    0.092092,    0.093093,    0.094094,    0.095095,\n",
              "          0.096096,    0.097097,    0.098098,    0.099099,      0.1001,      0.1011,      0.1021,      0.1031,      0.1041,     0.10511,     0.10611,     0.10711,     0.10811,     0.10911,     0.11011,     0.11111,     0.11211,     0.11311,     0.11411,     0.11512,     0.11612,     0.11712,     0.11812,     0.11912,\n",
              "           0.12012,     0.12112,     0.12212,     0.12312,     0.12412,     0.12513,     0.12613,     0.12713,     0.12813,     0.12913,     0.13013,     0.13113,     0.13213,     0.13313,     0.13413,     0.13514,     0.13614,     0.13714,     0.13814,     0.13914,     0.14014,     0.14114,     0.14214,     0.14314,\n",
              "           0.14414,     0.14515,     0.14615,     0.14715,     0.14815,     0.14915,     0.15015,     0.15115,     0.15215,     0.15315,     0.15415,     0.15516,     0.15616,     0.15716,     0.15816,     0.15916,     0.16016,     0.16116,     0.16216,     0.16316,     0.16416,     0.16517,     0.16617,     0.16717,\n",
              "           0.16817,     0.16917,     0.17017,     0.17117,     0.17217,     0.17317,     0.17417,     0.17518,     0.17618,     0.17718,     0.17818,     0.17918,     0.18018,     0.18118,     0.18218,     0.18318,     0.18418,     0.18519,     0.18619,     0.18719,     0.18819,     0.18919,     0.19019,     0.19119,\n",
              "           0.19219,     0.19319,     0.19419,      0.1952,      0.1962,      0.1972,      0.1982,      0.1992,      0.2002,      0.2012,      0.2022,      0.2032,      0.2042,     0.20521,     0.20621,     0.20721,     0.20821,     0.20921,     0.21021,     0.21121,     0.21221,     0.21321,     0.21421,     0.21522,\n",
              "           0.21622,     0.21722,     0.21822,     0.21922,     0.22022,     0.22122,     0.22222,     0.22322,     0.22422,     0.22523,     0.22623,     0.22723,     0.22823,     0.22923,     0.23023,     0.23123,     0.23223,     0.23323,     0.23423,     0.23524,     0.23624,     0.23724,     0.23824,     0.23924,\n",
              "           0.24024,     0.24124,     0.24224,     0.24324,     0.24424,     0.24525,     0.24625,     0.24725,     0.24825,     0.24925,     0.25025,     0.25125,     0.25225,     0.25325,     0.25425,     0.25526,     0.25626,     0.25726,     0.25826,     0.25926,     0.26026,     0.26126,     0.26226,     0.26326,\n",
              "           0.26426,     0.26527,     0.26627,     0.26727,     0.26827,     0.26927,     0.27027,     0.27127,     0.27227,     0.27327,     0.27427,     0.27528,     0.27628,     0.27728,     0.27828,     0.27928,     0.28028,     0.28128,     0.28228,     0.28328,     0.28428,     0.28529,     0.28629,     0.28729,\n",
              "           0.28829,     0.28929,     0.29029,     0.29129,     0.29229,     0.29329,     0.29429,      0.2953,      0.2963,      0.2973,      0.2983,      0.2993,      0.3003,      0.3013,      0.3023,      0.3033,      0.3043,     0.30531,     0.30631,     0.30731,     0.30831,     0.30931,     0.31031,     0.31131,\n",
              "           0.31231,     0.31331,     0.31431,     0.31532,     0.31632,     0.31732,     0.31832,     0.31932,     0.32032,     0.32132,     0.32232,     0.32332,     0.32432,     0.32533,     0.32633,     0.32733,     0.32833,     0.32933,     0.33033,     0.33133,     0.33233,     0.33333,     0.33433,     0.33534,\n",
              "           0.33634,     0.33734,     0.33834,     0.33934,     0.34034,     0.34134,     0.34234,     0.34334,     0.34434,     0.34535,     0.34635,     0.34735,     0.34835,     0.34935,     0.35035,     0.35135,     0.35235,     0.35335,     0.35435,     0.35536,     0.35636,     0.35736,     0.35836,     0.35936,\n",
              "           0.36036,     0.36136,     0.36236,     0.36336,     0.36436,     0.36537,     0.36637,     0.36737,     0.36837,     0.36937,     0.37037,     0.37137,     0.37237,     0.37337,     0.37437,     0.37538,     0.37638,     0.37738,     0.37838,     0.37938,     0.38038,     0.38138,     0.38238,     0.38338,\n",
              "           0.38438,     0.38539,     0.38639,     0.38739,     0.38839,     0.38939,     0.39039,     0.39139,     0.39239,     0.39339,     0.39439,      0.3954,      0.3964,      0.3974,      0.3984,      0.3994,      0.4004,      0.4014,      0.4024,      0.4034,      0.4044,     0.40541,     0.40641,     0.40741,\n",
              "           0.40841,     0.40941,     0.41041,     0.41141,     0.41241,     0.41341,     0.41441,     0.41542,     0.41642,     0.41742,     0.41842,     0.41942,     0.42042,     0.42142,     0.42242,     0.42342,     0.42442,     0.42543,     0.42643,     0.42743,     0.42843,     0.42943,     0.43043,     0.43143,\n",
              "           0.43243,     0.43343,     0.43443,     0.43544,     0.43644,     0.43744,     0.43844,     0.43944,     0.44044,     0.44144,     0.44244,     0.44344,     0.44444,     0.44545,     0.44645,     0.44745,     0.44845,     0.44945,     0.45045,     0.45145,     0.45245,     0.45345,     0.45445,     0.45546,\n",
              "           0.45646,     0.45746,     0.45846,     0.45946,     0.46046,     0.46146,     0.46246,     0.46346,     0.46446,     0.46547,     0.46647,     0.46747,     0.46847,     0.46947,     0.47047,     0.47147,     0.47247,     0.47347,     0.47447,     0.47548,     0.47648,     0.47748,     0.47848,     0.47948,\n",
              "           0.48048,     0.48148,     0.48248,     0.48348,     0.48448,     0.48549,     0.48649,     0.48749,     0.48849,     0.48949,     0.49049,     0.49149,     0.49249,     0.49349,     0.49449,      0.4955,      0.4965,      0.4975,      0.4985,      0.4995,      0.5005,      0.5015,      0.5025,      0.5035,\n",
              "            0.5045,     0.50551,     0.50651,     0.50751,     0.50851,     0.50951,     0.51051,     0.51151,     0.51251,     0.51351,     0.51451,     0.51552,     0.51652,     0.51752,     0.51852,     0.51952,     0.52052,     0.52152,     0.52252,     0.52352,     0.52452,     0.52553,     0.52653,     0.52753,\n",
              "           0.52853,     0.52953,     0.53053,     0.53153,     0.53253,     0.53353,     0.53453,     0.53554,     0.53654,     0.53754,     0.53854,     0.53954,     0.54054,     0.54154,     0.54254,     0.54354,     0.54454,     0.54555,     0.54655,     0.54755,     0.54855,     0.54955,     0.55055,     0.55155,\n",
              "           0.55255,     0.55355,     0.55455,     0.55556,     0.55656,     0.55756,     0.55856,     0.55956,     0.56056,     0.56156,     0.56256,     0.56356,     0.56456,     0.56557,     0.56657,     0.56757,     0.56857,     0.56957,     0.57057,     0.57157,     0.57257,     0.57357,     0.57457,     0.57558,\n",
              "           0.57658,     0.57758,     0.57858,     0.57958,     0.58058,     0.58158,     0.58258,     0.58358,     0.58458,     0.58559,     0.58659,     0.58759,     0.58859,     0.58959,     0.59059,     0.59159,     0.59259,     0.59359,     0.59459,      0.5956,      0.5966,      0.5976,      0.5986,      0.5996,\n",
              "            0.6006,      0.6016,      0.6026,      0.6036,      0.6046,     0.60561,     0.60661,     0.60761,     0.60861,     0.60961,     0.61061,     0.61161,     0.61261,     0.61361,     0.61461,     0.61562,     0.61662,     0.61762,     0.61862,     0.61962,     0.62062,     0.62162,     0.62262,     0.62362,\n",
              "           0.62462,     0.62563,     0.62663,     0.62763,     0.62863,     0.62963,     0.63063,     0.63163,     0.63263,     0.63363,     0.63463,     0.63564,     0.63664,     0.63764,     0.63864,     0.63964,     0.64064,     0.64164,     0.64264,     0.64364,     0.64464,     0.64565,     0.64665,     0.64765,\n",
              "           0.64865,     0.64965,     0.65065,     0.65165,     0.65265,     0.65365,     0.65465,     0.65566,     0.65666,     0.65766,     0.65866,     0.65966,     0.66066,     0.66166,     0.66266,     0.66366,     0.66466,     0.66567,     0.66667,     0.66767,     0.66867,     0.66967,     0.67067,     0.67167,\n",
              "           0.67267,     0.67367,     0.67467,     0.67568,     0.67668,     0.67768,     0.67868,     0.67968,     0.68068,     0.68168,     0.68268,     0.68368,     0.68468,     0.68569,     0.68669,     0.68769,     0.68869,     0.68969,     0.69069,     0.69169,     0.69269,     0.69369,     0.69469,      0.6957,\n",
              "            0.6967,      0.6977,      0.6987,      0.6997,      0.7007,      0.7017,      0.7027,      0.7037,      0.7047,     0.70571,     0.70671,     0.70771,     0.70871,     0.70971,     0.71071,     0.71171,     0.71271,     0.71371,     0.71471,     0.71572,     0.71672,     0.71772,     0.71872,     0.71972,\n",
              "           0.72072,     0.72172,     0.72272,     0.72372,     0.72472,     0.72573,     0.72673,     0.72773,     0.72873,     0.72973,     0.73073,     0.73173,     0.73273,     0.73373,     0.73473,     0.73574,     0.73674,     0.73774,     0.73874,     0.73974,     0.74074,     0.74174,     0.74274,     0.74374,\n",
              "           0.74474,     0.74575,     0.74675,     0.74775,     0.74875,     0.74975,     0.75075,     0.75175,     0.75275,     0.75375,     0.75475,     0.75576,     0.75676,     0.75776,     0.75876,     0.75976,     0.76076,     0.76176,     0.76276,     0.76376,     0.76476,     0.76577,     0.76677,     0.76777,\n",
              "           0.76877,     0.76977,     0.77077,     0.77177,     0.77277,     0.77377,     0.77477,     0.77578,     0.77678,     0.77778,     0.77878,     0.77978,     0.78078,     0.78178,     0.78278,     0.78378,     0.78478,     0.78579,     0.78679,     0.78779,     0.78879,     0.78979,     0.79079,     0.79179,\n",
              "           0.79279,     0.79379,     0.79479,      0.7958,      0.7968,      0.7978,      0.7988,      0.7998,      0.8008,      0.8018,      0.8028,      0.8038,      0.8048,     0.80581,     0.80681,     0.80781,     0.80881,     0.80981,     0.81081,     0.81181,     0.81281,     0.81381,     0.81481,     0.81582,\n",
              "           0.81682,     0.81782,     0.81882,     0.81982,     0.82082,     0.82182,     0.82282,     0.82382,     0.82482,     0.82583,     0.82683,     0.82783,     0.82883,     0.82983,     0.83083,     0.83183,     0.83283,     0.83383,     0.83483,     0.83584,     0.83684,     0.83784,     0.83884,     0.83984,\n",
              "           0.84084,     0.84184,     0.84284,     0.84384,     0.84484,     0.84585,     0.84685,     0.84785,     0.84885,     0.84985,     0.85085,     0.85185,     0.85285,     0.85385,     0.85485,     0.85586,     0.85686,     0.85786,     0.85886,     0.85986,     0.86086,     0.86186,     0.86286,     0.86386,\n",
              "           0.86486,     0.86587,     0.86687,     0.86787,     0.86887,     0.86987,     0.87087,     0.87187,     0.87287,     0.87387,     0.87487,     0.87588,     0.87688,     0.87788,     0.87888,     0.87988,     0.88088,     0.88188,     0.88288,     0.88388,     0.88488,     0.88589,     0.88689,     0.88789,\n",
              "           0.88889,     0.88989,     0.89089,     0.89189,     0.89289,     0.89389,     0.89489,      0.8959,      0.8969,      0.8979,      0.8989,      0.8999,      0.9009,      0.9019,      0.9029,      0.9039,      0.9049,     0.90591,     0.90691,     0.90791,     0.90891,     0.90991,     0.91091,     0.91191,\n",
              "           0.91291,     0.91391,     0.91491,     0.91592,     0.91692,     0.91792,     0.91892,     0.91992,     0.92092,     0.92192,     0.92292,     0.92392,     0.92492,     0.92593,     0.92693,     0.92793,     0.92893,     0.92993,     0.93093,     0.93193,     0.93293,     0.93393,     0.93493,     0.93594,\n",
              "           0.93694,     0.93794,     0.93894,     0.93994,     0.94094,     0.94194,     0.94294,     0.94394,     0.94494,     0.94595,     0.94695,     0.94795,     0.94895,     0.94995,     0.95095,     0.95195,     0.95295,     0.95395,     0.95495,     0.95596,     0.95696,     0.95796,     0.95896,     0.95996,\n",
              "           0.96096,     0.96196,     0.96296,     0.96396,     0.96496,     0.96597,     0.96697,     0.96797,     0.96897,     0.96997,     0.97097,     0.97197,     0.97297,     0.97397,     0.97497,     0.97598,     0.97698,     0.97798,     0.97898,     0.97998,     0.98098,     0.98198,     0.98298,     0.98398,\n",
              "           0.98498,     0.98599,     0.98699,     0.98799,     0.98899,     0.98999,     0.99099,     0.99199,     0.99299,     0.99399,     0.99499,       0.996,       0.997,       0.998,       0.999,           1]), array([[          1,           1,           1, ...,           0,           0,           0],\n",
              "       [          1,           1,           1, ...,           0,           0,           0],\n",
              "       [      0.975,       0.975,        0.95, ...,           0,           0,           0],\n",
              "       [          1,           1,           1, ...,           0,           0,           0]]), 'Confidence', 'Recall']]\n",
              "fitness: 0.9076632981111605\n",
              "keys: ['metrics/precision(B)', 'metrics/recall(B)', 'metrics/mAP50(B)', 'metrics/mAP50-95(B)']\n",
              "maps: array([    0.92501,      0.9409,     0.87151,     0.86782])\n",
              "names: {0: 'Blue_Shirts', 1: 'White_Shirts', 2: 'Grey_Shirt', 3: 'Black_Shirt'}\n",
              "plot: True\n",
              "results_dict: {'metrics/precision(B)': 0.9127247397848322, 'metrics/recall(B)': 0.9435153613441289, 'metrics/mAP50(B)': 0.9648235394549926, 'metrics/mAP50-95(B)': 0.901312160184068, 'fitness': 0.9076632981111605}\n",
              "save_dir: PosixPath('runs/detect/train8')\n",
              "speed: {'preprocess': 0.21093090375264487, 'inference': 2.5393585364023847, 'loss': 0.0005483627319335938, 'postprocess': 7.199015220006307}\n",
              "task: 'detect'"
            ]
          },
          "execution_count": 29,
          "metadata": {},
          "output_type": "execute_result"
        }
      ],
      "source": [
        "from ultralytics import YOLO\n",
        "\n",
        "# Initialize the model (using a pre-trained YOLOv8n model)\n",
        "model = YOLO('yolov8n.pt')\n",
        "\n",
        "# Train the model\n",
        "model.train(\n",
        "    data='shirts.yaml',   # Path to the dataset configuration file\n",
        "    epochs=100,           # Number of training epochs\n",
        "    imgsz=640,            # Image size\n",
        "    batch=16,             # Batch size\n",
        "\n",
        ")\n"
      ]
    },
    {
      "cell_type": "code",
      "execution_count": 31,
      "metadata": {
        "colab": {
          "base_uri": "https://localhost:8080/",
          "height": 36
        },
        "id": "Q5rslxB2WQC6",
        "outputId": "d00b456e-5d27-4ecb-c02b-d08e859c090e"
      },
      "outputs": [
        {
          "data": {
            "application/vnd.google.colaboratory.intrinsic+json": {
              "type": "string"
            },
            "text/plain": [
              "'/content/train8.zip'"
            ]
          },
          "execution_count": 31,
          "metadata": {},
          "output_type": "execute_result"
        }
      ],
      "source": [
        "import shutil\n",
        "\n",
        "shutil.make_archive('train8', 'zip', '/content/runs/detect/train8')\n"
      ]
    },
    {
      "cell_type": "code",
      "execution_count": null,
      "metadata": {
        "id": "c7Qkt8WLQNkF"
      },
      "outputs": [],
      "source": []
    }
  ],
  "metadata": {
    "accelerator": "GPU",
    "colab": {
      "gpuType": "T4",
      "provenance": []
    },
    "kernelspec": {
      "display_name": "Python 3",
      "name": "python3"
    },
    "language_info": {
      "name": "python"
    }
  },
  "nbformat": 4,
  "nbformat_minor": 0
}
